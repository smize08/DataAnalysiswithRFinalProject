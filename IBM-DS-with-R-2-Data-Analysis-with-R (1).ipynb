{
 "cells": [
  {
   "cell_type": "markdown",
   "metadata": {},
   "source": [
    "<center><img src=\"https://cf-courses-data.s3.us.cloud-object-storage.appdomain.cloud/assets/logos/SN_web_lightmode.png\" width=\"300\"></center><br/>\n",
    "\n",
    "# Assignment: Notebook for Peer Assignment\n",
    "\n",
    "Estimated time needed: 60 minutes\n"
   ]
  },
  {
   "cell_type": "markdown",
   "metadata": {},
   "source": [
    "# Assignment Scenario\n",
    "\n",
    "Congratulations! You have just been hired by a US Weather forecast firm as a data scientist.\n",
    "\n",
    "The company is considering the weather condition to help predict the possibility of precipitations, which involves using various local climatological variables, including temperature, wind speed, humidity, dew point, and pressure. The data you will be handling was collected by a NOAA weather station located at the John F. Kennedy International Airport in Queens, New York.\n",
    "\n",
    "Your task is to provide a high level analysis of weather data in JFK Airport. Your stakeholders want to understand the current and historical record of precipitations based on different variables. For now they are mainly interested in a macro-view of JFK Airport Weather, and how it relates to the possibility to rain because it will affect flight delays and etc.\n"
   ]
  },
  {
   "cell_type": "markdown",
   "metadata": {},
   "source": [
    "# Introduction\n",
    "\n",
    "This project relates to the NOAA Weather Dataset - JFK Airport (New York). The original dataset contains 114,546 hourly observations of 12 local climatological variables (such as temperature and wind speed) collected at JFK airport. This dataset can be obtained for free from the IBM Developer [Data Asset Exchange](https://developer.ibm.com/exchanges/data/all/jfk-weather-data/?utm_medium=Exinfluencer&utm_source=Exinfluencer&utm_content=000026UJ&utm_term=10006555&utm_id=NA-SkillsNetwork-Channel-SkillsNetworkCoursesIBMDA0151ENSkillsNetwork926-2022-01-01). \n",
    "\n",
    "For this project, you will be using a subset dataset, which contains 5727 rows (about 5% or original rows) and 9 columns. The end goal will be to predict the precipitation using some of the available features. In this project, you will practice reading data files, preprocessing data, creating models, improving models and evaluating them to ultimately choose the best model.\n",
    "\n"
   ]
  },
  {
   "cell_type": "markdown",
   "metadata": {},
   "source": [
    "\n",
    "## Table of Contents:\n",
    "\n",
    "Using this R notebook you will complete **10 tasks**:\n",
    "* [0. Import Modules](#cell0)\n",
    "* [1. Download and Unzip NOAA Weather Dataset](#cell1)\n",
    "* [2. Read Dataset into Project](#cell2)\n",
    "* [3. Select Subset of Columns](#cell3)\n",
    "* [4. Clean Up Columns](#cell4)\n",
    "* [5. Convert Columns to Numerical Types](#cell5)\n",
    "* [6. Rename Columns](#cell6)\n",
    "* [7. Exploratory Data Analysis](#cell7)\n",
    "* [8. Linear Regression](#cell8)\n",
    "* [9. Improve the Model](#cell9)\n",
    "* [10. Find Best Model](#cell10)\n",
    "\n",
    "\n",
    "<a id=\"cell0\"></a>\n",
    "## 0. Import required modules\n",
    "\n",
    "Below, install \"tidymodels\", additionally \"rlang\" should be updated in order to properly run \"tidymodels\". \n"
   ]
  },
  {
   "cell_type": "code",
   "execution_count": 1,
   "metadata": {},
   "outputs": [
    {
     "name": "stderr",
     "output_type": "stream",
     "text": [
      "Updating HTML index of packages in '.Library'\n",
      "Making 'packages.html' ... done\n",
      "also installing the dependencies ‘cachem’, ‘tzdb’, ‘timechange’, ‘warp’, ‘stringi’, ‘memoise’, ‘vctrs’, ‘lifecycle’, ‘pillar’, ‘tidyselect’, ‘scales’, ‘withr’, ‘glue’, ‘patchwork’, ‘generics’, ‘clock’, ‘ipred’, ‘lubridate’, ‘slider’, ‘purrr’, ‘stringr’, ‘cpp11’, ‘modelenv’, ‘broom’, ‘cli’, ‘conflicted’, ‘dials’, ‘dplyr’, ‘ggplot2’, ‘hardhat’, ‘infer’, ‘modeldata’, ‘parsnip’, ‘recipes’, ‘rsample’, ‘rstudioapi’, ‘tibble’, ‘tidyr’, ‘tune’, ‘workflows’, ‘workflowsets’, ‘yardstick’\n",
      "\n",
      "Updating HTML index of packages in '.Library'\n",
      "Making 'packages.html' ... done\n"
     ]
    }
   ],
   "source": [
    "# Install tidymodels if you haven't done so\n",
    "install.packages(\"rlang\")\n",
    "install.packages(\"tidymodels\")"
   ]
  },
  {
   "cell_type": "markdown",
   "metadata": {},
   "source": [
    "**Note: After installing the packages, restart the kernel. Without installing the packages again, load them. Tidyverse and Tidymodels will be the two main packages you will use.**\n"
   ]
  },
  {
   "cell_type": "code",
   "execution_count": 1,
   "metadata": {},
   "outputs": [
    {
     "name": "stderr",
     "output_type": "stream",
     "text": [
      "── Attaching packages ────────────────────────────────────── tidymodels 0.1.0 ──\n",
      "✔ broom     0.5.6      ✔ recipes   0.1.12\n",
      "✔ dials     0.0.6      ✔ rsample   0.0.5 \n",
      "✔ dplyr     0.8.5      ✔ tibble    3.0.1 \n",
      "✔ ggplot2   3.3.0      ✔ tune      0.1.0 \n",
      "✔ infer     0.5.1      ✔ workflows 0.1.1 \n",
      "✔ parsnip   0.1.0      ✔ yardstick 0.0.6 \n",
      "✔ purrr     0.3.4      \n",
      "── Conflicts ───────────────────────────────────────── tidymodels_conflicts() ──\n",
      "✖ purrr::discard()  masks scales::discard()\n",
      "✖ dplyr::filter()   masks stats::filter()\n",
      "✖ dplyr::lag()      masks stats::lag()\n",
      "✖ ggplot2::margin() masks dials::margin()\n",
      "✖ recipes::step()   masks stats::step()\n",
      "── Attaching packages ─────────────────────────────────────── tidyverse 1.3.0 ──\n",
      "✔ readr   1.3.1     ✔ forcats 0.5.0\n",
      "✔ stringr 1.4.0     \n",
      "── Conflicts ────────────────────────────────────────── tidyverse_conflicts() ──\n",
      "✖ readr::col_factor() masks scales::col_factor()\n",
      "✖ purrr::discard()    masks scales::discard()\n",
      "✖ dplyr::filter()     masks stats::filter()\n",
      "✖ stringr::fixed()    masks recipes::fixed()\n",
      "✖ dplyr::lag()        masks stats::lag()\n",
      "✖ ggplot2::margin()   masks dials::margin()\n",
      "✖ readr::spec()       masks yardstick::spec()\n"
     ]
    }
   ],
   "source": [
    "# Library for modeling\n",
    "library(tidymodels)\n",
    "\n",
    "# Load tidyverse\n",
    "library(tidyverse)"
   ]
  },
  {
   "cell_type": "markdown",
   "metadata": {},
   "source": [
    "\n",
    "### Understand the Dataset\n",
    "\n",
    "The original NOAA JFK dataset contains 114,546 hourly observations of various local climatological variables (including temperature, wind speed, humidity, dew point, and pressure). \n",
    "\n",
    "In this project you will use a sample dataset, which is around 293 KB. [Link to the sample dataset](https://dax-cdn.cdn.appdomain.cloud/dax-noaa-weather-data-jfk-airport/1.1.4/noaa-weather-sample-data.tar.gz).\n",
    "\n",
    "The sample contains 5727 rows (about 5% or original rows) and 9 columns, which are:\n",
    "- DATE\n",
    "- HOURLYDewPointTempF\n",
    "- HOURLYRelativeHumidity\n",
    "- HOURLYDRYBULBTEMPF\n",
    "- HOURLYWETBULBTEMPF\n",
    "- HOURLYPrecip\n",
    "- HOURLYWindSpeed\n",
    "- HOURLYSeaLevelPressure\n",
    "- HOURLYStationPressure\n",
    "\n",
    "The original dataset is much bigger. Feel free to explore the original dataset. [Link to the original dataset.](https://dax-cdn.cdn.appdomain.cloud/dax-noaa-weather-data-jfk-airport/1.1.4/noaa_weather.html) \n",
    "\n",
    "For more information about the dataset, checkout the [preview](https://dax-cdn.cdn.appdomain.cloud/dax-noaa-weather-data-jfk-airport/1.1.4/data-preview/index.html?_ga=2.176781478.281508226.1616293518-1509963377.1616117067&cm_mc_uid=90945889198916153255549&cm_mc_sid_50200000=64650651616293516933) of NOAA Weather - JFK Airport.\n"
   ]
  },
  {
   "cell_type": "markdown",
   "metadata": {},
   "source": [
    "URL = 'https://dax-cdn.cdn.appdomain.cloud/dax-noaa-weather-data-jfk-airport/1.1.4/noaa-weather-sample-data.tar.gz'\n",
    "<a id=\"cell1\"></a>\n",
    "\n",
    "## 1. Download NOAA Weather Dataset\n",
    "\n",
    "Use the `download.file()` function to download the sample dataset from the URL below.\n",
    "\n",
    "URL = 'https://dax-cdn.cdn.appdomain.cloud/dax-noaa-weather-data-jfk-airport/1.1.4/noaa-weather-sample-data.tar.gz'\n"
   ]
  },
  {
   "cell_type": "code",
   "execution_count": 2,
   "metadata": {},
   "outputs": [],
   "source": [
    "url = 'https://dax-cdn.cdn.appdomain.cloud/dax-noaa-weather-data-jfk-airport/1.1.4/noaa-weather-sample-data.tar.gz'\n",
    "\n",
    "download.file(url, destfile = 'noaa_weather_sample_data.tar.gz')"
   ]
  },
  {
   "cell_type": "markdown",
   "metadata": {},
   "source": [
    "Untar the zipped file.\n"
   ]
  },
  {
   "cell_type": "code",
   "execution_count": 3,
   "metadata": {},
   "outputs": [
    {
     "name": "stderr",
     "output_type": "stream",
     "text": [
      "Warning message in untar2(tarfile, files, list, exdir, restore_times):\n",
      "“using pax extended headers”"
     ]
    }
   ],
   "source": [
    "untar('noaa_weather_sample_data.tar.gz', tar = 'internal')"
   ]
  },
  {
   "cell_type": "markdown",
   "metadata": {},
   "source": [
    "<a id=\"cell2\"></a>\n",
    "## 2. Extract and Read into Project\n",
    "We start by reading in the raw dataset. You should specify the file name as \"noaa-weather-sample-data/jfk_weather_sample.csv\".\n"
   ]
  },
  {
   "cell_type": "code",
   "execution_count": 4,
   "metadata": {},
   "outputs": [],
   "source": [
    "sub_weather <- read_csv(\"noaa-weather-sample-data/jfk_weather_sample.csv\",\n",
    "                     col_types = cols(\n",
    "                         'HOURLYDewPointTempF' = col_number(), \n",
    "                         'HOURLYRelativeHumidity' = col_number()))\n",
    "                            "
   ]
  },
  {
   "cell_type": "markdown",
   "metadata": {},
   "source": [
    "Next, display the first few rows of the dataframe.\n"
   ]
  },
  {
   "cell_type": "code",
   "execution_count": 5,
   "metadata": {},
   "outputs": [
    {
     "data": {
      "text/html": [
       "<table>\n",
       "<caption>A tibble: 6 × 9</caption>\n",
       "<thead>\n",
       "\t<tr><th scope=col>DATE</th><th scope=col>HOURLYDewPointTempF</th><th scope=col>HOURLYRelativeHumidity</th><th scope=col>HOURLYDRYBULBTEMPF</th><th scope=col>HOURLYWETBULBTEMPF</th><th scope=col>HOURLYPrecip</th><th scope=col>HOURLYWindSpeed</th><th scope=col>HOURLYSeaLevelPressure</th><th scope=col>HOURLYStationPressure</th></tr>\n",
       "\t<tr><th scope=col>&lt;dttm&gt;</th><th scope=col>&lt;dbl&gt;</th><th scope=col>&lt;dbl&gt;</th><th scope=col>&lt;dbl&gt;</th><th scope=col>&lt;dbl&gt;</th><th scope=col>&lt;chr&gt;</th><th scope=col>&lt;dbl&gt;</th><th scope=col>&lt;dbl&gt;</th><th scope=col>&lt;dbl&gt;</th></tr>\n",
       "</thead>\n",
       "<tbody>\n",
       "\t<tr><td>2015-07-25 13:51:00</td><td>60</td><td>46</td><td>83</td><td>68</td><td>0.00</td><td>13</td><td>30.01</td><td>29.99</td></tr>\n",
       "\t<tr><td>2016-11-18 23:51:00</td><td>34</td><td>48</td><td>53</td><td>44</td><td>0.00</td><td> 6</td><td>30.05</td><td>30.03</td></tr>\n",
       "\t<tr><td>2013-01-06 08:51:00</td><td>33</td><td>89</td><td>36</td><td>35</td><td>0.00</td><td>13</td><td>30.14</td><td>30.12</td></tr>\n",
       "\t<tr><td>2011-01-27 16:51:00</td><td>18</td><td>48</td><td>36</td><td>30</td><td>0.00</td><td>14</td><td>29.82</td><td>29.80</td></tr>\n",
       "\t<tr><td>2015-01-03 12:16:00</td><td>27</td><td>61</td><td>39</td><td>34</td><td>T   </td><td>11</td><td>   NA</td><td>30.50</td></tr>\n",
       "\t<tr><td>2013-02-15 20:51:00</td><td>35</td><td>79</td><td>41</td><td>38</td><td>0.00</td><td> 6</td><td>29.94</td><td>29.92</td></tr>\n",
       "</tbody>\n",
       "</table>\n"
      ],
      "text/latex": [
       "A tibble: 6 × 9\n",
       "\\begin{tabular}{lllllllll}\n",
       " DATE & HOURLYDewPointTempF & HOURLYRelativeHumidity & HOURLYDRYBULBTEMPF & HOURLYWETBULBTEMPF & HOURLYPrecip & HOURLYWindSpeed & HOURLYSeaLevelPressure & HOURLYStationPressure\\\\\n",
       " <dttm> & <dbl> & <dbl> & <dbl> & <dbl> & <chr> & <dbl> & <dbl> & <dbl>\\\\\n",
       "\\hline\n",
       "\t 2015-07-25 13:51:00 & 60 & 46 & 83 & 68 & 0.00 & 13 & 30.01 & 29.99\\\\\n",
       "\t 2016-11-18 23:51:00 & 34 & 48 & 53 & 44 & 0.00 &  6 & 30.05 & 30.03\\\\\n",
       "\t 2013-01-06 08:51:00 & 33 & 89 & 36 & 35 & 0.00 & 13 & 30.14 & 30.12\\\\\n",
       "\t 2011-01-27 16:51:00 & 18 & 48 & 36 & 30 & 0.00 & 14 & 29.82 & 29.80\\\\\n",
       "\t 2015-01-03 12:16:00 & 27 & 61 & 39 & 34 & T    & 11 &    NA & 30.50\\\\\n",
       "\t 2013-02-15 20:51:00 & 35 & 79 & 41 & 38 & 0.00 &  6 & 29.94 & 29.92\\\\\n",
       "\\end{tabular}\n"
      ],
      "text/markdown": [
       "\n",
       "A tibble: 6 × 9\n",
       "\n",
       "| DATE &lt;dttm&gt; | HOURLYDewPointTempF &lt;dbl&gt; | HOURLYRelativeHumidity &lt;dbl&gt; | HOURLYDRYBULBTEMPF &lt;dbl&gt; | HOURLYWETBULBTEMPF &lt;dbl&gt; | HOURLYPrecip &lt;chr&gt; | HOURLYWindSpeed &lt;dbl&gt; | HOURLYSeaLevelPressure &lt;dbl&gt; | HOURLYStationPressure &lt;dbl&gt; |\n",
       "|---|---|---|---|---|---|---|---|---|\n",
       "| 2015-07-25 13:51:00 | 60 | 46 | 83 | 68 | 0.00 | 13 | 30.01 | 29.99 |\n",
       "| 2016-11-18 23:51:00 | 34 | 48 | 53 | 44 | 0.00 |  6 | 30.05 | 30.03 |\n",
       "| 2013-01-06 08:51:00 | 33 | 89 | 36 | 35 | 0.00 | 13 | 30.14 | 30.12 |\n",
       "| 2011-01-27 16:51:00 | 18 | 48 | 36 | 30 | 0.00 | 14 | 29.82 | 29.80 |\n",
       "| 2015-01-03 12:16:00 | 27 | 61 | 39 | 34 | T    | 11 |    NA | 30.50 |\n",
       "| 2013-02-15 20:51:00 | 35 | 79 | 41 | 38 | 0.00 |  6 | 29.94 | 29.92 |\n",
       "\n"
      ],
      "text/plain": [
       "  DATE                HOURLYDewPointTempF HOURLYRelativeHumidity\n",
       "1 2015-07-25 13:51:00 60                  46                    \n",
       "2 2016-11-18 23:51:00 34                  48                    \n",
       "3 2013-01-06 08:51:00 33                  89                    \n",
       "4 2011-01-27 16:51:00 18                  48                    \n",
       "5 2015-01-03 12:16:00 27                  61                    \n",
       "6 2013-02-15 20:51:00 35                  79                    \n",
       "  HOURLYDRYBULBTEMPF HOURLYWETBULBTEMPF HOURLYPrecip HOURLYWindSpeed\n",
       "1 83                 68                 0.00         13             \n",
       "2 53                 44                 0.00          6             \n",
       "3 36                 35                 0.00         13             \n",
       "4 36                 30                 0.00         14             \n",
       "5 39                 34                 T            11             \n",
       "6 41                 38                 0.00          6             \n",
       "  HOURLYSeaLevelPressure HOURLYStationPressure\n",
       "1 30.01                  29.99                \n",
       "2 30.05                  30.03                \n",
       "3 30.14                  30.12                \n",
       "4 29.82                  29.80                \n",
       "5    NA                  30.50                \n",
       "6 29.94                  29.92                "
      ]
     },
     "metadata": {},
     "output_type": "display_data"
    }
   ],
   "source": [
    "head(sub_weather)"
   ]
  },
  {
   "cell_type": "markdown",
   "metadata": {},
   "source": [
    "Also, take a `glimpse` of the dataset to see the different column data types and make sure it is the correct subset dataset with about 5700 rows and 9 columns.\n"
   ]
  },
  {
   "cell_type": "code",
   "execution_count": 6,
   "metadata": {},
   "outputs": [
    {
     "name": "stdout",
     "output_type": "stream",
     "text": [
      "Rows: 5,727\n",
      "Columns: 9\n",
      "$ DATE                   <dttm> 2015-07-25 13:51:00, 2016-11-18 23:51:00, 201…\n",
      "$ HOURLYDewPointTempF    <dbl> 60, 34, 33, 18, 27, 35, 4, 14, 51, 71, 76, 19,…\n",
      "$ HOURLYRelativeHumidity <dbl> 46, 48, 89, 48, 61, 79, 51, 65, 90, 94, 79, 37…\n",
      "$ HOURLYDRYBULBTEMPF     <dbl> 83, 53, 36, 36, 39, 41, 19, 24, 54, 73, 83, 44…\n",
      "$ HOURLYWETBULBTEMPF     <dbl> 68, 44, 35, 30, 34, 38, 15, 21, 52, 72, 78, 35…\n",
      "$ HOURLYPrecip           <chr> \"0.00\", \"0.00\", \"0.00\", \"0.00\", \"T\", \"0.00\", \"…\n",
      "$ HOURLYWindSpeed        <dbl> 13, 6, 13, 14, 11, 6, 0, 11, 11, 5, 21, 7, 17,…\n",
      "$ HOURLYSeaLevelPressure <dbl> 30.01, 30.05, 30.14, 29.82, NA, 29.94, 30.42, …\n",
      "$ HOURLYStationPressure  <dbl> 29.99, 30.03, 30.12, 29.80, 30.50, 29.92, 30.4…\n"
     ]
    }
   ],
   "source": [
    "glimpse(sub_weather)"
   ]
  },
  {
   "cell_type": "markdown",
   "metadata": {},
   "source": [
    "<a id=\"cell3\"></a>\n",
    "## 3. Select Subset of Columns\n",
    "\n",
    "The end goal of this project will be to predict `HOURLYprecip` (precipitation) using a few other variables. Before you can do this, you first need to preprocess the dataset. Section 3 to section 6 focuses on preprocessing.\n",
    "\n",
    "The first step in preprocessing is to select a subset of data columns and inspect the column types.\n",
    "\n",
    "The key columns that we will explore in this project are:\n",
    "- HOURLYRelativeHumidity\n",
    "- HOURLYDRYBULBTEMPF\n",
    "- HOURLYPrecip\n",
    "- HOURLYWindSpeed\n",
    "- HOURLYStationPressure\n",
    "\n",
    "Data Glossary:\n",
    "- 'HOURLYRelativeHumidity' is the relative humidity given to the nearest whole percentage.\n",
    "- 'HOURLYDRYBULBTEMPF' is the dry-bulb temperature and is commonly used as the standard air temperature reported. It is given here in whole degrees Fahrenheit.\n",
    "- 'HOURLYPrecip' is the amount of precipitation in inches to hundredths over the past hour. For certain automated stations, precipitation will be reported at sub-hourly intervals (e.g. every 15 or 20 minutes) as an accumulated amount of all precipitation within the preceding hour. A “T” indicates a trace amount of precipitation.\n",
    "- 'HOURLYWindSpeed' is the speed of the wind at the time of observation given in miles per hour (mph).\n",
    "- 'HOURLYStationPressure' is the atmospheric pressure observed at the station during the time of observation. Given in inches of Mercury (in Hg).\n",
    "\n",
    "`Select` those five columns and store the modified dataframe as a new variable.\n"
   ]
  },
  {
   "cell_type": "code",
   "execution_count": 7,
   "metadata": {},
   "outputs": [
    {
     "data": {
      "text/html": [
       "<table>\n",
       "<caption>A spec_tbl_df: 5727 × 5</caption>\n",
       "<thead>\n",
       "\t<tr><th scope=col>HOURLYRelativeHumidity</th><th scope=col>HOURLYDRYBULBTEMPF</th><th scope=col>HOURLYPrecip</th><th scope=col>HOURLYWindSpeed</th><th scope=col>HOURLYStationPressure</th></tr>\n",
       "\t<tr><th scope=col>&lt;dbl&gt;</th><th scope=col>&lt;dbl&gt;</th><th scope=col>&lt;chr&gt;</th><th scope=col>&lt;dbl&gt;</th><th scope=col>&lt;dbl&gt;</th></tr>\n",
       "</thead>\n",
       "<tbody>\n",
       "\t<tr><td>46</td><td>83</td><td>0.00</td><td>13</td><td>29.99</td></tr>\n",
       "\t<tr><td>48</td><td>53</td><td>0.00</td><td> 6</td><td>30.03</td></tr>\n",
       "\t<tr><td>89</td><td>36</td><td>0.00</td><td>13</td><td>30.12</td></tr>\n",
       "\t<tr><td>48</td><td>36</td><td>0.00</td><td>14</td><td>29.80</td></tr>\n",
       "\t<tr><td>61</td><td>39</td><td>T   </td><td>11</td><td>30.50</td></tr>\n",
       "\t<tr><td>79</td><td>41</td><td>0.00</td><td> 6</td><td>29.92</td></tr>\n",
       "\t<tr><td>51</td><td>19</td><td>0.00</td><td> 0</td><td>30.40</td></tr>\n",
       "\t<tr><td>65</td><td>24</td><td>0.00</td><td>11</td><td>30.35</td></tr>\n",
       "\t<tr><td>90</td><td>54</td><td>0.06</td><td>11</td><td>30.03</td></tr>\n",
       "\t<tr><td>94</td><td>73</td><td>NA  </td><td> 5</td><td>29.91</td></tr>\n",
       "\t<tr><td>79</td><td>83</td><td>NA  </td><td>21</td><td>29.75</td></tr>\n",
       "\t<tr><td>37</td><td>44</td><td>0.00</td><td> 7</td><td>30.25</td></tr>\n",
       "\t<tr><td>72</td><td>57</td><td>0.00</td><td>17</td><td>29.84</td></tr>\n",
       "\t<tr><td>47</td><td>78</td><td>0.00</td><td> 8</td><td>30.16</td></tr>\n",
       "\t<tr><td>84</td><td>75</td><td>0.00</td><td> 3</td><td>30.17</td></tr>\n",
       "\t<tr><td>57</td><td>37</td><td>0.00</td><td>11</td><td>30.01</td></tr>\n",
       "\t<tr><td>37</td><td>73</td><td>0.00</td><td>13</td><td>29.96</td></tr>\n",
       "\t<tr><td>75</td><td>58</td><td>NA  </td><td> 9</td><td>30.28</td></tr>\n",
       "\t<tr><td>92</td><td>32</td><td>0.03</td><td> 9</td><td>29.59</td></tr>\n",
       "\t<tr><td>79</td><td>42</td><td>NA  </td><td> 3</td><td>30.10</td></tr>\n",
       "\t<tr><td>94</td><td>68</td><td>0.03</td><td>18</td><td>29.68</td></tr>\n",
       "\t<tr><td>71</td><td>71</td><td>NA  </td><td> 6</td><td>29.94</td></tr>\n",
       "\t<tr><td>78</td><td>57</td><td>0.00</td><td>10</td><td>30.49</td></tr>\n",
       "\t<tr><td>55</td><td>73</td><td>0.00</td><td>15</td><td>29.84</td></tr>\n",
       "\t<tr><td>79</td><td>44</td><td>0.02</td><td>23</td><td>29.66</td></tr>\n",
       "\t<tr><td>83</td><td>55</td><td>NA  </td><td> 3</td><td>30.11</td></tr>\n",
       "\t<tr><td>74</td><td>75</td><td>0.00</td><td>14</td><td>29.78</td></tr>\n",
       "\t<tr><td>36</td><td>47</td><td>NA  </td><td>13</td><td>29.85</td></tr>\n",
       "\t<tr><td>89</td><td>42</td><td>T   </td><td>22</td><td>29.58</td></tr>\n",
       "\t<tr><td>42</td><td>24</td><td>0.00</td><td>22</td><td>29.79</td></tr>\n",
       "\t<tr><td>⋮</td><td>⋮</td><td>⋮</td><td>⋮</td><td>⋮</td></tr>\n",
       "\t<tr><td> 71</td><td>51</td><td>T   </td><td>13</td><td>29.77</td></tr>\n",
       "\t<tr><td> 62</td><td>76</td><td>0.00</td><td>21</td><td>29.97</td></tr>\n",
       "\t<tr><td> 94</td><td>54</td><td>T   </td><td> 8</td><td>29.57</td></tr>\n",
       "\t<tr><td> 53</td><td>71</td><td>0.00</td><td> 6</td><td>29.99</td></tr>\n",
       "\t<tr><td> 90</td><td>75</td><td>0.00</td><td>10</td><td>29.95</td></tr>\n",
       "\t<tr><td> 40</td><td>63</td><td>0.00</td><td>11</td><td>30.07</td></tr>\n",
       "\t<tr><td> 40</td><td>46</td><td>0.00</td><td>14</td><td>30.30</td></tr>\n",
       "\t<tr><td> 67</td><td>84</td><td>0.00</td><td> 8</td><td>29.83</td></tr>\n",
       "\t<tr><td> 60</td><td>75</td><td>0.00</td><td> 9</td><td>29.98</td></tr>\n",
       "\t<tr><td> 87</td><td>58</td><td>0.02</td><td>10</td><td>29.87</td></tr>\n",
       "\t<tr><td> 54</td><td>34</td><td>0.00</td><td> 7</td><td>30.63</td></tr>\n",
       "\t<tr><td> 79</td><td>74</td><td>0.00</td><td>14</td><td>29.97</td></tr>\n",
       "\t<tr><td> 79</td><td>67</td><td>NA  </td><td> 5</td><td>30.17</td></tr>\n",
       "\t<tr><td> 57</td><td>36</td><td>0.00</td><td>20</td><td>29.72</td></tr>\n",
       "\t<tr><td> 71</td><td>67</td><td>0.00</td><td> 7</td><td>29.88</td></tr>\n",
       "\t<tr><td> 54</td><td>19</td><td>0.00</td><td> 9</td><td>30.36</td></tr>\n",
       "\t<tr><td> 34</td><td>54</td><td>0.00</td><td>13</td><td>29.97</td></tr>\n",
       "\t<tr><td> 32</td><td>18</td><td>0.00</td><td>20</td><td>30.48</td></tr>\n",
       "\t<tr><td> 78</td><td>26</td><td>T   </td><td>22</td><td>29.91</td></tr>\n",
       "\t<tr><td> 52</td><td>18</td><td>0.00</td><td> 8</td><td>30.00</td></tr>\n",
       "\t<tr><td>100</td><td>40</td><td>0.03</td><td> 9</td><td>30.00</td></tr>\n",
       "\t<tr><td> 49</td><td>57</td><td>0.00</td><td>16</td><td>29.90</td></tr>\n",
       "\t<tr><td> 66</td><td>67</td><td>0.00</td><td>16</td><td>30.26</td></tr>\n",
       "\t<tr><td> 97</td><td>38</td><td>0.01</td><td>17</td><td>29.65</td></tr>\n",
       "\t<tr><td> 64</td><td>72</td><td>0.00</td><td> 9</td><td>30.21</td></tr>\n",
       "\t<tr><td> 67</td><td>61</td><td>0.00</td><td> 6</td><td>29.72</td></tr>\n",
       "\t<tr><td> NA</td><td>NA</td><td>NA  </td><td>NA</td><td>   NA</td></tr>\n",
       "\t<tr><td> 48</td><td>53</td><td>0.00</td><td> 3</td><td>30.26</td></tr>\n",
       "\t<tr><td> 75</td><td>32</td><td>0.00</td><td> 7</td><td>29.69</td></tr>\n",
       "\t<tr><td> 52</td><td>38</td><td>0.00</td><td> 0</td><td>29.97</td></tr>\n",
       "</tbody>\n",
       "</table>\n"
      ],
      "text/latex": [
       "A spec\\_tbl\\_df: 5727 × 5\n",
       "\\begin{tabular}{lllll}\n",
       " HOURLYRelativeHumidity & HOURLYDRYBULBTEMPF & HOURLYPrecip & HOURLYWindSpeed & HOURLYStationPressure\\\\\n",
       " <dbl> & <dbl> & <chr> & <dbl> & <dbl>\\\\\n",
       "\\hline\n",
       "\t 46 & 83 & 0.00 & 13 & 29.99\\\\\n",
       "\t 48 & 53 & 0.00 &  6 & 30.03\\\\\n",
       "\t 89 & 36 & 0.00 & 13 & 30.12\\\\\n",
       "\t 48 & 36 & 0.00 & 14 & 29.80\\\\\n",
       "\t 61 & 39 & T    & 11 & 30.50\\\\\n",
       "\t 79 & 41 & 0.00 &  6 & 29.92\\\\\n",
       "\t 51 & 19 & 0.00 &  0 & 30.40\\\\\n",
       "\t 65 & 24 & 0.00 & 11 & 30.35\\\\\n",
       "\t 90 & 54 & 0.06 & 11 & 30.03\\\\\n",
       "\t 94 & 73 & NA   &  5 & 29.91\\\\\n",
       "\t 79 & 83 & NA   & 21 & 29.75\\\\\n",
       "\t 37 & 44 & 0.00 &  7 & 30.25\\\\\n",
       "\t 72 & 57 & 0.00 & 17 & 29.84\\\\\n",
       "\t 47 & 78 & 0.00 &  8 & 30.16\\\\\n",
       "\t 84 & 75 & 0.00 &  3 & 30.17\\\\\n",
       "\t 57 & 37 & 0.00 & 11 & 30.01\\\\\n",
       "\t 37 & 73 & 0.00 & 13 & 29.96\\\\\n",
       "\t 75 & 58 & NA   &  9 & 30.28\\\\\n",
       "\t 92 & 32 & 0.03 &  9 & 29.59\\\\\n",
       "\t 79 & 42 & NA   &  3 & 30.10\\\\\n",
       "\t 94 & 68 & 0.03 & 18 & 29.68\\\\\n",
       "\t 71 & 71 & NA   &  6 & 29.94\\\\\n",
       "\t 78 & 57 & 0.00 & 10 & 30.49\\\\\n",
       "\t 55 & 73 & 0.00 & 15 & 29.84\\\\\n",
       "\t 79 & 44 & 0.02 & 23 & 29.66\\\\\n",
       "\t 83 & 55 & NA   &  3 & 30.11\\\\\n",
       "\t 74 & 75 & 0.00 & 14 & 29.78\\\\\n",
       "\t 36 & 47 & NA   & 13 & 29.85\\\\\n",
       "\t 89 & 42 & T    & 22 & 29.58\\\\\n",
       "\t 42 & 24 & 0.00 & 22 & 29.79\\\\\n",
       "\t ⋮ & ⋮ & ⋮ & ⋮ & ⋮\\\\\n",
       "\t  71 & 51 & T    & 13 & 29.77\\\\\n",
       "\t  62 & 76 & 0.00 & 21 & 29.97\\\\\n",
       "\t  94 & 54 & T    &  8 & 29.57\\\\\n",
       "\t  53 & 71 & 0.00 &  6 & 29.99\\\\\n",
       "\t  90 & 75 & 0.00 & 10 & 29.95\\\\\n",
       "\t  40 & 63 & 0.00 & 11 & 30.07\\\\\n",
       "\t  40 & 46 & 0.00 & 14 & 30.30\\\\\n",
       "\t  67 & 84 & 0.00 &  8 & 29.83\\\\\n",
       "\t  60 & 75 & 0.00 &  9 & 29.98\\\\\n",
       "\t  87 & 58 & 0.02 & 10 & 29.87\\\\\n",
       "\t  54 & 34 & 0.00 &  7 & 30.63\\\\\n",
       "\t  79 & 74 & 0.00 & 14 & 29.97\\\\\n",
       "\t  79 & 67 & NA   &  5 & 30.17\\\\\n",
       "\t  57 & 36 & 0.00 & 20 & 29.72\\\\\n",
       "\t  71 & 67 & 0.00 &  7 & 29.88\\\\\n",
       "\t  54 & 19 & 0.00 &  9 & 30.36\\\\\n",
       "\t  34 & 54 & 0.00 & 13 & 29.97\\\\\n",
       "\t  32 & 18 & 0.00 & 20 & 30.48\\\\\n",
       "\t  78 & 26 & T    & 22 & 29.91\\\\\n",
       "\t  52 & 18 & 0.00 &  8 & 30.00\\\\\n",
       "\t 100 & 40 & 0.03 &  9 & 30.00\\\\\n",
       "\t  49 & 57 & 0.00 & 16 & 29.90\\\\\n",
       "\t  66 & 67 & 0.00 & 16 & 30.26\\\\\n",
       "\t  97 & 38 & 0.01 & 17 & 29.65\\\\\n",
       "\t  64 & 72 & 0.00 &  9 & 30.21\\\\\n",
       "\t  67 & 61 & 0.00 &  6 & 29.72\\\\\n",
       "\t  NA & NA & NA   & NA &    NA\\\\\n",
       "\t  48 & 53 & 0.00 &  3 & 30.26\\\\\n",
       "\t  75 & 32 & 0.00 &  7 & 29.69\\\\\n",
       "\t  52 & 38 & 0.00 &  0 & 29.97\\\\\n",
       "\\end{tabular}\n"
      ],
      "text/markdown": [
       "\n",
       "A spec_tbl_df: 5727 × 5\n",
       "\n",
       "| HOURLYRelativeHumidity &lt;dbl&gt; | HOURLYDRYBULBTEMPF &lt;dbl&gt; | HOURLYPrecip &lt;chr&gt; | HOURLYWindSpeed &lt;dbl&gt; | HOURLYStationPressure &lt;dbl&gt; |\n",
       "|---|---|---|---|---|\n",
       "| 46 | 83 | 0.00 | 13 | 29.99 |\n",
       "| 48 | 53 | 0.00 |  6 | 30.03 |\n",
       "| 89 | 36 | 0.00 | 13 | 30.12 |\n",
       "| 48 | 36 | 0.00 | 14 | 29.80 |\n",
       "| 61 | 39 | T    | 11 | 30.50 |\n",
       "| 79 | 41 | 0.00 |  6 | 29.92 |\n",
       "| 51 | 19 | 0.00 |  0 | 30.40 |\n",
       "| 65 | 24 | 0.00 | 11 | 30.35 |\n",
       "| 90 | 54 | 0.06 | 11 | 30.03 |\n",
       "| 94 | 73 | NA   |  5 | 29.91 |\n",
       "| 79 | 83 | NA   | 21 | 29.75 |\n",
       "| 37 | 44 | 0.00 |  7 | 30.25 |\n",
       "| 72 | 57 | 0.00 | 17 | 29.84 |\n",
       "| 47 | 78 | 0.00 |  8 | 30.16 |\n",
       "| 84 | 75 | 0.00 |  3 | 30.17 |\n",
       "| 57 | 37 | 0.00 | 11 | 30.01 |\n",
       "| 37 | 73 | 0.00 | 13 | 29.96 |\n",
       "| 75 | 58 | NA   |  9 | 30.28 |\n",
       "| 92 | 32 | 0.03 |  9 | 29.59 |\n",
       "| 79 | 42 | NA   |  3 | 30.10 |\n",
       "| 94 | 68 | 0.03 | 18 | 29.68 |\n",
       "| 71 | 71 | NA   |  6 | 29.94 |\n",
       "| 78 | 57 | 0.00 | 10 | 30.49 |\n",
       "| 55 | 73 | 0.00 | 15 | 29.84 |\n",
       "| 79 | 44 | 0.02 | 23 | 29.66 |\n",
       "| 83 | 55 | NA   |  3 | 30.11 |\n",
       "| 74 | 75 | 0.00 | 14 | 29.78 |\n",
       "| 36 | 47 | NA   | 13 | 29.85 |\n",
       "| 89 | 42 | T    | 22 | 29.58 |\n",
       "| 42 | 24 | 0.00 | 22 | 29.79 |\n",
       "| ⋮ | ⋮ | ⋮ | ⋮ | ⋮ |\n",
       "|  71 | 51 | T    | 13 | 29.77 |\n",
       "|  62 | 76 | 0.00 | 21 | 29.97 |\n",
       "|  94 | 54 | T    |  8 | 29.57 |\n",
       "|  53 | 71 | 0.00 |  6 | 29.99 |\n",
       "|  90 | 75 | 0.00 | 10 | 29.95 |\n",
       "|  40 | 63 | 0.00 | 11 | 30.07 |\n",
       "|  40 | 46 | 0.00 | 14 | 30.30 |\n",
       "|  67 | 84 | 0.00 |  8 | 29.83 |\n",
       "|  60 | 75 | 0.00 |  9 | 29.98 |\n",
       "|  87 | 58 | 0.02 | 10 | 29.87 |\n",
       "|  54 | 34 | 0.00 |  7 | 30.63 |\n",
       "|  79 | 74 | 0.00 | 14 | 29.97 |\n",
       "|  79 | 67 | NA   |  5 | 30.17 |\n",
       "|  57 | 36 | 0.00 | 20 | 29.72 |\n",
       "|  71 | 67 | 0.00 |  7 | 29.88 |\n",
       "|  54 | 19 | 0.00 |  9 | 30.36 |\n",
       "|  34 | 54 | 0.00 | 13 | 29.97 |\n",
       "|  32 | 18 | 0.00 | 20 | 30.48 |\n",
       "|  78 | 26 | T    | 22 | 29.91 |\n",
       "|  52 | 18 | 0.00 |  8 | 30.00 |\n",
       "| 100 | 40 | 0.03 |  9 | 30.00 |\n",
       "|  49 | 57 | 0.00 | 16 | 29.90 |\n",
       "|  66 | 67 | 0.00 | 16 | 30.26 |\n",
       "|  97 | 38 | 0.01 | 17 | 29.65 |\n",
       "|  64 | 72 | 0.00 |  9 | 30.21 |\n",
       "|  67 | 61 | 0.00 |  6 | 29.72 |\n",
       "|  NA | NA | NA   | NA |    NA |\n",
       "|  48 | 53 | 0.00 |  3 | 30.26 |\n",
       "|  75 | 32 | 0.00 |  7 | 29.69 |\n",
       "|  52 | 38 | 0.00 |  0 | 29.97 |\n",
       "\n"
      ],
      "text/plain": [
       "     HOURLYRelativeHumidity HOURLYDRYBULBTEMPF HOURLYPrecip HOURLYWindSpeed\n",
       "1    46                     83                 0.00         13             \n",
       "2    48                     53                 0.00          6             \n",
       "3    89                     36                 0.00         13             \n",
       "4    48                     36                 0.00         14             \n",
       "5    61                     39                 T            11             \n",
       "6    79                     41                 0.00          6             \n",
       "7    51                     19                 0.00          0             \n",
       "8    65                     24                 0.00         11             \n",
       "9    90                     54                 0.06         11             \n",
       "10   94                     73                 NA            5             \n",
       "11   79                     83                 NA           21             \n",
       "12   37                     44                 0.00          7             \n",
       "13   72                     57                 0.00         17             \n",
       "14   47                     78                 0.00          8             \n",
       "15   84                     75                 0.00          3             \n",
       "16   57                     37                 0.00         11             \n",
       "17   37                     73                 0.00         13             \n",
       "18   75                     58                 NA            9             \n",
       "19   92                     32                 0.03          9             \n",
       "20   79                     42                 NA            3             \n",
       "21   94                     68                 0.03         18             \n",
       "22   71                     71                 NA            6             \n",
       "23   78                     57                 0.00         10             \n",
       "24   55                     73                 0.00         15             \n",
       "25   79                     44                 0.02         23             \n",
       "26   83                     55                 NA            3             \n",
       "27   74                     75                 0.00         14             \n",
       "28   36                     47                 NA           13             \n",
       "29   89                     42                 T            22             \n",
       "30   42                     24                 0.00         22             \n",
       "⋮    ⋮                      ⋮                  ⋮            ⋮              \n",
       "5698  71                    51                 T            13             \n",
       "5699  62                    76                 0.00         21             \n",
       "5700  94                    54                 T             8             \n",
       "5701  53                    71                 0.00          6             \n",
       "5702  90                    75                 0.00         10             \n",
       "5703  40                    63                 0.00         11             \n",
       "5704  40                    46                 0.00         14             \n",
       "5705  67                    84                 0.00          8             \n",
       "5706  60                    75                 0.00          9             \n",
       "5707  87                    58                 0.02         10             \n",
       "5708  54                    34                 0.00          7             \n",
       "5709  79                    74                 0.00         14             \n",
       "5710  79                    67                 NA            5             \n",
       "5711  57                    36                 0.00         20             \n",
       "5712  71                    67                 0.00          7             \n",
       "5713  54                    19                 0.00          9             \n",
       "5714  34                    54                 0.00         13             \n",
       "5715  32                    18                 0.00         20             \n",
       "5716  78                    26                 T            22             \n",
       "5717  52                    18                 0.00          8             \n",
       "5718 100                    40                 0.03          9             \n",
       "5719  49                    57                 0.00         16             \n",
       "5720  66                    67                 0.00         16             \n",
       "5721  97                    38                 0.01         17             \n",
       "5722  64                    72                 0.00          9             \n",
       "5723  67                    61                 0.00          6             \n",
       "5724  NA                    NA                 NA           NA             \n",
       "5725  48                    53                 0.00          3             \n",
       "5726  75                    32                 0.00          7             \n",
       "5727  52                    38                 0.00          0             \n",
       "     HOURLYStationPressure\n",
       "1    29.99                \n",
       "2    30.03                \n",
       "3    30.12                \n",
       "4    29.80                \n",
       "5    30.50                \n",
       "6    29.92                \n",
       "7    30.40                \n",
       "8    30.35                \n",
       "9    30.03                \n",
       "10   29.91                \n",
       "11   29.75                \n",
       "12   30.25                \n",
       "13   29.84                \n",
       "14   30.16                \n",
       "15   30.17                \n",
       "16   30.01                \n",
       "17   29.96                \n",
       "18   30.28                \n",
       "19   29.59                \n",
       "20   30.10                \n",
       "21   29.68                \n",
       "22   29.94                \n",
       "23   30.49                \n",
       "24   29.84                \n",
       "25   29.66                \n",
       "26   30.11                \n",
       "27   29.78                \n",
       "28   29.85                \n",
       "29   29.58                \n",
       "30   29.79                \n",
       "⋮    ⋮                    \n",
       "5698 29.77                \n",
       "5699 29.97                \n",
       "5700 29.57                \n",
       "5701 29.99                \n",
       "5702 29.95                \n",
       "5703 30.07                \n",
       "5704 30.30                \n",
       "5705 29.83                \n",
       "5706 29.98                \n",
       "5707 29.87                \n",
       "5708 30.63                \n",
       "5709 29.97                \n",
       "5710 30.17                \n",
       "5711 29.72                \n",
       "5712 29.88                \n",
       "5713 30.36                \n",
       "5714 29.97                \n",
       "5715 30.48                \n",
       "5716 29.91                \n",
       "5717 30.00                \n",
       "5718 30.00                \n",
       "5719 29.90                \n",
       "5720 30.26                \n",
       "5721 29.65                \n",
       "5722 30.21                \n",
       "5723 29.72                \n",
       "5724    NA                \n",
       "5725 30.26                \n",
       "5726 29.69                \n",
       "5727 29.97                "
      ]
     },
     "metadata": {},
     "output_type": "display_data"
    }
   ],
   "source": [
    "select(sub_weather,c(HOURLYRelativeHumidity,HOURLYDRYBULBTEMPF, HOURLYPrecip, HOURLYWindSpeed, HOURLYStationPressure))"
   ]
  },
  {
   "cell_type": "markdown",
   "metadata": {},
   "source": [
    "Show the first 10 rows of this new dataframe.\n"
   ]
  },
  {
   "cell_type": "code",
   "execution_count": 8,
   "metadata": {},
   "outputs": [
    {
     "data": {
      "text/html": [
       "<table>\n",
       "<caption>A tibble: 10 × 9</caption>\n",
       "<thead>\n",
       "\t<tr><th scope=col>DATE</th><th scope=col>HOURLYDewPointTempF</th><th scope=col>HOURLYRelativeHumidity</th><th scope=col>HOURLYDRYBULBTEMPF</th><th scope=col>HOURLYWETBULBTEMPF</th><th scope=col>HOURLYPrecip</th><th scope=col>HOURLYWindSpeed</th><th scope=col>HOURLYSeaLevelPressure</th><th scope=col>HOURLYStationPressure</th></tr>\n",
       "\t<tr><th scope=col>&lt;dttm&gt;</th><th scope=col>&lt;dbl&gt;</th><th scope=col>&lt;dbl&gt;</th><th scope=col>&lt;dbl&gt;</th><th scope=col>&lt;dbl&gt;</th><th scope=col>&lt;chr&gt;</th><th scope=col>&lt;dbl&gt;</th><th scope=col>&lt;dbl&gt;</th><th scope=col>&lt;dbl&gt;</th></tr>\n",
       "</thead>\n",
       "<tbody>\n",
       "\t<tr><td>2015-07-25 13:51:00</td><td>60</td><td>46</td><td>83</td><td>68</td><td>0.00</td><td>13</td><td>30.01</td><td>29.99</td></tr>\n",
       "\t<tr><td>2016-11-18 23:51:00</td><td>34</td><td>48</td><td>53</td><td>44</td><td>0.00</td><td> 6</td><td>30.05</td><td>30.03</td></tr>\n",
       "\t<tr><td>2013-01-06 08:51:00</td><td>33</td><td>89</td><td>36</td><td>35</td><td>0.00</td><td>13</td><td>30.14</td><td>30.12</td></tr>\n",
       "\t<tr><td>2011-01-27 16:51:00</td><td>18</td><td>48</td><td>36</td><td>30</td><td>0.00</td><td>14</td><td>29.82</td><td>29.80</td></tr>\n",
       "\t<tr><td>2015-01-03 12:16:00</td><td>27</td><td>61</td><td>39</td><td>34</td><td>T   </td><td>11</td><td>   NA</td><td>30.50</td></tr>\n",
       "\t<tr><td>2013-02-15 20:51:00</td><td>35</td><td>79</td><td>41</td><td>38</td><td>0.00</td><td> 6</td><td>29.94</td><td>29.92</td></tr>\n",
       "\t<tr><td>2014-03-01 02:51:00</td><td> 4</td><td>51</td><td>19</td><td>15</td><td>0.00</td><td> 0</td><td>30.42</td><td>30.40</td></tr>\n",
       "\t<tr><td>2014-02-12 21:51:00</td><td>14</td><td>65</td><td>24</td><td>21</td><td>0.00</td><td>11</td><td>30.37</td><td>30.35</td></tr>\n",
       "\t<tr><td>2014-10-11 09:51:00</td><td>51</td><td>90</td><td>54</td><td>52</td><td>0.06</td><td>11</td><td>30.05</td><td>30.03</td></tr>\n",
       "\t<tr><td>2012-08-09 04:00:00</td><td>71</td><td>94</td><td>73</td><td>72</td><td>NA  </td><td> 5</td><td>29.94</td><td>29.91</td></tr>\n",
       "</tbody>\n",
       "</table>\n"
      ],
      "text/latex": [
       "A tibble: 10 × 9\n",
       "\\begin{tabular}{lllllllll}\n",
       " DATE & HOURLYDewPointTempF & HOURLYRelativeHumidity & HOURLYDRYBULBTEMPF & HOURLYWETBULBTEMPF & HOURLYPrecip & HOURLYWindSpeed & HOURLYSeaLevelPressure & HOURLYStationPressure\\\\\n",
       " <dttm> & <dbl> & <dbl> & <dbl> & <dbl> & <chr> & <dbl> & <dbl> & <dbl>\\\\\n",
       "\\hline\n",
       "\t 2015-07-25 13:51:00 & 60 & 46 & 83 & 68 & 0.00 & 13 & 30.01 & 29.99\\\\\n",
       "\t 2016-11-18 23:51:00 & 34 & 48 & 53 & 44 & 0.00 &  6 & 30.05 & 30.03\\\\\n",
       "\t 2013-01-06 08:51:00 & 33 & 89 & 36 & 35 & 0.00 & 13 & 30.14 & 30.12\\\\\n",
       "\t 2011-01-27 16:51:00 & 18 & 48 & 36 & 30 & 0.00 & 14 & 29.82 & 29.80\\\\\n",
       "\t 2015-01-03 12:16:00 & 27 & 61 & 39 & 34 & T    & 11 &    NA & 30.50\\\\\n",
       "\t 2013-02-15 20:51:00 & 35 & 79 & 41 & 38 & 0.00 &  6 & 29.94 & 29.92\\\\\n",
       "\t 2014-03-01 02:51:00 &  4 & 51 & 19 & 15 & 0.00 &  0 & 30.42 & 30.40\\\\\n",
       "\t 2014-02-12 21:51:00 & 14 & 65 & 24 & 21 & 0.00 & 11 & 30.37 & 30.35\\\\\n",
       "\t 2014-10-11 09:51:00 & 51 & 90 & 54 & 52 & 0.06 & 11 & 30.05 & 30.03\\\\\n",
       "\t 2012-08-09 04:00:00 & 71 & 94 & 73 & 72 & NA   &  5 & 29.94 & 29.91\\\\\n",
       "\\end{tabular}\n"
      ],
      "text/markdown": [
       "\n",
       "A tibble: 10 × 9\n",
       "\n",
       "| DATE &lt;dttm&gt; | HOURLYDewPointTempF &lt;dbl&gt; | HOURLYRelativeHumidity &lt;dbl&gt; | HOURLYDRYBULBTEMPF &lt;dbl&gt; | HOURLYWETBULBTEMPF &lt;dbl&gt; | HOURLYPrecip &lt;chr&gt; | HOURLYWindSpeed &lt;dbl&gt; | HOURLYSeaLevelPressure &lt;dbl&gt; | HOURLYStationPressure &lt;dbl&gt; |\n",
       "|---|---|---|---|---|---|---|---|---|\n",
       "| 2015-07-25 13:51:00 | 60 | 46 | 83 | 68 | 0.00 | 13 | 30.01 | 29.99 |\n",
       "| 2016-11-18 23:51:00 | 34 | 48 | 53 | 44 | 0.00 |  6 | 30.05 | 30.03 |\n",
       "| 2013-01-06 08:51:00 | 33 | 89 | 36 | 35 | 0.00 | 13 | 30.14 | 30.12 |\n",
       "| 2011-01-27 16:51:00 | 18 | 48 | 36 | 30 | 0.00 | 14 | 29.82 | 29.80 |\n",
       "| 2015-01-03 12:16:00 | 27 | 61 | 39 | 34 | T    | 11 |    NA | 30.50 |\n",
       "| 2013-02-15 20:51:00 | 35 | 79 | 41 | 38 | 0.00 |  6 | 29.94 | 29.92 |\n",
       "| 2014-03-01 02:51:00 |  4 | 51 | 19 | 15 | 0.00 |  0 | 30.42 | 30.40 |\n",
       "| 2014-02-12 21:51:00 | 14 | 65 | 24 | 21 | 0.00 | 11 | 30.37 | 30.35 |\n",
       "| 2014-10-11 09:51:00 | 51 | 90 | 54 | 52 | 0.06 | 11 | 30.05 | 30.03 |\n",
       "| 2012-08-09 04:00:00 | 71 | 94 | 73 | 72 | NA   |  5 | 29.94 | 29.91 |\n",
       "\n"
      ],
      "text/plain": [
       "   DATE                HOURLYDewPointTempF HOURLYRelativeHumidity\n",
       "1  2015-07-25 13:51:00 60                  46                    \n",
       "2  2016-11-18 23:51:00 34                  48                    \n",
       "3  2013-01-06 08:51:00 33                  89                    \n",
       "4  2011-01-27 16:51:00 18                  48                    \n",
       "5  2015-01-03 12:16:00 27                  61                    \n",
       "6  2013-02-15 20:51:00 35                  79                    \n",
       "7  2014-03-01 02:51:00  4                  51                    \n",
       "8  2014-02-12 21:51:00 14                  65                    \n",
       "9  2014-10-11 09:51:00 51                  90                    \n",
       "10 2012-08-09 04:00:00 71                  94                    \n",
       "   HOURLYDRYBULBTEMPF HOURLYWETBULBTEMPF HOURLYPrecip HOURLYWindSpeed\n",
       "1  83                 68                 0.00         13             \n",
       "2  53                 44                 0.00          6             \n",
       "3  36                 35                 0.00         13             \n",
       "4  36                 30                 0.00         14             \n",
       "5  39                 34                 T            11             \n",
       "6  41                 38                 0.00          6             \n",
       "7  19                 15                 0.00          0             \n",
       "8  24                 21                 0.00         11             \n",
       "9  54                 52                 0.06         11             \n",
       "10 73                 72                 NA            5             \n",
       "   HOURLYSeaLevelPressure HOURLYStationPressure\n",
       "1  30.01                  29.99                \n",
       "2  30.05                  30.03                \n",
       "3  30.14                  30.12                \n",
       "4  29.82                  29.80                \n",
       "5     NA                  30.50                \n",
       "6  29.94                  29.92                \n",
       "7  30.42                  30.40                \n",
       "8  30.37                  30.35                \n",
       "9  30.05                  30.03                \n",
       "10 29.94                  29.91                "
      ]
     },
     "metadata": {},
     "output_type": "display_data"
    }
   ],
   "source": [
    "head(sub_weather, 10)"
   ]
  },
  {
   "cell_type": "markdown",
   "metadata": {},
   "source": [
    "<a id=\"cell4\"></a>\n",
    "## 4. Clean Up Columns\n",
    "\n",
    "From the dataframe preview above, we can see that the column `HOURLYPrecip` - which is the hourly measure of precipitation levels - contains both `NA` and `T` values. `T` specifies *trace amounts of precipitation* (meaning essentially no precipitation), while `NA` means *not available*, and is used to denote missing values. Additionally, some values also have \"s\" at the end of them, indicating that the precipitation was snow. \n",
    "\n",
    "Inspect the unique values present in the column `HOURLYPrecip` (with `unique(dataframe$column)`) to see these values.\n"
   ]
  },
  {
   "cell_type": "code",
   "execution_count": 9,
   "metadata": {},
   "outputs": [
    {
     "data": {
      "text/html": [
       "<style>\n",
       ".list-inline {list-style: none; margin:0; padding: 0}\n",
       ".list-inline>li {display: inline-block}\n",
       ".list-inline>li:not(:last-child)::after {content: \"\\00b7\"; padding: 0 .5ex}\n",
       "</style>\n",
       "<ol class=list-inline><li>'0.00'</li><li>'T'</li><li>'0.06'</li><li>NA</li><li>'0.03'</li><li>'0.02'</li><li>'0.08'</li><li>'0.01'</li><li>'0.07'</li><li>'0.16'</li><li>'0.09'</li><li>'0.22'</li><li>'0.02s'</li><li>'0.24'</li><li>'0.18'</li><li>'0.05'</li><li>'0.04'</li><li>'0.09s'</li><li>'0.11'</li><li>'0.14'</li><li>'0.25'</li><li>'0.10'</li><li>'0.01s'</li><li>'0.58'</li><li>'0.12'</li><li>'0.13'</li><li>'0.46'</li><li>'1.07'</li><li>'1.19'</li><li>'0.34'</li><li>'0.20'</li><li>'0.36s'</li><li>'0.42'</li><li>'0.17'</li><li>'0.27'</li><li>'0.35'</li><li>'0.31'</li><li>'0.33'</li><li>'0.23'</li><li>'0.26'</li><li>'0.28'</li><li>'0.75'</li><li>'0.19'</li><li>'0.36'</li><li>'0.03s'</li><li>'0.07s'</li><li>'0.54'</li><li>'0.59'</li><li>'0.21'</li></ol>\n"
      ],
      "text/latex": [
       "\\begin{enumerate*}\n",
       "\\item '0.00'\n",
       "\\item 'T'\n",
       "\\item '0.06'\n",
       "\\item NA\n",
       "\\item '0.03'\n",
       "\\item '0.02'\n",
       "\\item '0.08'\n",
       "\\item '0.01'\n",
       "\\item '0.07'\n",
       "\\item '0.16'\n",
       "\\item '0.09'\n",
       "\\item '0.22'\n",
       "\\item '0.02s'\n",
       "\\item '0.24'\n",
       "\\item '0.18'\n",
       "\\item '0.05'\n",
       "\\item '0.04'\n",
       "\\item '0.09s'\n",
       "\\item '0.11'\n",
       "\\item '0.14'\n",
       "\\item '0.25'\n",
       "\\item '0.10'\n",
       "\\item '0.01s'\n",
       "\\item '0.58'\n",
       "\\item '0.12'\n",
       "\\item '0.13'\n",
       "\\item '0.46'\n",
       "\\item '1.07'\n",
       "\\item '1.19'\n",
       "\\item '0.34'\n",
       "\\item '0.20'\n",
       "\\item '0.36s'\n",
       "\\item '0.42'\n",
       "\\item '0.17'\n",
       "\\item '0.27'\n",
       "\\item '0.35'\n",
       "\\item '0.31'\n",
       "\\item '0.33'\n",
       "\\item '0.23'\n",
       "\\item '0.26'\n",
       "\\item '0.28'\n",
       "\\item '0.75'\n",
       "\\item '0.19'\n",
       "\\item '0.36'\n",
       "\\item '0.03s'\n",
       "\\item '0.07s'\n",
       "\\item '0.54'\n",
       "\\item '0.59'\n",
       "\\item '0.21'\n",
       "\\end{enumerate*}\n"
      ],
      "text/markdown": [
       "1. '0.00'\n",
       "2. 'T'\n",
       "3. '0.06'\n",
       "4. NA\n",
       "5. '0.03'\n",
       "6. '0.02'\n",
       "7. '0.08'\n",
       "8. '0.01'\n",
       "9. '0.07'\n",
       "10. '0.16'\n",
       "11. '0.09'\n",
       "12. '0.22'\n",
       "13. '0.02s'\n",
       "14. '0.24'\n",
       "15. '0.18'\n",
       "16. '0.05'\n",
       "17. '0.04'\n",
       "18. '0.09s'\n",
       "19. '0.11'\n",
       "20. '0.14'\n",
       "21. '0.25'\n",
       "22. '0.10'\n",
       "23. '0.01s'\n",
       "24. '0.58'\n",
       "25. '0.12'\n",
       "26. '0.13'\n",
       "27. '0.46'\n",
       "28. '1.07'\n",
       "29. '1.19'\n",
       "30. '0.34'\n",
       "31. '0.20'\n",
       "32. '0.36s'\n",
       "33. '0.42'\n",
       "34. '0.17'\n",
       "35. '0.27'\n",
       "36. '0.35'\n",
       "37. '0.31'\n",
       "38. '0.33'\n",
       "39. '0.23'\n",
       "40. '0.26'\n",
       "41. '0.28'\n",
       "42. '0.75'\n",
       "43. '0.19'\n",
       "44. '0.36'\n",
       "45. '0.03s'\n",
       "46. '0.07s'\n",
       "47. '0.54'\n",
       "48. '0.59'\n",
       "49. '0.21'\n",
       "\n",
       "\n"
      ],
      "text/plain": [
       " [1] \"0.00\"  \"T\"     \"0.06\"  NA      \"0.03\"  \"0.02\"  \"0.08\"  \"0.01\"  \"0.07\" \n",
       "[10] \"0.16\"  \"0.09\"  \"0.22\"  \"0.02s\" \"0.24\"  \"0.18\"  \"0.05\"  \"0.04\"  \"0.09s\"\n",
       "[19] \"0.11\"  \"0.14\"  \"0.25\"  \"0.10\"  \"0.01s\" \"0.58\"  \"0.12\"  \"0.13\"  \"0.46\" \n",
       "[28] \"1.07\"  \"1.19\"  \"0.34\"  \"0.20\"  \"0.36s\" \"0.42\"  \"0.17\"  \"0.27\"  \"0.35\" \n",
       "[37] \"0.31\"  \"0.33\"  \"0.23\"  \"0.26\"  \"0.28\"  \"0.75\"  \"0.19\"  \"0.36\"  \"0.03s\"\n",
       "[46] \"0.07s\" \"0.54\"  \"0.59\"  \"0.21\" "
      ]
     },
     "metadata": {},
     "output_type": "display_data"
    }
   ],
   "source": [
    "unique(sub_weather$HOURLYPrecip)"
   ]
  },
  {
   "cell_type": "markdown",
   "metadata": {},
   "source": [
    "Having characters in values (like the \"T\" and \"s\" that you see in the unique values) will cause problems when you create a model because values for precipitation should be numerical. So you need to fix these values that have characters. \n",
    "\n",
    "Now, for the column `HOURLYPrecip`:\n",
    "1. Replace all the `T` values with \"0.0\" and \n",
    "2. Remove \"s\" from values like \"0.02s\". In R, you can use the method `str_remove(column, pattern = \"s$\")` to remove the character \"s\" from the end of values. The \"$\" tells R to match to the end of values. The `pattern` is a regex pattern. Look at [here](https://www.rdocumentation.org/packages/stringi/versions/1.5.3/topics/about_search_regex?utm_medium=Exinfluencer&utm_source=Exinfluencer&utm_content=000026UJ&utm_term=10006555&utm_id=NA-SkillsNetwork-Channel-SkillsNetworkCoursesIBMDA0151ENSkillsNetwork926-2022-01-01) for more information about regex and matching to strings in R.\n",
    "\n",
    "Remember that you can use `tidyverse`'s  `mutate()` to update columns.\n",
    "\n",
    "You can check your work by checking if unique values of `HOURLYPrecip` still contain any `T` or `s`. Store the modified dataframe as a new variable.\n"
   ]
  },
  {
   "cell_type": "code",
   "execution_count": 10,
   "metadata": {},
   "outputs": [
    {
     "data": {
      "text/html": [
       "<style>\n",
       ".list-inline {list-style: none; margin:0; padding: 0}\n",
       ".list-inline>li {display: inline-block}\n",
       ".list-inline>li:not(:last-child)::after {content: \"\\00b7\"; padding: 0 .5ex}\n",
       "</style>\n",
       "<ol class=list-inline><li>'0.00'</li><li>'0.0'</li><li>'0.06'</li><li>NA</li><li>'0.03'</li><li>'0.02'</li><li>'0.08'</li><li>'0.01'</li><li>'0.07'</li><li>'0.16'</li><li>'0.09'</li><li>'0.22'</li><li>'0.24'</li><li>'0.18'</li><li>'0.05'</li><li>'0.04'</li><li>'0.11'</li><li>'0.14'</li><li>'0.25'</li><li>'0.10'</li><li>'0.58'</li><li>'0.12'</li><li>'0.13'</li><li>'0.46'</li><li>'1.07'</li><li>'1.19'</li><li>'0.34'</li><li>'0.20'</li><li>'0.36'</li><li>'0.42'</li><li>'0.17'</li><li>'0.27'</li><li>'0.35'</li><li>'0.31'</li><li>'0.33'</li><li>'0.23'</li><li>'0.26'</li><li>'0.28'</li><li>'0.75'</li><li>'0.19'</li><li>'0.54'</li><li>'0.59'</li><li>'0.21'</li></ol>\n"
      ],
      "text/latex": [
       "\\begin{enumerate*}\n",
       "\\item '0.00'\n",
       "\\item '0.0'\n",
       "\\item '0.06'\n",
       "\\item NA\n",
       "\\item '0.03'\n",
       "\\item '0.02'\n",
       "\\item '0.08'\n",
       "\\item '0.01'\n",
       "\\item '0.07'\n",
       "\\item '0.16'\n",
       "\\item '0.09'\n",
       "\\item '0.22'\n",
       "\\item '0.24'\n",
       "\\item '0.18'\n",
       "\\item '0.05'\n",
       "\\item '0.04'\n",
       "\\item '0.11'\n",
       "\\item '0.14'\n",
       "\\item '0.25'\n",
       "\\item '0.10'\n",
       "\\item '0.58'\n",
       "\\item '0.12'\n",
       "\\item '0.13'\n",
       "\\item '0.46'\n",
       "\\item '1.07'\n",
       "\\item '1.19'\n",
       "\\item '0.34'\n",
       "\\item '0.20'\n",
       "\\item '0.36'\n",
       "\\item '0.42'\n",
       "\\item '0.17'\n",
       "\\item '0.27'\n",
       "\\item '0.35'\n",
       "\\item '0.31'\n",
       "\\item '0.33'\n",
       "\\item '0.23'\n",
       "\\item '0.26'\n",
       "\\item '0.28'\n",
       "\\item '0.75'\n",
       "\\item '0.19'\n",
       "\\item '0.54'\n",
       "\\item '0.59'\n",
       "\\item '0.21'\n",
       "\\end{enumerate*}\n"
      ],
      "text/markdown": [
       "1. '0.00'\n",
       "2. '0.0'\n",
       "3. '0.06'\n",
       "4. NA\n",
       "5. '0.03'\n",
       "6. '0.02'\n",
       "7. '0.08'\n",
       "8. '0.01'\n",
       "9. '0.07'\n",
       "10. '0.16'\n",
       "11. '0.09'\n",
       "12. '0.22'\n",
       "13. '0.24'\n",
       "14. '0.18'\n",
       "15. '0.05'\n",
       "16. '0.04'\n",
       "17. '0.11'\n",
       "18. '0.14'\n",
       "19. '0.25'\n",
       "20. '0.10'\n",
       "21. '0.58'\n",
       "22. '0.12'\n",
       "23. '0.13'\n",
       "24. '0.46'\n",
       "25. '1.07'\n",
       "26. '1.19'\n",
       "27. '0.34'\n",
       "28. '0.20'\n",
       "29. '0.36'\n",
       "30. '0.42'\n",
       "31. '0.17'\n",
       "32. '0.27'\n",
       "33. '0.35'\n",
       "34. '0.31'\n",
       "35. '0.33'\n",
       "36. '0.23'\n",
       "37. '0.26'\n",
       "38. '0.28'\n",
       "39. '0.75'\n",
       "40. '0.19'\n",
       "41. '0.54'\n",
       "42. '0.59'\n",
       "43. '0.21'\n",
       "\n",
       "\n"
      ],
      "text/plain": [
       " [1] \"0.00\" \"0.0\"  \"0.06\" NA     \"0.03\" \"0.02\" \"0.08\" \"0.01\" \"0.07\" \"0.16\"\n",
       "[11] \"0.09\" \"0.22\" \"0.24\" \"0.18\" \"0.05\" \"0.04\" \"0.11\" \"0.14\" \"0.25\" \"0.10\"\n",
       "[21] \"0.58\" \"0.12\" \"0.13\" \"0.46\" \"1.07\" \"1.19\" \"0.34\" \"0.20\" \"0.36\" \"0.42\"\n",
       "[31] \"0.17\" \"0.27\" \"0.35\" \"0.31\" \"0.33\" \"0.23\" \"0.26\" \"0.28\" \"0.75\" \"0.19\"\n",
       "[41] \"0.54\" \"0.59\" \"0.21\""
      ]
     },
     "metadata": {},
     "output_type": "display_data"
    }
   ],
   "source": [
    "sub_weather <- sub_weather %>%\n",
    "mutate(HOURLYPrecip = str_replace(HOURLYPrecip, \"T\", \"0.0\"))\n",
    "\n",
    "sub_weather <- sub_weather %>%\n",
    "mutate(HOURLYPrecip = str_remove(HOURLYPrecip, pattern = \"s$\"))\n",
    "\n",
    "unique(sub_weather$HOURLYPrecip)"
   ]
  },
  {
   "cell_type": "markdown",
   "metadata": {},
   "source": [
    "<a id=\"cell5\"></a>\n",
    "## 5. Convert Columns to Numerical Types\n",
    "Now that you have removed the characters in the `HOURLYPrecip` column, you can safely covert the column to a numeric type.\n",
    "\n",
    "First, check the types of the columns. You will notice that all are `dbl` (double or numeric) except for `HOURLYPrecip`, which is `chr` (character or string). Use the `glimpse` function from Tidyverse.\n"
   ]
  },
  {
   "cell_type": "code",
   "execution_count": 11,
   "metadata": {},
   "outputs": [
    {
     "name": "stdout",
     "output_type": "stream",
     "text": [
      "Rows: 5,727\n",
      "Columns: 9\n",
      "$ DATE                   <dttm> 2015-07-25 13:51:00, 2016-11-18 23:51:00, 201…\n",
      "$ HOURLYDewPointTempF    <dbl> 60, 34, 33, 18, 27, 35, 4, 14, 51, 71, 76, 19,…\n",
      "$ HOURLYRelativeHumidity <dbl> 46, 48, 89, 48, 61, 79, 51, 65, 90, 94, 79, 37…\n",
      "$ HOURLYDRYBULBTEMPF     <dbl> 83, 53, 36, 36, 39, 41, 19, 24, 54, 73, 83, 44…\n",
      "$ HOURLYWETBULBTEMPF     <dbl> 68, 44, 35, 30, 34, 38, 15, 21, 52, 72, 78, 35…\n",
      "$ HOURLYPrecip           <chr> \"0.00\", \"0.00\", \"0.00\", \"0.00\", \"0.0\", \"0.00\",…\n",
      "$ HOURLYWindSpeed        <dbl> 13, 6, 13, 14, 11, 6, 0, 11, 11, 5, 21, 7, 17,…\n",
      "$ HOURLYSeaLevelPressure <dbl> 30.01, 30.05, 30.14, 29.82, NA, 29.94, 30.42, …\n",
      "$ HOURLYStationPressure  <dbl> 29.99, 30.03, 30.12, 29.80, 30.50, 29.92, 30.4…\n"
     ]
    }
   ],
   "source": [
    "glimpse(sub_weather)"
   ]
  },
  {
   "cell_type": "markdown",
   "metadata": {},
   "source": [
    "Convert `HOURLYPrecip` to the `numeric` type and store the cleaned dataframe as a new variable.\n"
   ]
  },
  {
   "cell_type": "code",
   "execution_count": 13,
   "metadata": {},
   "outputs": [],
   "source": [
    "sub_weather <- sub_weather %>%\n",
    "mutate_at(c('HOURLYPrecip'), as.numeric)"
   ]
  },
  {
   "cell_type": "markdown",
   "metadata": {},
   "source": [
    "We can now see that all fields have numerical data type.\n"
   ]
  },
  {
   "cell_type": "code",
   "execution_count": 14,
   "metadata": {},
   "outputs": [
    {
     "name": "stdout",
     "output_type": "stream",
     "text": [
      "Rows: 5,727\n",
      "Columns: 9\n",
      "$ DATE                   <dttm> 2015-07-25 13:51:00, 2016-11-18 23:51:00, 201…\n",
      "$ HOURLYDewPointTempF    <dbl> 60, 34, 33, 18, 27, 35, 4, 14, 51, 71, 76, 19,…\n",
      "$ HOURLYRelativeHumidity <dbl> 46, 48, 89, 48, 61, 79, 51, 65, 90, 94, 79, 37…\n",
      "$ HOURLYDRYBULBTEMPF     <dbl> 83, 53, 36, 36, 39, 41, 19, 24, 54, 73, 83, 44…\n",
      "$ HOURLYWETBULBTEMPF     <dbl> 68, 44, 35, 30, 34, 38, 15, 21, 52, 72, 78, 35…\n",
      "$ HOURLYPrecip           <dbl> 0.00, 0.00, 0.00, 0.00, 0.00, 0.00, 0.00, 0.00…\n",
      "$ HOURLYWindSpeed        <dbl> 13, 6, 13, 14, 11, 6, 0, 11, 11, 5, 21, 7, 17,…\n",
      "$ HOURLYSeaLevelPressure <dbl> 30.01, 30.05, 30.14, 29.82, NA, 29.94, 30.42, …\n",
      "$ HOURLYStationPressure  <dbl> 29.99, 30.03, 30.12, 29.80, 30.50, 29.92, 30.4…\n"
     ]
    }
   ],
   "source": [
    "glimpse(sub_weather)"
   ]
  },
  {
   "cell_type": "markdown",
   "metadata": {},
   "source": [
    "<a id=\"cell6\"></a>\n",
    "## 6. Rename Columns\n",
    "Let's rename the following columns as:\n",
    "- 'HOURLYRelativeHumidity' to 'relative_humidity'\n",
    "- 'HOURLYDRYBULBTEMPF' to 'dry_bulb_temp_f'\n",
    "- 'HOURLYPrecip' to 'precip'\n",
    "- 'HOURLYWindSpeed' to 'wind_speed'\n",
    "- 'HOURLYStationPressure' to 'station_pressure'\n",
    "\n",
    "You can use `dplyr::rename()`. Then, store the final dataframe as a new variable.\n"
   ]
  },
  {
   "cell_type": "code",
   "execution_count": 15,
   "metadata": {},
   "outputs": [],
   "source": [
    "sub_weather <- sub_weather %>% \n",
    "        rename(\"relative_humidity\" = \"HOURLYRelativeHumidity\", \"dry_bulb_temp_f\" = \"HOURLYDRYBULBTEMPF\", \"precip\" = \"HOURLYPrecip\", \"wind_speed\" = \"HOURLYWindSpeed\", \"station_pressure\" = \"HOURLYStationPressure\")"
   ]
  },
  {
   "cell_type": "markdown",
   "metadata": {},
   "source": [
    "<a id=\"cell7\"></a>\n",
    "## 7. Exploratory Data Analysis\n",
    "Now that you have finished preprocessing the dataset, you can can start exploring the columns more.\n",
    "\n",
    "First, split the data into a training and testing set. Splitting a dataset is done randomly, so to have reproducible results set the seed = 1234. Also, use 80% of the data for training.\n"
   ]
  },
  {
   "cell_type": "code",
   "execution_count": 16,
   "metadata": {},
   "outputs": [],
   "source": [
    "sub_weather <- sub_weather %>% \n",
    "    replace_na(list(relative_humidity = 0,\n",
    "                    dry_bulb_temp_f = 0,\n",
    "                    precip = 0,\n",
    "                    wind_speed = 0,\n",
    "                    station_pressure = 0)) %>%\n",
    "    select(c(relative_humidity, dry_bulb_temp_f, precip, wind_speed, station_pressure))\n",
    "\n",
    "library(tidymodels)\n",
    "\n",
    "set.seed(1234)\n",
    "sub_weather_split <- initial_split(sub_weather, prop = .8)\n",
    "train_data <- training(sub_weather_split)\n",
    "test_data <- testing(sub_weather_split)\n"
   ]
  },
  {
   "cell_type": "markdown",
   "metadata": {},
   "source": [
    "Next, looking at just the **training set**, plot histograms or box plots of the variables (`relative_humidity`, `dry_bulb_temp_f`, `precip`, `wind_speed`,  `station_pressure`) for an intial look of their distributions using `tidyverse`'s `ggplot`. Leave the testing set as is because it is good practice to not see the testing set until evaluating the final model.\n"
   ]
  },
  {
   "cell_type": "code",
   "execution_count": 39,
   "metadata": {},
   "outputs": [
    {
     "ename": "ERROR",
     "evalue": "Error in parse(text = x, srcfile = src): <text>:6:0: unexpected end of input\n4: tabs(x=(c(\"relative_humidity\", \"dry_bulf_temp_f\", \"wind_speed\", \"station_presure\"))) + \n5: ggtitle(\"weather sample\") + guides(color = FALSE) + theme_minimal() + coord_cartesian(ylim = quantile(new_weather_sample$precip, c(0, 0.99)) \n  ^\n",
     "execution_count": 39,
     "output_type": "error",
     "traceback": [
      "Error in parse(text = x, srcfile = src): <text>:6:0: unexpected end of input\n4: tabs(x=(c(\"relative_humidity\", \"dry_bulf_temp_f\", \"wind_speed\", \"station_presure\"))) + \n5: ggtitle(\"weather sample\") + guides(color = FALSE) + theme_minimal() + coord_cartesian(ylim = quantile(new_weather_sample$precip, c(0, 0.99)) \n  ^\nTraceback:\n"
     ]
    }
   ],
   "source": [
    "ggplot(new_weather_sample = train_data(c(\"relative_humidity\", \"dry_bulb_temp_f\", \"precip\", \"wind_speed\", \"station_pressure\")), mapping=aes(x=new_weather_sample, y=precip) + \n",
    "geom_boxplot(fill = \"bisque\", color = \"black\", alpha = 0.3) +\n",
    "geom_jitter(aes(color = \"red\", alpha = 0.2) + \n",
    "tabs(x=(c(\"relative_humidity\", \"dry_bulf_temp_f\", \"wind_speed\", \"station_presure\"))) + \n",
    "ggtitle(\"weather sample\") + guides(color = FALSE) + theme_minimal() + coord_cartesian(ylim = quantile(new_weather_sample$precip, c(0, 0.99)) "
   ]
  },
  {
   "cell_type": "markdown",
   "metadata": {},
   "source": [
    "<a id=\"cell8\"></a>\n",
    "## 8. Linear Regression \n",
    "After exploring the dataset more, you are now ready to start creating models to predict the precipitation (`precip`).\n",
    "\n",
    "Create simple linear regression models where `precip` is the response variable and each of `relative_humidity`, `dry_bulb_temp_f`,`wind_speed` or `station_pressure` will be a predictor variable, e.g. `precip ~ relative_humidity`, `precip ~ dry_bulb_temp_f`, etc. for a total of four simple models. \n",
    "Additionally, visualize each simple model with a scatter plot.\n"
   ]
  },
  {
   "cell_type": "code",
   "execution_count": 40,
   "metadata": {},
   "outputs": [
    {
     "data": {
      "text/plain": [
       "\n",
       "Call:\n",
       "lm(formula = relative_humidity ~ precip, data = train_data)\n",
       "\n",
       "Residuals:\n",
       "    Min      1Q  Median      3Q     Max \n",
       "-82.176 -15.672   2.328  18.328  35.328 \n",
       "\n",
       "Coefficients:\n",
       "            Estimate Std. Error t value Pr(>|t|)    \n",
       "(Intercept)  64.6718     0.3329  194.27   <2e-16 ***\n",
       "precip       95.3820     9.1615   10.41   <2e-16 ***\n",
       "---\n",
       "Signif. codes:  0 ‘***’ 0.001 ‘**’ 0.01 ‘*’ 0.05 ‘.’ 0.1 ‘ ’ 1\n",
       "\n",
       "Residual standard error: 22.35 on 4580 degrees of freedom\n",
       "Multiple R-squared:  0.02312,\tAdjusted R-squared:  0.02291 \n",
       "F-statistic: 108.4 on 1 and 4580 DF,  p-value: < 2.2e-16\n"
      ]
     },
     "metadata": {},
     "output_type": "display_data"
    },
    {
     "name": "stderr",
     "output_type": "stream",
     "text": [
      "`geom_smooth()` using formula 'y ~ x'\n"
     ]
    },
    {
     "data": {},
     "metadata": {},
     "output_type": "display_data"
    },
    {
     "data": {
      "image/png": "[encoded data removed]",
      "text/plain": [
       "plot without title"
      ]
     },
     "metadata": {},
     "output_type": "display_data",
     "source": "R display func"
    }
   ],
   "source": [
    "linear_model <- lm(relative_humidity ~ precip, data = train_data)\n",
    "summary(linear_model)\n",
    "\n",
    "ggplot(data = train_data, mapping = aes(x = relative_humidity, y = precip)) +\n",
    "geom_point() +\n",
    "geom_smooth(method = \"lm\", col = \"red\")"
   ]
  },
  {
   "cell_type": "code",
   "execution_count": 41,
   "metadata": {},
   "outputs": [
    {
     "data": {
      "text/plain": [
       "\n",
       "Call:\n",
       "lm(formula = dry_bulb_temp_f ~ precip, data = train_data)\n",
       "\n",
       "Residuals:\n",
       "    Min      1Q  Median      3Q     Max \n",
       "-54.135 -13.135   0.865  15.865  44.865 \n",
       "\n",
       "Coefficients:\n",
       "            Estimate Std. Error t value Pr(>|t|)    \n",
       "(Intercept)  54.1348     0.2853 189.748   <2e-16 ***\n",
       "precip        3.0876     7.8516   0.393    0.694    \n",
       "---\n",
       "Signif. codes:  0 ‘***’ 0.001 ‘**’ 0.01 ‘*’ 0.05 ‘.’ 0.1 ‘ ’ 1\n",
       "\n",
       "Residual standard error: 19.15 on 4580 degrees of freedom\n",
       "Multiple R-squared:  3.376e-05,\tAdjusted R-squared:  -0.0001846 \n",
       "F-statistic: 0.1546 on 1 and 4580 DF,  p-value: 0.6942\n"
      ]
     },
     "metadata": {},
     "output_type": "display_data"
    },
    {
     "name": "stderr",
     "output_type": "stream",
     "text": [
      "`geom_smooth()` using formula 'y ~ x'\n"
     ]
    },
    {
     "data": {},
     "metadata": {},
     "output_type": "display_data"
    },
    {
     "data": {
      "image/png": "[encoded data removed]",
      "text/plain": [
       "plot without title"
      ]
     },
     "metadata": {},
     "output_type": "display_data",
     "source": "R display func"
    }
   ],
   "source": [
    "linear_model2 <- lm(dry_bulb_temp_f ~ precip, data = train_data)\n",
    "summary(linear_model2)\n",
    "\n",
    "ggplot(data = train_data, mapping = aes(x = dry_bulb_temp_f, y = precip)) +\n",
    "geom_point() +\n",
    "geom_smooth(method = \"lm\", col = \"red\")"
   ]
  },
  {
   "cell_type": "code",
   "execution_count": 42,
   "metadata": {},
   "outputs": [
    {
     "data": {
      "text/plain": [
       "\n",
       "Call:\n",
       "lm(formula = wind_speed ~ precip, data = train_data)\n",
       "\n",
       "Residuals:\n",
       "    Min      1Q  Median      3Q     Max \n",
       "-15.082  -3.866  -0.866   4.134  41.134 \n",
       "\n",
       "Coefficients:\n",
       "            Estimate Std. Error t value Pr(>|t|)    \n",
       "(Intercept) 10.86634    0.09639 112.730  < 2e-16 ***\n",
       "precip      12.28740    2.65277   4.632 3.72e-06 ***\n",
       "---\n",
       "Signif. codes:  0 ‘***’ 0.001 ‘**’ 0.01 ‘*’ 0.05 ‘.’ 0.1 ‘ ’ 1\n",
       "\n",
       "Residual standard error: 6.47 on 4580 degrees of freedom\n",
       "Multiple R-squared:  0.004663,\tAdjusted R-squared:  0.004445 \n",
       "F-statistic: 21.45 on 1 and 4580 DF,  p-value: 3.723e-06\n"
      ]
     },
     "metadata": {},
     "output_type": "display_data"
    },
    {
     "name": "stderr",
     "output_type": "stream",
     "text": [
      "`geom_smooth()` using formula 'y ~ x'\n"
     ]
    },
    {
     "data": {},
     "metadata": {},
     "output_type": "display_data"
    },
    {
     "data": {
      "image/png": "[encoded data removed]",
      "text/plain": [
       "plot without title"
      ]
     },
     "metadata": {},
     "output_type": "display_data",
     "source": "R display func"
    }
   ],
   "source": [
    "linear_model3 <- lm(wind_speed ~ precip, data = train_data)\n",
    "summary(linear_model3)\n",
    "\n",
    "ggplot(data = train_data, mapping = aes(x = wind_speed, y = precip)) +\n",
    "geom_point() +\n",
    "geom_smooth(method = \"lm\", col = \"red\")"
   ]
  },
  {
   "cell_type": "code",
   "execution_count": 43,
   "metadata": {},
   "outputs": [
    {
     "data": {
      "text/plain": [
       "\n",
       "Call:\n",
       "lm(formula = station_pressure ~ precip, data = train_data)\n",
       "\n",
       "Residuals:\n",
       "     Min       1Q   Median       3Q      Max \n",
       "-29.1904   0.7112   0.8612   1.0212   1.7112 \n",
       "\n",
       "Coefficients:\n",
       "            Estimate Std. Error t value Pr(>|t|)    \n",
       "(Intercept)  29.1088     0.0751 387.615   <2e-16 ***\n",
       "precip        2.0411     2.0667   0.988    0.323    \n",
       "---\n",
       "Signif. codes:  0 ‘***’ 0.001 ‘**’ 0.01 ‘*’ 0.05 ‘.’ 0.1 ‘ ’ 1\n",
       "\n",
       "Residual standard error: 5.041 on 4580 degrees of freedom\n",
       "Multiple R-squared:  0.0002129,\tAdjusted R-squared:  -5.377e-06 \n",
       "F-statistic: 0.9754 on 1 and 4580 DF,  p-value: 0.3234\n"
      ]
     },
     "metadata": {},
     "output_type": "display_data"
    },
    {
     "name": "stderr",
     "output_type": "stream",
     "text": [
      "`geom_smooth()` using formula 'y ~ x'\n"
     ]
    },
    {
     "data": {},
     "metadata": {},
     "output_type": "display_data"
    },
    {
     "data": {
      "image/png": "[encoded data removed]",
      "text/plain": [
       "plot without title"
      ]
     },
     "metadata": {},
     "output_type": "display_data",
     "source": "R display func"
    }
   ],
   "source": [
    "linear_model4 <- lm(station_pressure ~ precip, data = train_data)\n",
    "summary(linear_model4)\n",
    "\n",
    "ggplot(data = train_data, mapping = aes(x = station_pressure, y = precip)) +\n",
    "geom_point() +\n",
    "geom_smooth(method = \"lm\", col = \"red\")"
   ]
  },
  {
   "cell_type": "markdown",
   "metadata": {},
   "source": [
    "<a id=\"cell9\"></a>\n",
    "## 9. Improve the Model\n",
    "Now, try improving the simple models you created in the previous section. \n",
    "\n",
    "Create at least two more models, each model should use at least one of the different techniques:\n",
    "1. Add more features/predictors\n",
    "2. Add regularization (L1, L2 or a mix)\n",
    "3. Add a polynomial component\n",
    "\n",
    "Also, for each of the models you create, check the model performance using the **training set** and a metric like MSE, RMSE, or R-squared.\n",
    "\n",
    "Consider using `tidymodels` if you choose to add regularization and tune lambda.\n"
   ]
  },
  {
   "cell_type": "code",
   "execution_count": 70,
   "metadata": {},
   "outputs": [
    {
     "data": {
      "text/plain": [
       "\n",
       "Call:\n",
       "lm(formula = relative_humidity ~ precip, data = train_data)\n",
       "\n",
       "Residuals:\n",
       "    Min      1Q  Median      3Q     Max \n",
       "-82.176 -15.672   2.328  18.328  35.328 \n",
       "\n",
       "Coefficients:\n",
       "            Estimate Std. Error t value Pr(>|t|)    \n",
       "(Intercept)  64.6718     0.3329  194.27   <2e-16 ***\n",
       "precip       95.3820     9.1615   10.41   <2e-16 ***\n",
       "---\n",
       "Signif. codes:  0 ‘***’ 0.001 ‘**’ 0.01 ‘*’ 0.05 ‘.’ 0.1 ‘ ’ 1\n",
       "\n",
       "Residual standard error: 22.35 on 4580 degrees of freedom\n",
       "Multiple R-squared:  0.02312,\tAdjusted R-squared:  0.02291 \n",
       "F-statistic: 108.4 on 1 and 4580 DF,  p-value: < 2.2e-16\n"
      ]
     },
     "metadata": {},
     "output_type": "display_data"
    },
    {
     "data": {
      "text/html": [
       "<table>\n",
       "<caption>A tibble: 309 × 5</caption>\n",
       "<thead>\n",
       "\t<tr><th scope=col>term</th><th scope=col>step</th><th scope=col>estimate</th><th scope=col>lambda</th><th scope=col>dev.ratio</th></tr>\n",
       "\t<tr><th scope=col>&lt;chr&gt;</th><th scope=col>&lt;dbl&gt;</th><th scope=col>&lt;dbl&gt;</th><th scope=col>&lt;dbl&gt;</th><th scope=col>&lt;dbl&gt;</th></tr>\n",
       "</thead>\n",
       "<tbody>\n",
       "\t<tr><td>(Intercept)     </td><td> 1</td><td>65.119816674</td><td>51.56823</td><td>0.00000000</td></tr>\n",
       "\t<tr><td>(Intercept)     </td><td> 2</td><td>63.132108984</td><td>46.98705</td><td>0.01365956</td></tr>\n",
       "\t<tr><td>station_pressure</td><td> 2</td><td> 0.068263086</td><td>46.98705</td><td>0.01365956</td></tr>\n",
       "\t<tr><td>(Intercept)     </td><td> 3</td><td>61.097853553</td><td>42.81285</td><td>0.02715919</td></tr>\n",
       "\t<tr><td>station_pressure</td><td> 3</td><td> 0.138124743</td><td>42.81285</td><td>0.02715919</td></tr>\n",
       "\t<tr><td>(Intercept)     </td><td> 4</td><td>59.024481602</td><td>39.00948</td><td>0.04041895</td></tr>\n",
       "\t<tr><td>station_pressure</td><td> 4</td><td> 0.209329764</td><td>39.00948</td><td>0.04041895</td></tr>\n",
       "\t<tr><td>(Intercept)     </td><td> 5</td><td>56.920056163</td><td>35.54398</td><td>0.05336172</td></tr>\n",
       "\t<tr><td>station_pressure</td><td> 5</td><td> 0.281601243</td><td>35.54398</td><td>0.05336172</td></tr>\n",
       "\t<tr><td>(Intercept)     </td><td> 6</td><td>54.793154927</td><td>32.38635</td><td>0.06591494</td></tr>\n",
       "\t<tr><td>station_pressure</td><td> 6</td><td> 0.354644600</td><td>32.38635</td><td>0.06591494</td></tr>\n",
       "\t<tr><td>(Intercept)     </td><td> 7</td><td>52.652735302</td><td>29.50924</td><td>0.07801231</td></tr>\n",
       "\t<tr><td>station_pressure</td><td> 7</td><td> 0.428152214</td><td>29.50924</td><td>0.07801231</td></tr>\n",
       "\t<tr><td>(Intercept)     </td><td> 8</td><td>50.349022485</td><td>26.88772</td><td>0.09116528</td></tr>\n",
       "\t<tr><td>dry_bulb_temp_f </td><td> 8</td><td> 0.005668784</td><td>26.88772</td><td>0.09116528</td></tr>\n",
       "\t<tr><td>station_pressure</td><td> 8</td><td> 0.496725913</td><td>26.88772</td><td>0.09116528</td></tr>\n",
       "\t<tr><td>(Intercept)     </td><td> 9</td><td>47.961989583</td><td>24.49909</td><td>0.10453289</td></tr>\n",
       "\t<tr><td>dry_bulb_temp_f </td><td> 9</td><td> 0.015122269</td><td>24.49909</td><td>0.10453289</td></tr>\n",
       "\t<tr><td>station_pressure</td><td> 9</td><td> 0.561122907</td><td>24.49909</td><td>0.10453289</td></tr>\n",
       "\t<tr><td>(Intercept)     </td><td>10</td><td>45.621694404</td><td>22.32266</td><td>0.11688445</td></tr>\n",
       "\t<tr><td>dry_bulb_temp_f </td><td>10</td><td> 0.024168255</td><td>22.32266</td><td>0.11688445</td></tr>\n",
       "\t<tr><td>station_pressure</td><td>10</td><td> 0.624672602</td><td>22.32266</td><td>0.11688445</td></tr>\n",
       "\t<tr><td>(Intercept)     </td><td>11</td><td>43.335573606</td><td>20.33957</td><td>0.12823511</td></tr>\n",
       "\t<tr><td>dry_bulb_temp_f </td><td>11</td><td> 0.032794148</td><td>20.33957</td><td>0.12823511</td></tr>\n",
       "\t<tr><td>station_pressure</td><td>11</td><td> 0.687143022</td><td>20.33957</td><td>0.12823511</td></tr>\n",
       "\t<tr><td>(Intercept)     </td><td>12</td><td>41.110706137</td><td>18.53266</td><td>0.13860753</td></tr>\n",
       "\t<tr><td>dry_bulb_temp_f </td><td>12</td><td> 0.040977795</td><td>18.53266</td><td>0.13860753</td></tr>\n",
       "\t<tr><td>station_pressure</td><td>12</td><td> 0.748332257</td><td>18.53266</td><td>0.13860753</td></tr>\n",
       "\t<tr><td>(Intercept)     </td><td>13</td><td>38.953304474</td><td>16.88627</td><td>0.14803452</td></tr>\n",
       "\t<tr><td>dry_bulb_temp_f </td><td>13</td><td> 0.048703475</td><td>16.88627</td><td>0.14803452</td></tr>\n",
       "\t<tr><td>⋮</td><td>⋮</td><td>⋮</td><td>⋮</td><td>⋮</td></tr>\n",
       "\t<tr><td>(Intercept)     </td><td>64</td><td> 6.6916933</td><td>0.1468682</td><td>0.2731055</td></tr>\n",
       "\t<tr><td>dry_bulb_temp_f </td><td>64</td><td> 0.1020059</td><td>0.1468682</td><td>0.2731055</td></tr>\n",
       "\t<tr><td>precip          </td><td>64</td><td>97.6266338</td><td>0.1468682</td><td>0.2731055</td></tr>\n",
       "\t<tr><td>wind_speed      </td><td>64</td><td>-0.6560170</td><td>0.1468682</td><td>0.2731055</td></tr>\n",
       "\t<tr><td>station_pressure</td><td>64</td><td> 2.0472466</td><td>0.1468682</td><td>0.2731055</td></tr>\n",
       "\t<tr><td>(Intercept)     </td><td>65</td><td> 6.6512298</td><td>0.1338208</td><td>0.2731105</td></tr>\n",
       "\t<tr><td>dry_bulb_temp_f </td><td>65</td><td> 0.1019634</td><td>0.1338208</td><td>0.2731105</td></tr>\n",
       "\t<tr><td>precip          </td><td>65</td><td>97.7534014</td><td>0.1338208</td><td>0.2731105</td></tr>\n",
       "\t<tr><td>wind_speed      </td><td>65</td><td>-0.6571196</td><td>0.1338208</td><td>0.2731105</td></tr>\n",
       "\t<tr><td>station_pressure</td><td>65</td><td> 2.0491085</td><td>0.1338208</td><td>0.2731105</td></tr>\n",
       "\t<tr><td>(Intercept)     </td><td>66</td><td> 6.6141010</td><td>0.1219325</td><td>0.2731145</td></tr>\n",
       "\t<tr><td>dry_bulb_temp_f </td><td>66</td><td> 0.1019597</td><td>0.1219325</td><td>0.2731145</td></tr>\n",
       "\t<tr><td>precip          </td><td>66</td><td>97.8687864</td><td>0.1219325</td><td>0.2731145</td></tr>\n",
       "\t<tr><td>wind_speed      </td><td>66</td><td>-0.6580708</td><td>0.1219325</td><td>0.2731145</td></tr>\n",
       "\t<tr><td>station_pressure</td><td>66</td><td> 2.0507288</td><td>0.1219325</td><td>0.2731145</td></tr>\n",
       "\t<tr><td>(Intercept)     </td><td>67</td><td> 6.5803988</td><td>0.1111004</td><td>0.2731180</td></tr>\n",
       "\t<tr><td>dry_bulb_temp_f </td><td>67</td><td> 0.1019302</td><td>0.1111004</td><td>0.2731180</td></tr>\n",
       "\t<tr><td>precip          </td><td>67</td><td>97.9741986</td><td>0.1111004</td><td>0.2731180</td></tr>\n",
       "\t<tr><td>wind_speed      </td><td>67</td><td>-0.6589786</td><td>0.1111004</td><td>0.2731180</td></tr>\n",
       "\t<tr><td>station_pressure</td><td>67</td><td> 2.0522646</td><td>0.1111004</td><td>0.2731180</td></tr>\n",
       "\t<tr><td>(Intercept)     </td><td>68</td><td> 6.5497061</td><td>0.1012305</td><td>0.2731209</td></tr>\n",
       "\t<tr><td>dry_bulb_temp_f </td><td>68</td><td> 0.1018962</td><td>0.1012305</td><td>0.2731209</td></tr>\n",
       "\t<tr><td>precip          </td><td>68</td><td>98.0703634</td><td>0.1012305</td><td>0.2731209</td></tr>\n",
       "\t<tr><td>wind_speed      </td><td>68</td><td>-0.6598174</td><td>0.1012305</td><td>0.2731209</td></tr>\n",
       "\t<tr><td>station_pressure</td><td>68</td><td> 2.0536811</td><td>0.1012305</td><td>0.2731209</td></tr>\n",
       "\t<tr><td>(Intercept)     </td><td>69</td><td> 6.5217286</td><td>0.0922375</td><td>0.2731233</td></tr>\n",
       "\t<tr><td>dry_bulb_temp_f </td><td>69</td><td> 0.1018631</td><td>0.0922375</td><td>0.2731233</td></tr>\n",
       "\t<tr><td>precip          </td><td>69</td><td>98.1580614</td><td>0.0922375</td><td>0.2731233</td></tr>\n",
       "\t<tr><td>wind_speed      </td><td>69</td><td>-0.6605855</td><td>0.0922375</td><td>0.2731233</td></tr>\n",
       "\t<tr><td>station_pressure</td><td>69</td><td> 2.0549774</td><td>0.0922375</td><td>0.2731233</td></tr>\n",
       "</tbody>\n",
       "</table>\n"
      ],
      "text/latex": [
       "A tibble: 309 × 5\n",
       "\\begin{tabular}{lllll}\n",
       " term & step & estimate & lambda & dev.ratio\\\\\n",
       " <chr> & <dbl> & <dbl> & <dbl> & <dbl>\\\\\n",
       "\\hline\n",
       "\t (Intercept)      &  1 & 65.119816674 & 51.56823 & 0.00000000\\\\\n",
       "\t (Intercept)      &  2 & 63.132108984 & 46.98705 & 0.01365956\\\\\n",
       "\t station\\_pressure &  2 &  0.068263086 & 46.98705 & 0.01365956\\\\\n",
       "\t (Intercept)      &  3 & 61.097853553 & 42.81285 & 0.02715919\\\\\n",
       "\t station\\_pressure &  3 &  0.138124743 & 42.81285 & 0.02715919\\\\\n",
       "\t (Intercept)      &  4 & 59.024481602 & 39.00948 & 0.04041895\\\\\n",
       "\t station\\_pressure &  4 &  0.209329764 & 39.00948 & 0.04041895\\\\\n",
       "\t (Intercept)      &  5 & 56.920056163 & 35.54398 & 0.05336172\\\\\n",
       "\t station\\_pressure &  5 &  0.281601243 & 35.54398 & 0.05336172\\\\\n",
       "\t (Intercept)      &  6 & 54.793154927 & 32.38635 & 0.06591494\\\\\n",
       "\t station\\_pressure &  6 &  0.354644600 & 32.38635 & 0.06591494\\\\\n",
       "\t (Intercept)      &  7 & 52.652735302 & 29.50924 & 0.07801231\\\\\n",
       "\t station\\_pressure &  7 &  0.428152214 & 29.50924 & 0.07801231\\\\\n",
       "\t (Intercept)      &  8 & 50.349022485 & 26.88772 & 0.09116528\\\\\n",
       "\t dry\\_bulb\\_temp\\_f  &  8 &  0.005668784 & 26.88772 & 0.09116528\\\\\n",
       "\t station\\_pressure &  8 &  0.496725913 & 26.88772 & 0.09116528\\\\\n",
       "\t (Intercept)      &  9 & 47.961989583 & 24.49909 & 0.10453289\\\\\n",
       "\t dry\\_bulb\\_temp\\_f  &  9 &  0.015122269 & 24.49909 & 0.10453289\\\\\n",
       "\t station\\_pressure &  9 &  0.561122907 & 24.49909 & 0.10453289\\\\\n",
       "\t (Intercept)      & 10 & 45.621694404 & 22.32266 & 0.11688445\\\\\n",
       "\t dry\\_bulb\\_temp\\_f  & 10 &  0.024168255 & 22.32266 & 0.11688445\\\\\n",
       "\t station\\_pressure & 10 &  0.624672602 & 22.32266 & 0.11688445\\\\\n",
       "\t (Intercept)      & 11 & 43.335573606 & 20.33957 & 0.12823511\\\\\n",
       "\t dry\\_bulb\\_temp\\_f  & 11 &  0.032794148 & 20.33957 & 0.12823511\\\\\n",
       "\t station\\_pressure & 11 &  0.687143022 & 20.33957 & 0.12823511\\\\\n",
       "\t (Intercept)      & 12 & 41.110706137 & 18.53266 & 0.13860753\\\\\n",
       "\t dry\\_bulb\\_temp\\_f  & 12 &  0.040977795 & 18.53266 & 0.13860753\\\\\n",
       "\t station\\_pressure & 12 &  0.748332257 & 18.53266 & 0.13860753\\\\\n",
       "\t (Intercept)      & 13 & 38.953304474 & 16.88627 & 0.14803452\\\\\n",
       "\t dry\\_bulb\\_temp\\_f  & 13 &  0.048703475 & 16.88627 & 0.14803452\\\\\n",
       "\t ⋮ & ⋮ & ⋮ & ⋮ & ⋮\\\\\n",
       "\t (Intercept)      & 64 &  6.6916933 & 0.1468682 & 0.2731055\\\\\n",
       "\t dry\\_bulb\\_temp\\_f  & 64 &  0.1020059 & 0.1468682 & 0.2731055\\\\\n",
       "\t precip           & 64 & 97.6266338 & 0.1468682 & 0.2731055\\\\\n",
       "\t wind\\_speed       & 64 & -0.6560170 & 0.1468682 & 0.2731055\\\\\n",
       "\t station\\_pressure & 64 &  2.0472466 & 0.1468682 & 0.2731055\\\\\n",
       "\t (Intercept)      & 65 &  6.6512298 & 0.1338208 & 0.2731105\\\\\n",
       "\t dry\\_bulb\\_temp\\_f  & 65 &  0.1019634 & 0.1338208 & 0.2731105\\\\\n",
       "\t precip           & 65 & 97.7534014 & 0.1338208 & 0.2731105\\\\\n",
       "\t wind\\_speed       & 65 & -0.6571196 & 0.1338208 & 0.2731105\\\\\n",
       "\t station\\_pressure & 65 &  2.0491085 & 0.1338208 & 0.2731105\\\\\n",
       "\t (Intercept)      & 66 &  6.6141010 & 0.1219325 & 0.2731145\\\\\n",
       "\t dry\\_bulb\\_temp\\_f  & 66 &  0.1019597 & 0.1219325 & 0.2731145\\\\\n",
       "\t precip           & 66 & 97.8687864 & 0.1219325 & 0.2731145\\\\\n",
       "\t wind\\_speed       & 66 & -0.6580708 & 0.1219325 & 0.2731145\\\\\n",
       "\t station\\_pressure & 66 &  2.0507288 & 0.1219325 & 0.2731145\\\\\n",
       "\t (Intercept)      & 67 &  6.5803988 & 0.1111004 & 0.2731180\\\\\n",
       "\t dry\\_bulb\\_temp\\_f  & 67 &  0.1019302 & 0.1111004 & 0.2731180\\\\\n",
       "\t precip           & 67 & 97.9741986 & 0.1111004 & 0.2731180\\\\\n",
       "\t wind\\_speed       & 67 & -0.6589786 & 0.1111004 & 0.2731180\\\\\n",
       "\t station\\_pressure & 67 &  2.0522646 & 0.1111004 & 0.2731180\\\\\n",
       "\t (Intercept)      & 68 &  6.5497061 & 0.1012305 & 0.2731209\\\\\n",
       "\t dry\\_bulb\\_temp\\_f  & 68 &  0.1018962 & 0.1012305 & 0.2731209\\\\\n",
       "\t precip           & 68 & 98.0703634 & 0.1012305 & 0.2731209\\\\\n",
       "\t wind\\_speed       & 68 & -0.6598174 & 0.1012305 & 0.2731209\\\\\n",
       "\t station\\_pressure & 68 &  2.0536811 & 0.1012305 & 0.2731209\\\\\n",
       "\t (Intercept)      & 69 &  6.5217286 & 0.0922375 & 0.2731233\\\\\n",
       "\t dry\\_bulb\\_temp\\_f  & 69 &  0.1018631 & 0.0922375 & 0.2731233\\\\\n",
       "\t precip           & 69 & 98.1580614 & 0.0922375 & 0.2731233\\\\\n",
       "\t wind\\_speed       & 69 & -0.6605855 & 0.0922375 & 0.2731233\\\\\n",
       "\t station\\_pressure & 69 &  2.0549774 & 0.0922375 & 0.2731233\\\\\n",
       "\\end{tabular}\n"
      ],
      "text/markdown": [
       "\n",
       "A tibble: 309 × 5\n",
       "\n",
       "| term &lt;chr&gt; | step &lt;dbl&gt; | estimate &lt;dbl&gt; | lambda &lt;dbl&gt; | dev.ratio &lt;dbl&gt; |\n",
       "|---|---|---|---|---|\n",
       "| (Intercept)      |  1 | 65.119816674 | 51.56823 | 0.00000000 |\n",
       "| (Intercept)      |  2 | 63.132108984 | 46.98705 | 0.01365956 |\n",
       "| station_pressure |  2 |  0.068263086 | 46.98705 | 0.01365956 |\n",
       "| (Intercept)      |  3 | 61.097853553 | 42.81285 | 0.02715919 |\n",
       "| station_pressure |  3 |  0.138124743 | 42.81285 | 0.02715919 |\n",
       "| (Intercept)      |  4 | 59.024481602 | 39.00948 | 0.04041895 |\n",
       "| station_pressure |  4 |  0.209329764 | 39.00948 | 0.04041895 |\n",
       "| (Intercept)      |  5 | 56.920056163 | 35.54398 | 0.05336172 |\n",
       "| station_pressure |  5 |  0.281601243 | 35.54398 | 0.05336172 |\n",
       "| (Intercept)      |  6 | 54.793154927 | 32.38635 | 0.06591494 |\n",
       "| station_pressure |  6 |  0.354644600 | 32.38635 | 0.06591494 |\n",
       "| (Intercept)      |  7 | 52.652735302 | 29.50924 | 0.07801231 |\n",
       "| station_pressure |  7 |  0.428152214 | 29.50924 | 0.07801231 |\n",
       "| (Intercept)      |  8 | 50.349022485 | 26.88772 | 0.09116528 |\n",
       "| dry_bulb_temp_f  |  8 |  0.005668784 | 26.88772 | 0.09116528 |\n",
       "| station_pressure |  8 |  0.496725913 | 26.88772 | 0.09116528 |\n",
       "| (Intercept)      |  9 | 47.961989583 | 24.49909 | 0.10453289 |\n",
       "| dry_bulb_temp_f  |  9 |  0.015122269 | 24.49909 | 0.10453289 |\n",
       "| station_pressure |  9 |  0.561122907 | 24.49909 | 0.10453289 |\n",
       "| (Intercept)      | 10 | 45.621694404 | 22.32266 | 0.11688445 |\n",
       "| dry_bulb_temp_f  | 10 |  0.024168255 | 22.32266 | 0.11688445 |\n",
       "| station_pressure | 10 |  0.624672602 | 22.32266 | 0.11688445 |\n",
       "| (Intercept)      | 11 | 43.335573606 | 20.33957 | 0.12823511 |\n",
       "| dry_bulb_temp_f  | 11 |  0.032794148 | 20.33957 | 0.12823511 |\n",
       "| station_pressure | 11 |  0.687143022 | 20.33957 | 0.12823511 |\n",
       "| (Intercept)      | 12 | 41.110706137 | 18.53266 | 0.13860753 |\n",
       "| dry_bulb_temp_f  | 12 |  0.040977795 | 18.53266 | 0.13860753 |\n",
       "| station_pressure | 12 |  0.748332257 | 18.53266 | 0.13860753 |\n",
       "| (Intercept)      | 13 | 38.953304474 | 16.88627 | 0.14803452 |\n",
       "| dry_bulb_temp_f  | 13 |  0.048703475 | 16.88627 | 0.14803452 |\n",
       "| ⋮ | ⋮ | ⋮ | ⋮ | ⋮ |\n",
       "| (Intercept)      | 64 |  6.6916933 | 0.1468682 | 0.2731055 |\n",
       "| dry_bulb_temp_f  | 64 |  0.1020059 | 0.1468682 | 0.2731055 |\n",
       "| precip           | 64 | 97.6266338 | 0.1468682 | 0.2731055 |\n",
       "| wind_speed       | 64 | -0.6560170 | 0.1468682 | 0.2731055 |\n",
       "| station_pressure | 64 |  2.0472466 | 0.1468682 | 0.2731055 |\n",
       "| (Intercept)      | 65 |  6.6512298 | 0.1338208 | 0.2731105 |\n",
       "| dry_bulb_temp_f  | 65 |  0.1019634 | 0.1338208 | 0.2731105 |\n",
       "| precip           | 65 | 97.7534014 | 0.1338208 | 0.2731105 |\n",
       "| wind_speed       | 65 | -0.6571196 | 0.1338208 | 0.2731105 |\n",
       "| station_pressure | 65 |  2.0491085 | 0.1338208 | 0.2731105 |\n",
       "| (Intercept)      | 66 |  6.6141010 | 0.1219325 | 0.2731145 |\n",
       "| dry_bulb_temp_f  | 66 |  0.1019597 | 0.1219325 | 0.2731145 |\n",
       "| precip           | 66 | 97.8687864 | 0.1219325 | 0.2731145 |\n",
       "| wind_speed       | 66 | -0.6580708 | 0.1219325 | 0.2731145 |\n",
       "| station_pressure | 66 |  2.0507288 | 0.1219325 | 0.2731145 |\n",
       "| (Intercept)      | 67 |  6.5803988 | 0.1111004 | 0.2731180 |\n",
       "| dry_bulb_temp_f  | 67 |  0.1019302 | 0.1111004 | 0.2731180 |\n",
       "| precip           | 67 | 97.9741986 | 0.1111004 | 0.2731180 |\n",
       "| wind_speed       | 67 | -0.6589786 | 0.1111004 | 0.2731180 |\n",
       "| station_pressure | 67 |  2.0522646 | 0.1111004 | 0.2731180 |\n",
       "| (Intercept)      | 68 |  6.5497061 | 0.1012305 | 0.2731209 |\n",
       "| dry_bulb_temp_f  | 68 |  0.1018962 | 0.1012305 | 0.2731209 |\n",
       "| precip           | 68 | 98.0703634 | 0.1012305 | 0.2731209 |\n",
       "| wind_speed       | 68 | -0.6598174 | 0.1012305 | 0.2731209 |\n",
       "| station_pressure | 68 |  2.0536811 | 0.1012305 | 0.2731209 |\n",
       "| (Intercept)      | 69 |  6.5217286 | 0.0922375 | 0.2731233 |\n",
       "| dry_bulb_temp_f  | 69 |  0.1018631 | 0.0922375 | 0.2731233 |\n",
       "| precip           | 69 | 98.1580614 | 0.0922375 | 0.2731233 |\n",
       "| wind_speed       | 69 | -0.6605855 | 0.0922375 | 0.2731233 |\n",
       "| station_pressure | 69 |  2.0549774 | 0.0922375 | 0.2731233 |\n",
       "\n"
      ],
      "text/plain": [
       "    term             step estimate     lambda    dev.ratio \n",
       "1   (Intercept)       1   65.119816674 51.56823  0.00000000\n",
       "2   (Intercept)       2   63.132108984 46.98705  0.01365956\n",
       "3   station_pressure  2    0.068263086 46.98705  0.01365956\n",
       "4   (Intercept)       3   61.097853553 42.81285  0.02715919\n",
       "5   station_pressure  3    0.138124743 42.81285  0.02715919\n",
       "6   (Intercept)       4   59.024481602 39.00948  0.04041895\n",
       "7   station_pressure  4    0.209329764 39.00948  0.04041895\n",
       "8   (Intercept)       5   56.920056163 35.54398  0.05336172\n",
       "9   station_pressure  5    0.281601243 35.54398  0.05336172\n",
       "10  (Intercept)       6   54.793154927 32.38635  0.06591494\n",
       "11  station_pressure  6    0.354644600 32.38635  0.06591494\n",
       "12  (Intercept)       7   52.652735302 29.50924  0.07801231\n",
       "13  station_pressure  7    0.428152214 29.50924  0.07801231\n",
       "14  (Intercept)       8   50.349022485 26.88772  0.09116528\n",
       "15  dry_bulb_temp_f   8    0.005668784 26.88772  0.09116528\n",
       "16  station_pressure  8    0.496725913 26.88772  0.09116528\n",
       "17  (Intercept)       9   47.961989583 24.49909  0.10453289\n",
       "18  dry_bulb_temp_f   9    0.015122269 24.49909  0.10453289\n",
       "19  station_pressure  9    0.561122907 24.49909  0.10453289\n",
       "20  (Intercept)      10   45.621694404 22.32266  0.11688445\n",
       "21  dry_bulb_temp_f  10    0.024168255 22.32266  0.11688445\n",
       "22  station_pressure 10    0.624672602 22.32266  0.11688445\n",
       "23  (Intercept)      11   43.335573606 20.33957  0.12823511\n",
       "24  dry_bulb_temp_f  11    0.032794148 20.33957  0.12823511\n",
       "25  station_pressure 11    0.687143022 20.33957  0.12823511\n",
       "26  (Intercept)      12   41.110706137 18.53266  0.13860753\n",
       "27  dry_bulb_temp_f  12    0.040977795 18.53266  0.13860753\n",
       "28  station_pressure 12    0.748332257 18.53266  0.13860753\n",
       "29  (Intercept)      13   38.953304474 16.88627  0.14803452\n",
       "30  dry_bulb_temp_f  13    0.048703475 16.88627  0.14803452\n",
       "⋮   ⋮                ⋮    ⋮            ⋮         ⋮         \n",
       "280 (Intercept)      64    6.6916933   0.1468682 0.2731055 \n",
       "281 dry_bulb_temp_f  64    0.1020059   0.1468682 0.2731055 \n",
       "282 precip           64   97.6266338   0.1468682 0.2731055 \n",
       "283 wind_speed       64   -0.6560170   0.1468682 0.2731055 \n",
       "284 station_pressure 64    2.0472466   0.1468682 0.2731055 \n",
       "285 (Intercept)      65    6.6512298   0.1338208 0.2731105 \n",
       "286 dry_bulb_temp_f  65    0.1019634   0.1338208 0.2731105 \n",
       "287 precip           65   97.7534014   0.1338208 0.2731105 \n",
       "288 wind_speed       65   -0.6571196   0.1338208 0.2731105 \n",
       "289 station_pressure 65    2.0491085   0.1338208 0.2731105 \n",
       "290 (Intercept)      66    6.6141010   0.1219325 0.2731145 \n",
       "291 dry_bulb_temp_f  66    0.1019597   0.1219325 0.2731145 \n",
       "292 precip           66   97.8687864   0.1219325 0.2731145 \n",
       "293 wind_speed       66   -0.6580708   0.1219325 0.2731145 \n",
       "294 station_pressure 66    2.0507288   0.1219325 0.2731145 \n",
       "295 (Intercept)      67    6.5803988   0.1111004 0.2731180 \n",
       "296 dry_bulb_temp_f  67    0.1019302   0.1111004 0.2731180 \n",
       "297 precip           67   97.9741986   0.1111004 0.2731180 \n",
       "298 wind_speed       67   -0.6589786   0.1111004 0.2731180 \n",
       "299 station_pressure 67    2.0522646   0.1111004 0.2731180 \n",
       "300 (Intercept)      68    6.5497061   0.1012305 0.2731209 \n",
       "301 dry_bulb_temp_f  68    0.1018962   0.1012305 0.2731209 \n",
       "302 precip           68   98.0703634   0.1012305 0.2731209 \n",
       "303 wind_speed       68   -0.6598174   0.1012305 0.2731209 \n",
       "304 station_pressure 68    2.0536811   0.1012305 0.2731209 \n",
       "305 (Intercept)      69    6.5217286   0.0922375 0.2731233 \n",
       "306 dry_bulb_temp_f  69    0.1018631   0.0922375 0.2731233 \n",
       "307 precip           69   98.1580614   0.0922375 0.2731233 \n",
       "308 wind_speed       69   -0.6605855   0.0922375 0.2731233 \n",
       "309 station_pressure 69    2.0549774   0.0922375 0.2731233 "
      ]
     },
     "metadata": {},
     "output_type": "display_data"
    },
    {
     "data": {
      "text/html": [
       "499.081478002744"
      ],
      "text/latex": [
       "499.081478002744"
      ],
      "text/markdown": [
       "499.081478002744"
      ],
      "text/plain": [
       "[1] 499.0815"
      ]
     },
     "metadata": {},
     "output_type": "display_data"
    },
    {
     "data": {
      "text/html": [
       "22.340131557418"
      ],
      "text/latex": [
       "22.340131557418"
      ],
      "text/markdown": [
       "22.340131557418"
      ],
      "text/plain": [
       "[1] 22.34013"
      ]
     },
     "metadata": {},
     "output_type": "display_data"
    },
    {
     "data": {
      "text/html": [
       "0.0231191546095873"
      ],
      "text/latex": [
       "0.0231191546095873"
      ],
      "text/markdown": [
       "0.0231191546095873"
      ],
      "text/plain": [
       "[1] 0.02311915"
      ]
     },
     "metadata": {},
     "output_type": "display_data"
    },
    {
     "name": "stderr",
     "output_type": "stream",
     "text": [
      "`geom_smooth()` using formula 'y ~ x'\n"
     ]
    },
    {
     "data": {},
     "metadata": {},
     "output_type": "display_data"
    },
    {
     "data": {
      "image/png": "[encoded data removed]",
      "text/plain": [
       "plot without title"
      ]
     },
     "metadata": {},
     "output_type": "display_data",
     "source": "R display func"
    }
   ],
   "source": [
    "linear_model5 <- lm(relative_humidity ~ precip, data = train_data)\n",
    "summary(linear_model5)\n",
    "\n",
    "weather_recipe <-\n",
    "  recipe(relative_humidity ~ ., data = train_data)\n",
    "\n",
    "el_spec <- linear_reg(penalty = 0.5, mixture = 0.2) %>%\n",
    "  set_engine(\"glmnet\")\n",
    "\n",
    "el_wf <- workflow() %>%\n",
    "  add_recipe(weather_recipe)\n",
    "\n",
    "el_fit <- el_wf %>%\n",
    "  add_model(el_spec) %>%\n",
    "  fit(data = train_data)\n",
    "\n",
    "el_fit %>%\n",
    "  pull_workflow_fit() %>%\n",
    "  tidy()\n",
    "\n",
    "mse <- mean(linear_model5$residuals^2)\n",
    "mse\n",
    "\n",
    "rmse <- sqrt(mse)\n",
    "rmse\n",
    "\n",
    "summary(linear_model5)$r.squared\n",
    "\n",
    "ggplot(linear_model5, aes(x = relative_humidity, y = precip)) +\n",
    "  geom_point() + \n",
    "  stat_smooth(method = \"lm\", col = \"red\")"
   ]
  },
  {
   "cell_type": "code",
   "execution_count": 71,
   "metadata": {},
   "outputs": [
    {
     "data": {
      "text/plain": [
       "\n",
       "Call:\n",
       "lm(formula = wind_speed ~ precip, data = train_data)\n",
       "\n",
       "Residuals:\n",
       "    Min      1Q  Median      3Q     Max \n",
       "-15.082  -3.866  -0.866   4.134  41.134 \n",
       "\n",
       "Coefficients:\n",
       "            Estimate Std. Error t value Pr(>|t|)    \n",
       "(Intercept) 10.86634    0.09639 112.730  < 2e-16 ***\n",
       "precip      12.28740    2.65277   4.632 3.72e-06 ***\n",
       "---\n",
       "Signif. codes:  0 ‘***’ 0.001 ‘**’ 0.01 ‘*’ 0.05 ‘.’ 0.1 ‘ ’ 1\n",
       "\n",
       "Residual standard error: 6.47 on 4580 degrees of freedom\n",
       "Multiple R-squared:  0.004663,\tAdjusted R-squared:  0.004445 \n",
       "F-statistic: 21.45 on 1 and 4580 DF,  p-value: 3.723e-06\n"
      ]
     },
     "metadata": {},
     "output_type": "display_data"
    },
    {
     "data": {
      "text/html": [
       "<table>\n",
       "<caption>A tibble: 309 × 5</caption>\n",
       "<thead>\n",
       "\t<tr><th scope=col>term</th><th scope=col>step</th><th scope=col>estimate</th><th scope=col>lambda</th><th scope=col>dev.ratio</th></tr>\n",
       "\t<tr><th scope=col>&lt;chr&gt;</th><th scope=col>&lt;dbl&gt;</th><th scope=col>&lt;dbl&gt;</th><th scope=col>&lt;dbl&gt;</th><th scope=col>&lt;dbl&gt;</th></tr>\n",
       "</thead>\n",
       "<tbody>\n",
       "\t<tr><td>(Intercept)     </td><td> 1</td><td>65.119816674</td><td>51.56823</td><td>0.00000000</td></tr>\n",
       "\t<tr><td>(Intercept)     </td><td> 2</td><td>63.132108984</td><td>46.98705</td><td>0.01365956</td></tr>\n",
       "\t<tr><td>station_pressure</td><td> 2</td><td> 0.068263086</td><td>46.98705</td><td>0.01365956</td></tr>\n",
       "\t<tr><td>(Intercept)     </td><td> 3</td><td>61.097853553</td><td>42.81285</td><td>0.02715919</td></tr>\n",
       "\t<tr><td>station_pressure</td><td> 3</td><td> 0.138124743</td><td>42.81285</td><td>0.02715919</td></tr>\n",
       "\t<tr><td>(Intercept)     </td><td> 4</td><td>59.024481602</td><td>39.00948</td><td>0.04041895</td></tr>\n",
       "\t<tr><td>station_pressure</td><td> 4</td><td> 0.209329764</td><td>39.00948</td><td>0.04041895</td></tr>\n",
       "\t<tr><td>(Intercept)     </td><td> 5</td><td>56.920056163</td><td>35.54398</td><td>0.05336172</td></tr>\n",
       "\t<tr><td>station_pressure</td><td> 5</td><td> 0.281601243</td><td>35.54398</td><td>0.05336172</td></tr>\n",
       "\t<tr><td>(Intercept)     </td><td> 6</td><td>54.793154927</td><td>32.38635</td><td>0.06591494</td></tr>\n",
       "\t<tr><td>station_pressure</td><td> 6</td><td> 0.354644600</td><td>32.38635</td><td>0.06591494</td></tr>\n",
       "\t<tr><td>(Intercept)     </td><td> 7</td><td>52.652735302</td><td>29.50924</td><td>0.07801231</td></tr>\n",
       "\t<tr><td>station_pressure</td><td> 7</td><td> 0.428152214</td><td>29.50924</td><td>0.07801231</td></tr>\n",
       "\t<tr><td>(Intercept)     </td><td> 8</td><td>50.349022485</td><td>26.88772</td><td>0.09116528</td></tr>\n",
       "\t<tr><td>dry_bulb_temp_f </td><td> 8</td><td> 0.005668784</td><td>26.88772</td><td>0.09116528</td></tr>\n",
       "\t<tr><td>station_pressure</td><td> 8</td><td> 0.496725913</td><td>26.88772</td><td>0.09116528</td></tr>\n",
       "\t<tr><td>(Intercept)     </td><td> 9</td><td>47.961989583</td><td>24.49909</td><td>0.10453289</td></tr>\n",
       "\t<tr><td>dry_bulb_temp_f </td><td> 9</td><td> 0.015122269</td><td>24.49909</td><td>0.10453289</td></tr>\n",
       "\t<tr><td>station_pressure</td><td> 9</td><td> 0.561122907</td><td>24.49909</td><td>0.10453289</td></tr>\n",
       "\t<tr><td>(Intercept)     </td><td>10</td><td>45.621694404</td><td>22.32266</td><td>0.11688445</td></tr>\n",
       "\t<tr><td>dry_bulb_temp_f </td><td>10</td><td> 0.024168255</td><td>22.32266</td><td>0.11688445</td></tr>\n",
       "\t<tr><td>station_pressure</td><td>10</td><td> 0.624672602</td><td>22.32266</td><td>0.11688445</td></tr>\n",
       "\t<tr><td>(Intercept)     </td><td>11</td><td>43.335573606</td><td>20.33957</td><td>0.12823511</td></tr>\n",
       "\t<tr><td>dry_bulb_temp_f </td><td>11</td><td> 0.032794148</td><td>20.33957</td><td>0.12823511</td></tr>\n",
       "\t<tr><td>station_pressure</td><td>11</td><td> 0.687143022</td><td>20.33957</td><td>0.12823511</td></tr>\n",
       "\t<tr><td>(Intercept)     </td><td>12</td><td>41.110706137</td><td>18.53266</td><td>0.13860753</td></tr>\n",
       "\t<tr><td>dry_bulb_temp_f </td><td>12</td><td> 0.040977795</td><td>18.53266</td><td>0.13860753</td></tr>\n",
       "\t<tr><td>station_pressure</td><td>12</td><td> 0.748332257</td><td>18.53266</td><td>0.13860753</td></tr>\n",
       "\t<tr><td>(Intercept)     </td><td>13</td><td>38.953304474</td><td>16.88627</td><td>0.14803452</td></tr>\n",
       "\t<tr><td>dry_bulb_temp_f </td><td>13</td><td> 0.048703475</td><td>16.88627</td><td>0.14803452</td></tr>\n",
       "\t<tr><td>⋮</td><td>⋮</td><td>⋮</td><td>⋮</td><td>⋮</td></tr>\n",
       "\t<tr><td>(Intercept)     </td><td>64</td><td> 6.6916933</td><td>0.1468682</td><td>0.2731055</td></tr>\n",
       "\t<tr><td>dry_bulb_temp_f </td><td>64</td><td> 0.1020059</td><td>0.1468682</td><td>0.2731055</td></tr>\n",
       "\t<tr><td>precip          </td><td>64</td><td>97.6266338</td><td>0.1468682</td><td>0.2731055</td></tr>\n",
       "\t<tr><td>wind_speed      </td><td>64</td><td>-0.6560170</td><td>0.1468682</td><td>0.2731055</td></tr>\n",
       "\t<tr><td>station_pressure</td><td>64</td><td> 2.0472466</td><td>0.1468682</td><td>0.2731055</td></tr>\n",
       "\t<tr><td>(Intercept)     </td><td>65</td><td> 6.6512298</td><td>0.1338208</td><td>0.2731105</td></tr>\n",
       "\t<tr><td>dry_bulb_temp_f </td><td>65</td><td> 0.1019634</td><td>0.1338208</td><td>0.2731105</td></tr>\n",
       "\t<tr><td>precip          </td><td>65</td><td>97.7534014</td><td>0.1338208</td><td>0.2731105</td></tr>\n",
       "\t<tr><td>wind_speed      </td><td>65</td><td>-0.6571196</td><td>0.1338208</td><td>0.2731105</td></tr>\n",
       "\t<tr><td>station_pressure</td><td>65</td><td> 2.0491085</td><td>0.1338208</td><td>0.2731105</td></tr>\n",
       "\t<tr><td>(Intercept)     </td><td>66</td><td> 6.6141010</td><td>0.1219325</td><td>0.2731145</td></tr>\n",
       "\t<tr><td>dry_bulb_temp_f </td><td>66</td><td> 0.1019597</td><td>0.1219325</td><td>0.2731145</td></tr>\n",
       "\t<tr><td>precip          </td><td>66</td><td>97.8687864</td><td>0.1219325</td><td>0.2731145</td></tr>\n",
       "\t<tr><td>wind_speed      </td><td>66</td><td>-0.6580708</td><td>0.1219325</td><td>0.2731145</td></tr>\n",
       "\t<tr><td>station_pressure</td><td>66</td><td> 2.0507288</td><td>0.1219325</td><td>0.2731145</td></tr>\n",
       "\t<tr><td>(Intercept)     </td><td>67</td><td> 6.5803988</td><td>0.1111004</td><td>0.2731180</td></tr>\n",
       "\t<tr><td>dry_bulb_temp_f </td><td>67</td><td> 0.1019302</td><td>0.1111004</td><td>0.2731180</td></tr>\n",
       "\t<tr><td>precip          </td><td>67</td><td>97.9741986</td><td>0.1111004</td><td>0.2731180</td></tr>\n",
       "\t<tr><td>wind_speed      </td><td>67</td><td>-0.6589786</td><td>0.1111004</td><td>0.2731180</td></tr>\n",
       "\t<tr><td>station_pressure</td><td>67</td><td> 2.0522646</td><td>0.1111004</td><td>0.2731180</td></tr>\n",
       "\t<tr><td>(Intercept)     </td><td>68</td><td> 6.5497061</td><td>0.1012305</td><td>0.2731209</td></tr>\n",
       "\t<tr><td>dry_bulb_temp_f </td><td>68</td><td> 0.1018962</td><td>0.1012305</td><td>0.2731209</td></tr>\n",
       "\t<tr><td>precip          </td><td>68</td><td>98.0703634</td><td>0.1012305</td><td>0.2731209</td></tr>\n",
       "\t<tr><td>wind_speed      </td><td>68</td><td>-0.6598174</td><td>0.1012305</td><td>0.2731209</td></tr>\n",
       "\t<tr><td>station_pressure</td><td>68</td><td> 2.0536811</td><td>0.1012305</td><td>0.2731209</td></tr>\n",
       "\t<tr><td>(Intercept)     </td><td>69</td><td> 6.5217286</td><td>0.0922375</td><td>0.2731233</td></tr>\n",
       "\t<tr><td>dry_bulb_temp_f </td><td>69</td><td> 0.1018631</td><td>0.0922375</td><td>0.2731233</td></tr>\n",
       "\t<tr><td>precip          </td><td>69</td><td>98.1580614</td><td>0.0922375</td><td>0.2731233</td></tr>\n",
       "\t<tr><td>wind_speed      </td><td>69</td><td>-0.6605855</td><td>0.0922375</td><td>0.2731233</td></tr>\n",
       "\t<tr><td>station_pressure</td><td>69</td><td> 2.0549774</td><td>0.0922375</td><td>0.2731233</td></tr>\n",
       "</tbody>\n",
       "</table>\n"
      ],
      "text/latex": [
       "A tibble: 309 × 5\n",
       "\\begin{tabular}{lllll}\n",
       " term & step & estimate & lambda & dev.ratio\\\\\n",
       " <chr> & <dbl> & <dbl> & <dbl> & <dbl>\\\\\n",
       "\\hline\n",
       "\t (Intercept)      &  1 & 65.119816674 & 51.56823 & 0.00000000\\\\\n",
       "\t (Intercept)      &  2 & 63.132108984 & 46.98705 & 0.01365956\\\\\n",
       "\t station\\_pressure &  2 &  0.068263086 & 46.98705 & 0.01365956\\\\\n",
       "\t (Intercept)      &  3 & 61.097853553 & 42.81285 & 0.02715919\\\\\n",
       "\t station\\_pressure &  3 &  0.138124743 & 42.81285 & 0.02715919\\\\\n",
       "\t (Intercept)      &  4 & 59.024481602 & 39.00948 & 0.04041895\\\\\n",
       "\t station\\_pressure &  4 &  0.209329764 & 39.00948 & 0.04041895\\\\\n",
       "\t (Intercept)      &  5 & 56.920056163 & 35.54398 & 0.05336172\\\\\n",
       "\t station\\_pressure &  5 &  0.281601243 & 35.54398 & 0.05336172\\\\\n",
       "\t (Intercept)      &  6 & 54.793154927 & 32.38635 & 0.06591494\\\\\n",
       "\t station\\_pressure &  6 &  0.354644600 & 32.38635 & 0.06591494\\\\\n",
       "\t (Intercept)      &  7 & 52.652735302 & 29.50924 & 0.07801231\\\\\n",
       "\t station\\_pressure &  7 &  0.428152214 & 29.50924 & 0.07801231\\\\\n",
       "\t (Intercept)      &  8 & 50.349022485 & 26.88772 & 0.09116528\\\\\n",
       "\t dry\\_bulb\\_temp\\_f  &  8 &  0.005668784 & 26.88772 & 0.09116528\\\\\n",
       "\t station\\_pressure &  8 &  0.496725913 & 26.88772 & 0.09116528\\\\\n",
       "\t (Intercept)      &  9 & 47.961989583 & 24.49909 & 0.10453289\\\\\n",
       "\t dry\\_bulb\\_temp\\_f  &  9 &  0.015122269 & 24.49909 & 0.10453289\\\\\n",
       "\t station\\_pressure &  9 &  0.561122907 & 24.49909 & 0.10453289\\\\\n",
       "\t (Intercept)      & 10 & 45.621694404 & 22.32266 & 0.11688445\\\\\n",
       "\t dry\\_bulb\\_temp\\_f  & 10 &  0.024168255 & 22.32266 & 0.11688445\\\\\n",
       "\t station\\_pressure & 10 &  0.624672602 & 22.32266 & 0.11688445\\\\\n",
       "\t (Intercept)      & 11 & 43.335573606 & 20.33957 & 0.12823511\\\\\n",
       "\t dry\\_bulb\\_temp\\_f  & 11 &  0.032794148 & 20.33957 & 0.12823511\\\\\n",
       "\t station\\_pressure & 11 &  0.687143022 & 20.33957 & 0.12823511\\\\\n",
       "\t (Intercept)      & 12 & 41.110706137 & 18.53266 & 0.13860753\\\\\n",
       "\t dry\\_bulb\\_temp\\_f  & 12 &  0.040977795 & 18.53266 & 0.13860753\\\\\n",
       "\t station\\_pressure & 12 &  0.748332257 & 18.53266 & 0.13860753\\\\\n",
       "\t (Intercept)      & 13 & 38.953304474 & 16.88627 & 0.14803452\\\\\n",
       "\t dry\\_bulb\\_temp\\_f  & 13 &  0.048703475 & 16.88627 & 0.14803452\\\\\n",
       "\t ⋮ & ⋮ & ⋮ & ⋮ & ⋮\\\\\n",
       "\t (Intercept)      & 64 &  6.6916933 & 0.1468682 & 0.2731055\\\\\n",
       "\t dry\\_bulb\\_temp\\_f  & 64 &  0.1020059 & 0.1468682 & 0.2731055\\\\\n",
       "\t precip           & 64 & 97.6266338 & 0.1468682 & 0.2731055\\\\\n",
       "\t wind\\_speed       & 64 & -0.6560170 & 0.1468682 & 0.2731055\\\\\n",
       "\t station\\_pressure & 64 &  2.0472466 & 0.1468682 & 0.2731055\\\\\n",
       "\t (Intercept)      & 65 &  6.6512298 & 0.1338208 & 0.2731105\\\\\n",
       "\t dry\\_bulb\\_temp\\_f  & 65 &  0.1019634 & 0.1338208 & 0.2731105\\\\\n",
       "\t precip           & 65 & 97.7534014 & 0.1338208 & 0.2731105\\\\\n",
       "\t wind\\_speed       & 65 & -0.6571196 & 0.1338208 & 0.2731105\\\\\n",
       "\t station\\_pressure & 65 &  2.0491085 & 0.1338208 & 0.2731105\\\\\n",
       "\t (Intercept)      & 66 &  6.6141010 & 0.1219325 & 0.2731145\\\\\n",
       "\t dry\\_bulb\\_temp\\_f  & 66 &  0.1019597 & 0.1219325 & 0.2731145\\\\\n",
       "\t precip           & 66 & 97.8687864 & 0.1219325 & 0.2731145\\\\\n",
       "\t wind\\_speed       & 66 & -0.6580708 & 0.1219325 & 0.2731145\\\\\n",
       "\t station\\_pressure & 66 &  2.0507288 & 0.1219325 & 0.2731145\\\\\n",
       "\t (Intercept)      & 67 &  6.5803988 & 0.1111004 & 0.2731180\\\\\n",
       "\t dry\\_bulb\\_temp\\_f  & 67 &  0.1019302 & 0.1111004 & 0.2731180\\\\\n",
       "\t precip           & 67 & 97.9741986 & 0.1111004 & 0.2731180\\\\\n",
       "\t wind\\_speed       & 67 & -0.6589786 & 0.1111004 & 0.2731180\\\\\n",
       "\t station\\_pressure & 67 &  2.0522646 & 0.1111004 & 0.2731180\\\\\n",
       "\t (Intercept)      & 68 &  6.5497061 & 0.1012305 & 0.2731209\\\\\n",
       "\t dry\\_bulb\\_temp\\_f  & 68 &  0.1018962 & 0.1012305 & 0.2731209\\\\\n",
       "\t precip           & 68 & 98.0703634 & 0.1012305 & 0.2731209\\\\\n",
       "\t wind\\_speed       & 68 & -0.6598174 & 0.1012305 & 0.2731209\\\\\n",
       "\t station\\_pressure & 68 &  2.0536811 & 0.1012305 & 0.2731209\\\\\n",
       "\t (Intercept)      & 69 &  6.5217286 & 0.0922375 & 0.2731233\\\\\n",
       "\t dry\\_bulb\\_temp\\_f  & 69 &  0.1018631 & 0.0922375 & 0.2731233\\\\\n",
       "\t precip           & 69 & 98.1580614 & 0.0922375 & 0.2731233\\\\\n",
       "\t wind\\_speed       & 69 & -0.6605855 & 0.0922375 & 0.2731233\\\\\n",
       "\t station\\_pressure & 69 &  2.0549774 & 0.0922375 & 0.2731233\\\\\n",
       "\\end{tabular}\n"
      ],
      "text/markdown": [
       "\n",
       "A tibble: 309 × 5\n",
       "\n",
       "| term &lt;chr&gt; | step &lt;dbl&gt; | estimate &lt;dbl&gt; | lambda &lt;dbl&gt; | dev.ratio &lt;dbl&gt; |\n",
       "|---|---|---|---|---|\n",
       "| (Intercept)      |  1 | 65.119816674 | 51.56823 | 0.00000000 |\n",
       "| (Intercept)      |  2 | 63.132108984 | 46.98705 | 0.01365956 |\n",
       "| station_pressure |  2 |  0.068263086 | 46.98705 | 0.01365956 |\n",
       "| (Intercept)      |  3 | 61.097853553 | 42.81285 | 0.02715919 |\n",
       "| station_pressure |  3 |  0.138124743 | 42.81285 | 0.02715919 |\n",
       "| (Intercept)      |  4 | 59.024481602 | 39.00948 | 0.04041895 |\n",
       "| station_pressure |  4 |  0.209329764 | 39.00948 | 0.04041895 |\n",
       "| (Intercept)      |  5 | 56.920056163 | 35.54398 | 0.05336172 |\n",
       "| station_pressure |  5 |  0.281601243 | 35.54398 | 0.05336172 |\n",
       "| (Intercept)      |  6 | 54.793154927 | 32.38635 | 0.06591494 |\n",
       "| station_pressure |  6 |  0.354644600 | 32.38635 | 0.06591494 |\n",
       "| (Intercept)      |  7 | 52.652735302 | 29.50924 | 0.07801231 |\n",
       "| station_pressure |  7 |  0.428152214 | 29.50924 | 0.07801231 |\n",
       "| (Intercept)      |  8 | 50.349022485 | 26.88772 | 0.09116528 |\n",
       "| dry_bulb_temp_f  |  8 |  0.005668784 | 26.88772 | 0.09116528 |\n",
       "| station_pressure |  8 |  0.496725913 | 26.88772 | 0.09116528 |\n",
       "| (Intercept)      |  9 | 47.961989583 | 24.49909 | 0.10453289 |\n",
       "| dry_bulb_temp_f  |  9 |  0.015122269 | 24.49909 | 0.10453289 |\n",
       "| station_pressure |  9 |  0.561122907 | 24.49909 | 0.10453289 |\n",
       "| (Intercept)      | 10 | 45.621694404 | 22.32266 | 0.11688445 |\n",
       "| dry_bulb_temp_f  | 10 |  0.024168255 | 22.32266 | 0.11688445 |\n",
       "| station_pressure | 10 |  0.624672602 | 22.32266 | 0.11688445 |\n",
       "| (Intercept)      | 11 | 43.335573606 | 20.33957 | 0.12823511 |\n",
       "| dry_bulb_temp_f  | 11 |  0.032794148 | 20.33957 | 0.12823511 |\n",
       "| station_pressure | 11 |  0.687143022 | 20.33957 | 0.12823511 |\n",
       "| (Intercept)      | 12 | 41.110706137 | 18.53266 | 0.13860753 |\n",
       "| dry_bulb_temp_f  | 12 |  0.040977795 | 18.53266 | 0.13860753 |\n",
       "| station_pressure | 12 |  0.748332257 | 18.53266 | 0.13860753 |\n",
       "| (Intercept)      | 13 | 38.953304474 | 16.88627 | 0.14803452 |\n",
       "| dry_bulb_temp_f  | 13 |  0.048703475 | 16.88627 | 0.14803452 |\n",
       "| ⋮ | ⋮ | ⋮ | ⋮ | ⋮ |\n",
       "| (Intercept)      | 64 |  6.6916933 | 0.1468682 | 0.2731055 |\n",
       "| dry_bulb_temp_f  | 64 |  0.1020059 | 0.1468682 | 0.2731055 |\n",
       "| precip           | 64 | 97.6266338 | 0.1468682 | 0.2731055 |\n",
       "| wind_speed       | 64 | -0.6560170 | 0.1468682 | 0.2731055 |\n",
       "| station_pressure | 64 |  2.0472466 | 0.1468682 | 0.2731055 |\n",
       "| (Intercept)      | 65 |  6.6512298 | 0.1338208 | 0.2731105 |\n",
       "| dry_bulb_temp_f  | 65 |  0.1019634 | 0.1338208 | 0.2731105 |\n",
       "| precip           | 65 | 97.7534014 | 0.1338208 | 0.2731105 |\n",
       "| wind_speed       | 65 | -0.6571196 | 0.1338208 | 0.2731105 |\n",
       "| station_pressure | 65 |  2.0491085 | 0.1338208 | 0.2731105 |\n",
       "| (Intercept)      | 66 |  6.6141010 | 0.1219325 | 0.2731145 |\n",
       "| dry_bulb_temp_f  | 66 |  0.1019597 | 0.1219325 | 0.2731145 |\n",
       "| precip           | 66 | 97.8687864 | 0.1219325 | 0.2731145 |\n",
       "| wind_speed       | 66 | -0.6580708 | 0.1219325 | 0.2731145 |\n",
       "| station_pressure | 66 |  2.0507288 | 0.1219325 | 0.2731145 |\n",
       "| (Intercept)      | 67 |  6.5803988 | 0.1111004 | 0.2731180 |\n",
       "| dry_bulb_temp_f  | 67 |  0.1019302 | 0.1111004 | 0.2731180 |\n",
       "| precip           | 67 | 97.9741986 | 0.1111004 | 0.2731180 |\n",
       "| wind_speed       | 67 | -0.6589786 | 0.1111004 | 0.2731180 |\n",
       "| station_pressure | 67 |  2.0522646 | 0.1111004 | 0.2731180 |\n",
       "| (Intercept)      | 68 |  6.5497061 | 0.1012305 | 0.2731209 |\n",
       "| dry_bulb_temp_f  | 68 |  0.1018962 | 0.1012305 | 0.2731209 |\n",
       "| precip           | 68 | 98.0703634 | 0.1012305 | 0.2731209 |\n",
       "| wind_speed       | 68 | -0.6598174 | 0.1012305 | 0.2731209 |\n",
       "| station_pressure | 68 |  2.0536811 | 0.1012305 | 0.2731209 |\n",
       "| (Intercept)      | 69 |  6.5217286 | 0.0922375 | 0.2731233 |\n",
       "| dry_bulb_temp_f  | 69 |  0.1018631 | 0.0922375 | 0.2731233 |\n",
       "| precip           | 69 | 98.1580614 | 0.0922375 | 0.2731233 |\n",
       "| wind_speed       | 69 | -0.6605855 | 0.0922375 | 0.2731233 |\n",
       "| station_pressure | 69 |  2.0549774 | 0.0922375 | 0.2731233 |\n",
       "\n"
      ],
      "text/plain": [
       "    term             step estimate     lambda    dev.ratio \n",
       "1   (Intercept)       1   65.119816674 51.56823  0.00000000\n",
       "2   (Intercept)       2   63.132108984 46.98705  0.01365956\n",
       "3   station_pressure  2    0.068263086 46.98705  0.01365956\n",
       "4   (Intercept)       3   61.097853553 42.81285  0.02715919\n",
       "5   station_pressure  3    0.138124743 42.81285  0.02715919\n",
       "6   (Intercept)       4   59.024481602 39.00948  0.04041895\n",
       "7   station_pressure  4    0.209329764 39.00948  0.04041895\n",
       "8   (Intercept)       5   56.920056163 35.54398  0.05336172\n",
       "9   station_pressure  5    0.281601243 35.54398  0.05336172\n",
       "10  (Intercept)       6   54.793154927 32.38635  0.06591494\n",
       "11  station_pressure  6    0.354644600 32.38635  0.06591494\n",
       "12  (Intercept)       7   52.652735302 29.50924  0.07801231\n",
       "13  station_pressure  7    0.428152214 29.50924  0.07801231\n",
       "14  (Intercept)       8   50.349022485 26.88772  0.09116528\n",
       "15  dry_bulb_temp_f   8    0.005668784 26.88772  0.09116528\n",
       "16  station_pressure  8    0.496725913 26.88772  0.09116528\n",
       "17  (Intercept)       9   47.961989583 24.49909  0.10453289\n",
       "18  dry_bulb_temp_f   9    0.015122269 24.49909  0.10453289\n",
       "19  station_pressure  9    0.561122907 24.49909  0.10453289\n",
       "20  (Intercept)      10   45.621694404 22.32266  0.11688445\n",
       "21  dry_bulb_temp_f  10    0.024168255 22.32266  0.11688445\n",
       "22  station_pressure 10    0.624672602 22.32266  0.11688445\n",
       "23  (Intercept)      11   43.335573606 20.33957  0.12823511\n",
       "24  dry_bulb_temp_f  11    0.032794148 20.33957  0.12823511\n",
       "25  station_pressure 11    0.687143022 20.33957  0.12823511\n",
       "26  (Intercept)      12   41.110706137 18.53266  0.13860753\n",
       "27  dry_bulb_temp_f  12    0.040977795 18.53266  0.13860753\n",
       "28  station_pressure 12    0.748332257 18.53266  0.13860753\n",
       "29  (Intercept)      13   38.953304474 16.88627  0.14803452\n",
       "30  dry_bulb_temp_f  13    0.048703475 16.88627  0.14803452\n",
       "⋮   ⋮                ⋮    ⋮            ⋮         ⋮         \n",
       "280 (Intercept)      64    6.6916933   0.1468682 0.2731055 \n",
       "281 dry_bulb_temp_f  64    0.1020059   0.1468682 0.2731055 \n",
       "282 precip           64   97.6266338   0.1468682 0.2731055 \n",
       "283 wind_speed       64   -0.6560170   0.1468682 0.2731055 \n",
       "284 station_pressure 64    2.0472466   0.1468682 0.2731055 \n",
       "285 (Intercept)      65    6.6512298   0.1338208 0.2731105 \n",
       "286 dry_bulb_temp_f  65    0.1019634   0.1338208 0.2731105 \n",
       "287 precip           65   97.7534014   0.1338208 0.2731105 \n",
       "288 wind_speed       65   -0.6571196   0.1338208 0.2731105 \n",
       "289 station_pressure 65    2.0491085   0.1338208 0.2731105 \n",
       "290 (Intercept)      66    6.6141010   0.1219325 0.2731145 \n",
       "291 dry_bulb_temp_f  66    0.1019597   0.1219325 0.2731145 \n",
       "292 precip           66   97.8687864   0.1219325 0.2731145 \n",
       "293 wind_speed       66   -0.6580708   0.1219325 0.2731145 \n",
       "294 station_pressure 66    2.0507288   0.1219325 0.2731145 \n",
       "295 (Intercept)      67    6.5803988   0.1111004 0.2731180 \n",
       "296 dry_bulb_temp_f  67    0.1019302   0.1111004 0.2731180 \n",
       "297 precip           67   97.9741986   0.1111004 0.2731180 \n",
       "298 wind_speed       67   -0.6589786   0.1111004 0.2731180 \n",
       "299 station_pressure 67    2.0522646   0.1111004 0.2731180 \n",
       "300 (Intercept)      68    6.5497061   0.1012305 0.2731209 \n",
       "301 dry_bulb_temp_f  68    0.1018962   0.1012305 0.2731209 \n",
       "302 precip           68   98.0703634   0.1012305 0.2731209 \n",
       "303 wind_speed       68   -0.6598174   0.1012305 0.2731209 \n",
       "304 station_pressure 68    2.0536811   0.1012305 0.2731209 \n",
       "305 (Intercept)      69    6.5217286   0.0922375 0.2731233 \n",
       "306 dry_bulb_temp_f  69    0.1018631   0.0922375 0.2731233 \n",
       "307 precip           69   98.1580614   0.0922375 0.2731233 \n",
       "308 wind_speed       69   -0.6605855   0.0922375 0.2731233 \n",
       "309 station_pressure 69    2.0549774   0.0922375 0.2731233 "
      ]
     },
     "metadata": {},
     "output_type": "display_data"
    },
    {
     "data": {
      "text/html": [
       "41.8440481881108"
      ],
      "text/latex": [
       "41.8440481881108"
      ],
      "text/markdown": [
       "41.8440481881108"
      ],
      "text/plain": [
       "[1] 41.84405"
      ]
     },
     "metadata": {},
     "output_type": "display_data"
    },
    {
     "data": {
      "text/html": [
       "6.46869756505209"
      ],
      "text/latex": [
       "6.46869756505209"
      ],
      "text/markdown": [
       "6.46869756505209"
      ],
      "text/plain": [
       "[1] 6.468698"
      ]
     },
     "metadata": {},
     "output_type": "display_data"
    },
    {
     "data": {
      "text/html": [
       "0.00466257672305088"
      ],
      "text/latex": [
       "0.00466257672305088"
      ],
      "text/markdown": [
       "0.00466257672305088"
      ],
      "text/plain": [
       "[1] 0.004662577"
      ]
     },
     "metadata": {},
     "output_type": "display_data"
    },
    {
     "name": "stderr",
     "output_type": "stream",
     "text": [
      "`geom_smooth()` using formula 'y ~ x'\n"
     ]
    },
    {
     "data": {},
     "metadata": {},
     "output_type": "display_data"
    },
    {
     "data": {
      "image/png": "[encoded data removed]",
      "text/plain": [
       "plot without title"
      ]
     },
     "metadata": {},
     "output_type": "display_data",
     "source": "R display func"
    }
   ],
   "source": [
    "linear_model6 <- lm(wind_speed ~ precip, data = train_data)\n",
    "summary(linear_model6)\n",
    "\n",
    "weather_recipe2 <-\n",
    "  recipe(wind_speed ~ ., data = train_data)\n",
    "\n",
    "el_spec <- linear_reg(penalty = 0.5, mixture = 0.2) %>%\n",
    "  set_engine(\"glmnet\")\n",
    "\n",
    "el_wf <- workflow() %>%\n",
    "  add_recipe(weather_recipe)\n",
    "\n",
    "el_fit <- el_wf %>%\n",
    "  add_model(el_spec) %>%\n",
    "  fit(data = train_data)\n",
    "\n",
    "el_fit %>%\n",
    "  pull_workflow_fit() %>%\n",
    "  tidy()\n",
    "\n",
    "mse <- mean(linear_model6$residuals^2)\n",
    "mse\n",
    "\n",
    "rmse <- sqrt(mse)\n",
    "rmse\n",
    "\n",
    "summary(linear_model6)$r.squared\n",
    "\n",
    "ggplot(linear_model6, aes(x = wind_speed, y = precip)) +\n",
    "  geom_point() + \n",
    "  stat_smooth(method = \"lm\", col = \"red\")"
   ]
  },
  {
   "cell_type": "markdown",
   "metadata": {},
   "source": [
    "<a id=\"cell10\"></a>\n",
    "## 10. Find Best Model\n",
    "Compare the regression metrics of each model from section 9 to find the best model overall. To do this, \n",
    "\n",
    "1. Evaluate the models on the **testing set** using at least one metric (like MSE, RMSE or R-squared).\n",
    "2. After calculating the metrics on the testing set for each model, print them out in as a table to easily compare. You can use something like:\n",
    "```\n",
    "model_names <- c(\"model_1\", \"model_2\", \"model_3\")\n",
    "train_error <- c(\"model_1_value\", \"model_2_value\", \"model_3_value\")\n",
    "test_error <- c(\"model_1_value\", \"model_2_value\", \"model_3_value\")\n",
    "comparison_df <- data.frame(model_names, train_error, test_error)\n",
    "```\n",
    "3. Finally, from the comparison table you create, conclude which model performed the best.\n"
   ]
  },
  {
   "cell_type": "code",
   "execution_count": 78,
   "metadata": {},
   "outputs": [
    {
     "data": {
      "text/plain": [
       "\n",
       "Call:\n",
       "lm(formula = relative_humidity ~ precip, data = test_data)\n",
       "\n",
       "Residuals:\n",
       "    Min      1Q  Median      3Q     Max \n",
       "-64.721 -15.721   2.279  18.279  35.279 \n",
       "\n",
       "Coefficients:\n",
       "            Estimate Std. Error t value Pr(>|t|)    \n",
       "(Intercept)  64.7208     0.6503  99.530  < 2e-16 ***\n",
       "precip       96.8042    20.1697   4.799  1.8e-06 ***\n",
       "---\n",
       "Signif. codes:  0 ‘***’ 0.001 ‘**’ 0.01 ‘*’ 0.05 ‘.’ 0.1 ‘ ’ 1\n",
       "\n",
       "Residual standard error: 21.79 on 1143 degrees of freedom\n",
       "Multiple R-squared:  0.01976,\tAdjusted R-squared:  0.0189 \n",
       "F-statistic: 23.04 on 1 and 1143 DF,  p-value: 1.801e-06\n"
      ]
     },
     "metadata": {},
     "output_type": "display_data"
    },
    {
     "data": {
      "text/html": [
       "<table>\n",
       "<caption>A tibble: 305 × 5</caption>\n",
       "<thead>\n",
       "\t<tr><th scope=col>term</th><th scope=col>step</th><th scope=col>estimate</th><th scope=col>lambda</th><th scope=col>dev.ratio</th></tr>\n",
       "\t<tr><th scope=col>&lt;chr&gt;</th><th scope=col>&lt;dbl&gt;</th><th scope=col>&lt;dbl&gt;</th><th scope=col>&lt;dbl&gt;</th><th scope=col>&lt;dbl&gt;</th></tr>\n",
       "</thead>\n",
       "<tbody>\n",
       "\t<tr><td>(Intercept)     </td><td> 1</td><td>65.152838428</td><td>44.26050</td><td>0.00000000</td></tr>\n",
       "\t<tr><td>(Intercept)     </td><td> 2</td><td>63.022174860</td><td>40.32852</td><td>0.01145923</td></tr>\n",
       "\t<tr><td>station_pressure</td><td> 2</td><td> 0.072599461</td><td>40.32852</td><td>0.01145923</td></tr>\n",
       "\t<tr><td>(Intercept)     </td><td> 3</td><td>60.853675332</td><td>36.74585</td><td>0.02269050</td></tr>\n",
       "\t<tr><td>station_pressure</td><td> 3</td><td> 0.146488131</td><td>36.74585</td><td>0.02269050</td></tr>\n",
       "\t<tr><td>(Intercept)     </td><td> 4</td><td>58.655926182</td><td>33.48145</td><td>0.03362916</td></tr>\n",
       "\t<tr><td>station_pressure</td><td> 4</td><td> 0.221373442</td><td>33.48145</td><td>0.03362916</td></tr>\n",
       "\t<tr><td>(Intercept)     </td><td> 5</td><td>56.283921461</td><td>30.50705</td><td>0.04613765</td></tr>\n",
       "\t<tr><td>dry_bulb_temp_f </td><td> 5</td><td> 0.005144671</td><td>30.50705</td><td>0.04613765</td></tr>\n",
       "\t<tr><td>station_pressure</td><td> 5</td><td> 0.292716269</td><td>30.50705</td><td>0.04613765</td></tr>\n",
       "\t<tr><td>(Intercept)     </td><td> 6</td><td>53.730588492</td><td>27.79689</td><td>0.06031064</td></tr>\n",
       "\t<tr><td>dry_bulb_temp_f </td><td> 6</td><td> 0.016641887</td><td>27.79689</td><td>0.06031064</td></tr>\n",
       "\t<tr><td>station_pressure</td><td> 6</td><td> 0.358531873</td><td>27.79689</td><td>0.06031064</td></tr>\n",
       "\t<tr><td>(Intercept)     </td><td> 7</td><td>51.210371644</td><td>25.32749</td><td>0.07354461</td></tr>\n",
       "\t<tr><td>dry_bulb_temp_f </td><td> 7</td><td> 0.027883332</td><td>25.32749</td><td>0.07354461</td></tr>\n",
       "\t<tr><td>station_pressure</td><td> 7</td><td> 0.423690394</td><td>25.32749</td><td>0.07354461</td></tr>\n",
       "\t<tr><td>(Intercept)     </td><td> 8</td><td>48.732802367</td><td>23.07746</td><td>0.08582733</td></tr>\n",
       "\t<tr><td>dry_bulb_temp_f </td><td> 8</td><td> 0.038831304</td><td>23.07746</td><td>0.08582733</td></tr>\n",
       "\t<tr><td>station_pressure</td><td> 8</td><td> 0.487936537</td><td>23.07746</td><td>0.08582733</td></tr>\n",
       "\t<tr><td>(Intercept)     </td><td> 9</td><td>46.306916466</td><td>21.02733</td><td>0.09715794</td></tr>\n",
       "\t<tr><td>dry_bulb_temp_f </td><td> 9</td><td> 0.049446413</td><td>21.02733</td><td>0.09715794</td></tr>\n",
       "\t<tr><td>station_pressure</td><td> 9</td><td> 0.551035000</td><td>21.02733</td><td>0.09715794</td></tr>\n",
       "\t<tr><td>(Intercept)     </td><td>10</td><td>43.940945546</td><td>19.15932</td><td>0.10754824</td></tr>\n",
       "\t<tr><td>dry_bulb_temp_f </td><td>10</td><td> 0.059694491</td><td>19.15932</td><td>0.10754824</td></tr>\n",
       "\t<tr><td>station_pressure</td><td>10</td><td> 0.612768264</td><td>19.15932</td><td>0.10754824</td></tr>\n",
       "\t<tr><td>(Intercept)     </td><td>11</td><td>41.642225958</td><td>17.45725</td><td>0.11702123</td></tr>\n",
       "\t<tr><td>dry_bulb_temp_f </td><td>11</td><td> 0.069546921</td><td>17.45725</td><td>0.11702123</td></tr>\n",
       "\t<tr><td>station_pressure</td><td>11</td><td> 0.672939085</td><td>17.45725</td><td>0.11702123</td></tr>\n",
       "\t<tr><td>(Intercept)     </td><td>12</td><td>39.417134405</td><td>15.90640</td><td>0.12560956</td></tr>\n",
       "\t<tr><td>dry_bulb_temp_f </td><td>12</td><td> 0.078980791</td><td>15.90640</td><td>0.12560956</td></tr>\n",
       "\t<tr><td>⋮</td><td>⋮</td><td>⋮</td><td>⋮</td><td>⋮</td></tr>\n",
       "\t<tr><td>(Intercept)     </td><td>62</td><td> 6.4436324</td><td>0.15183430</td><td>0.2389256</td></tr>\n",
       "\t<tr><td>dry_bulb_temp_f </td><td>62</td><td> 0.1674578</td><td>0.15183430</td><td>0.2389256</td></tr>\n",
       "\t<tr><td>precip          </td><td>62</td><td>95.4804095</td><td>0.15183430</td><td>0.2389256</td></tr>\n",
       "\t<tr><td>wind_speed      </td><td>62</td><td>-0.6764880</td><td>0.15183430</td><td>0.2389256</td></tr>\n",
       "\t<tr><td>station_pressure</td><td>62</td><td> 1.9247192</td><td>0.15183430</td><td>0.2389256</td></tr>\n",
       "\t<tr><td>(Intercept)     </td><td>63</td><td> 6.3987529</td><td>0.13834576</td><td>0.2389306</td></tr>\n",
       "\t<tr><td>dry_bulb_temp_f </td><td>63</td><td> 0.1675141</td><td>0.13834576</td><td>0.2389306</td></tr>\n",
       "\t<tr><td>precip          </td><td>63</td><td>95.6230511</td><td>0.13834576</td><td>0.2389306</td></tr>\n",
       "\t<tr><td>wind_speed      </td><td>63</td><td>-0.6775756</td><td>0.13834576</td><td>0.2389306</td></tr>\n",
       "\t<tr><td>station_pressure</td><td>63</td><td> 1.9265206</td><td>0.13834576</td><td>0.2389306</td></tr>\n",
       "\t<tr><td>(Intercept)     </td><td>64</td><td> 6.3579054</td><td>0.12605550</td><td>0.2389347</td></tr>\n",
       "\t<tr><td>dry_bulb_temp_f </td><td>64</td><td> 0.1675469</td><td>0.12605550</td><td>0.2389347</td></tr>\n",
       "\t<tr><td>precip          </td><td>64</td><td>95.7541916</td><td>0.12605550</td><td>0.2389347</td></tr>\n",
       "\t<tr><td>wind_speed      </td><td>64</td><td>-0.6785963</td><td>0.12605550</td><td>0.2389347</td></tr>\n",
       "\t<tr><td>station_pressure</td><td>64</td><td> 1.9282052</td><td>0.12605550</td><td>0.2389347</td></tr>\n",
       "\t<tr><td>(Intercept)     </td><td>65</td><td> 6.3206693</td><td>0.11485708</td><td>0.2389381</td></tr>\n",
       "\t<tr><td>dry_bulb_temp_f </td><td>65</td><td> 0.1675727</td><td>0.11485708</td><td>0.2389381</td></tr>\n",
       "\t<tr><td>precip          </td><td>65</td><td>95.8740072</td><td>0.11485708</td><td>0.2389381</td></tr>\n",
       "\t<tr><td>wind_speed      </td><td>65</td><td>-0.6795342</td><td>0.11485708</td><td>0.2389381</td></tr>\n",
       "\t<tr><td>station_pressure</td><td>65</td><td> 1.9297513</td><td>0.11485708</td><td>0.2389381</td></tr>\n",
       "\t<tr><td>(Intercept)     </td><td>66</td><td> 6.2867146</td><td>0.10465349</td><td>0.2389410</td></tr>\n",
       "\t<tr><td>dry_bulb_temp_f </td><td>66</td><td> 0.1675952</td><td>0.10465349</td><td>0.2389410</td></tr>\n",
       "\t<tr><td>precip          </td><td>66</td><td>95.9833274</td><td>0.10465349</td><td>0.2389410</td></tr>\n",
       "\t<tr><td>wind_speed      </td><td>66</td><td>-0.6803914</td><td>0.10465349</td><td>0.2389410</td></tr>\n",
       "\t<tr><td>station_pressure</td><td>66</td><td> 1.9311636</td><td>0.10465349</td><td>0.2389410</td></tr>\n",
       "\t<tr><td>(Intercept)     </td><td>67</td><td> 6.2557518</td><td>0.09535637</td><td>0.2389433</td></tr>\n",
       "\t<tr><td>dry_bulb_temp_f </td><td>67</td><td> 0.1676153</td><td>0.09535637</td><td>0.2389433</td></tr>\n",
       "\t<tr><td>precip          </td><td>67</td><td>96.0830327</td><td>0.09535637</td><td>0.2389433</td></tr>\n",
       "\t<tr><td>wind_speed      </td><td>67</td><td>-0.6811735</td><td>0.09535637</td><td>0.2389433</td></tr>\n",
       "\t<tr><td>station_pressure</td><td>67</td><td> 1.9324524</td><td>0.09535637</td><td>0.2389433</td></tr>\n",
       "</tbody>\n",
       "</table>\n"
      ],
      "text/latex": [
       "A tibble: 305 × 5\n",
       "\\begin{tabular}{lllll}\n",
       " term & step & estimate & lambda & dev.ratio\\\\\n",
       " <chr> & <dbl> & <dbl> & <dbl> & <dbl>\\\\\n",
       "\\hline\n",
       "\t (Intercept)      &  1 & 65.152838428 & 44.26050 & 0.00000000\\\\\n",
       "\t (Intercept)      &  2 & 63.022174860 & 40.32852 & 0.01145923\\\\\n",
       "\t station\\_pressure &  2 &  0.072599461 & 40.32852 & 0.01145923\\\\\n",
       "\t (Intercept)      &  3 & 60.853675332 & 36.74585 & 0.02269050\\\\\n",
       "\t station\\_pressure &  3 &  0.146488131 & 36.74585 & 0.02269050\\\\\n",
       "\t (Intercept)      &  4 & 58.655926182 & 33.48145 & 0.03362916\\\\\n",
       "\t station\\_pressure &  4 &  0.221373442 & 33.48145 & 0.03362916\\\\\n",
       "\t (Intercept)      &  5 & 56.283921461 & 30.50705 & 0.04613765\\\\\n",
       "\t dry\\_bulb\\_temp\\_f  &  5 &  0.005144671 & 30.50705 & 0.04613765\\\\\n",
       "\t station\\_pressure &  5 &  0.292716269 & 30.50705 & 0.04613765\\\\\n",
       "\t (Intercept)      &  6 & 53.730588492 & 27.79689 & 0.06031064\\\\\n",
       "\t dry\\_bulb\\_temp\\_f  &  6 &  0.016641887 & 27.79689 & 0.06031064\\\\\n",
       "\t station\\_pressure &  6 &  0.358531873 & 27.79689 & 0.06031064\\\\\n",
       "\t (Intercept)      &  7 & 51.210371644 & 25.32749 & 0.07354461\\\\\n",
       "\t dry\\_bulb\\_temp\\_f  &  7 &  0.027883332 & 25.32749 & 0.07354461\\\\\n",
       "\t station\\_pressure &  7 &  0.423690394 & 25.32749 & 0.07354461\\\\\n",
       "\t (Intercept)      &  8 & 48.732802367 & 23.07746 & 0.08582733\\\\\n",
       "\t dry\\_bulb\\_temp\\_f  &  8 &  0.038831304 & 23.07746 & 0.08582733\\\\\n",
       "\t station\\_pressure &  8 &  0.487936537 & 23.07746 & 0.08582733\\\\\n",
       "\t (Intercept)      &  9 & 46.306916466 & 21.02733 & 0.09715794\\\\\n",
       "\t dry\\_bulb\\_temp\\_f  &  9 &  0.049446413 & 21.02733 & 0.09715794\\\\\n",
       "\t station\\_pressure &  9 &  0.551035000 & 21.02733 & 0.09715794\\\\\n",
       "\t (Intercept)      & 10 & 43.940945546 & 19.15932 & 0.10754824\\\\\n",
       "\t dry\\_bulb\\_temp\\_f  & 10 &  0.059694491 & 19.15932 & 0.10754824\\\\\n",
       "\t station\\_pressure & 10 &  0.612768264 & 19.15932 & 0.10754824\\\\\n",
       "\t (Intercept)      & 11 & 41.642225958 & 17.45725 & 0.11702123\\\\\n",
       "\t dry\\_bulb\\_temp\\_f  & 11 &  0.069546921 & 17.45725 & 0.11702123\\\\\n",
       "\t station\\_pressure & 11 &  0.672939085 & 17.45725 & 0.11702123\\\\\n",
       "\t (Intercept)      & 12 & 39.417134405 & 15.90640 & 0.12560956\\\\\n",
       "\t dry\\_bulb\\_temp\\_f  & 12 &  0.078980791 & 15.90640 & 0.12560956\\\\\n",
       "\t ⋮ & ⋮ & ⋮ & ⋮ & ⋮\\\\\n",
       "\t (Intercept)      & 62 &  6.4436324 & 0.15183430 & 0.2389256\\\\\n",
       "\t dry\\_bulb\\_temp\\_f  & 62 &  0.1674578 & 0.15183430 & 0.2389256\\\\\n",
       "\t precip           & 62 & 95.4804095 & 0.15183430 & 0.2389256\\\\\n",
       "\t wind\\_speed       & 62 & -0.6764880 & 0.15183430 & 0.2389256\\\\\n",
       "\t station\\_pressure & 62 &  1.9247192 & 0.15183430 & 0.2389256\\\\\n",
       "\t (Intercept)      & 63 &  6.3987529 & 0.13834576 & 0.2389306\\\\\n",
       "\t dry\\_bulb\\_temp\\_f  & 63 &  0.1675141 & 0.13834576 & 0.2389306\\\\\n",
       "\t precip           & 63 & 95.6230511 & 0.13834576 & 0.2389306\\\\\n",
       "\t wind\\_speed       & 63 & -0.6775756 & 0.13834576 & 0.2389306\\\\\n",
       "\t station\\_pressure & 63 &  1.9265206 & 0.13834576 & 0.2389306\\\\\n",
       "\t (Intercept)      & 64 &  6.3579054 & 0.12605550 & 0.2389347\\\\\n",
       "\t dry\\_bulb\\_temp\\_f  & 64 &  0.1675469 & 0.12605550 & 0.2389347\\\\\n",
       "\t precip           & 64 & 95.7541916 & 0.12605550 & 0.2389347\\\\\n",
       "\t wind\\_speed       & 64 & -0.6785963 & 0.12605550 & 0.2389347\\\\\n",
       "\t station\\_pressure & 64 &  1.9282052 & 0.12605550 & 0.2389347\\\\\n",
       "\t (Intercept)      & 65 &  6.3206693 & 0.11485708 & 0.2389381\\\\\n",
       "\t dry\\_bulb\\_temp\\_f  & 65 &  0.1675727 & 0.11485708 & 0.2389381\\\\\n",
       "\t precip           & 65 & 95.8740072 & 0.11485708 & 0.2389381\\\\\n",
       "\t wind\\_speed       & 65 & -0.6795342 & 0.11485708 & 0.2389381\\\\\n",
       "\t station\\_pressure & 65 &  1.9297513 & 0.11485708 & 0.2389381\\\\\n",
       "\t (Intercept)      & 66 &  6.2867146 & 0.10465349 & 0.2389410\\\\\n",
       "\t dry\\_bulb\\_temp\\_f  & 66 &  0.1675952 & 0.10465349 & 0.2389410\\\\\n",
       "\t precip           & 66 & 95.9833274 & 0.10465349 & 0.2389410\\\\\n",
       "\t wind\\_speed       & 66 & -0.6803914 & 0.10465349 & 0.2389410\\\\\n",
       "\t station\\_pressure & 66 &  1.9311636 & 0.10465349 & 0.2389410\\\\\n",
       "\t (Intercept)      & 67 &  6.2557518 & 0.09535637 & 0.2389433\\\\\n",
       "\t dry\\_bulb\\_temp\\_f  & 67 &  0.1676153 & 0.09535637 & 0.2389433\\\\\n",
       "\t precip           & 67 & 96.0830327 & 0.09535637 & 0.2389433\\\\\n",
       "\t wind\\_speed       & 67 & -0.6811735 & 0.09535637 & 0.2389433\\\\\n",
       "\t station\\_pressure & 67 &  1.9324524 & 0.09535637 & 0.2389433\\\\\n",
       "\\end{tabular}\n"
      ],
      "text/markdown": [
       "\n",
       "A tibble: 305 × 5\n",
       "\n",
       "| term &lt;chr&gt; | step &lt;dbl&gt; | estimate &lt;dbl&gt; | lambda &lt;dbl&gt; | dev.ratio &lt;dbl&gt; |\n",
       "|---|---|---|---|---|\n",
       "| (Intercept)      |  1 | 65.152838428 | 44.26050 | 0.00000000 |\n",
       "| (Intercept)      |  2 | 63.022174860 | 40.32852 | 0.01145923 |\n",
       "| station_pressure |  2 |  0.072599461 | 40.32852 | 0.01145923 |\n",
       "| (Intercept)      |  3 | 60.853675332 | 36.74585 | 0.02269050 |\n",
       "| station_pressure |  3 |  0.146488131 | 36.74585 | 0.02269050 |\n",
       "| (Intercept)      |  4 | 58.655926182 | 33.48145 | 0.03362916 |\n",
       "| station_pressure |  4 |  0.221373442 | 33.48145 | 0.03362916 |\n",
       "| (Intercept)      |  5 | 56.283921461 | 30.50705 | 0.04613765 |\n",
       "| dry_bulb_temp_f  |  5 |  0.005144671 | 30.50705 | 0.04613765 |\n",
       "| station_pressure |  5 |  0.292716269 | 30.50705 | 0.04613765 |\n",
       "| (Intercept)      |  6 | 53.730588492 | 27.79689 | 0.06031064 |\n",
       "| dry_bulb_temp_f  |  6 |  0.016641887 | 27.79689 | 0.06031064 |\n",
       "| station_pressure |  6 |  0.358531873 | 27.79689 | 0.06031064 |\n",
       "| (Intercept)      |  7 | 51.210371644 | 25.32749 | 0.07354461 |\n",
       "| dry_bulb_temp_f  |  7 |  0.027883332 | 25.32749 | 0.07354461 |\n",
       "| station_pressure |  7 |  0.423690394 | 25.32749 | 0.07354461 |\n",
       "| (Intercept)      |  8 | 48.732802367 | 23.07746 | 0.08582733 |\n",
       "| dry_bulb_temp_f  |  8 |  0.038831304 | 23.07746 | 0.08582733 |\n",
       "| station_pressure |  8 |  0.487936537 | 23.07746 | 0.08582733 |\n",
       "| (Intercept)      |  9 | 46.306916466 | 21.02733 | 0.09715794 |\n",
       "| dry_bulb_temp_f  |  9 |  0.049446413 | 21.02733 | 0.09715794 |\n",
       "| station_pressure |  9 |  0.551035000 | 21.02733 | 0.09715794 |\n",
       "| (Intercept)      | 10 | 43.940945546 | 19.15932 | 0.10754824 |\n",
       "| dry_bulb_temp_f  | 10 |  0.059694491 | 19.15932 | 0.10754824 |\n",
       "| station_pressure | 10 |  0.612768264 | 19.15932 | 0.10754824 |\n",
       "| (Intercept)      | 11 | 41.642225958 | 17.45725 | 0.11702123 |\n",
       "| dry_bulb_temp_f  | 11 |  0.069546921 | 17.45725 | 0.11702123 |\n",
       "| station_pressure | 11 |  0.672939085 | 17.45725 | 0.11702123 |\n",
       "| (Intercept)      | 12 | 39.417134405 | 15.90640 | 0.12560956 |\n",
       "| dry_bulb_temp_f  | 12 |  0.078980791 | 15.90640 | 0.12560956 |\n",
       "| ⋮ | ⋮ | ⋮ | ⋮ | ⋮ |\n",
       "| (Intercept)      | 62 |  6.4436324 | 0.15183430 | 0.2389256 |\n",
       "| dry_bulb_temp_f  | 62 |  0.1674578 | 0.15183430 | 0.2389256 |\n",
       "| precip           | 62 | 95.4804095 | 0.15183430 | 0.2389256 |\n",
       "| wind_speed       | 62 | -0.6764880 | 0.15183430 | 0.2389256 |\n",
       "| station_pressure | 62 |  1.9247192 | 0.15183430 | 0.2389256 |\n",
       "| (Intercept)      | 63 |  6.3987529 | 0.13834576 | 0.2389306 |\n",
       "| dry_bulb_temp_f  | 63 |  0.1675141 | 0.13834576 | 0.2389306 |\n",
       "| precip           | 63 | 95.6230511 | 0.13834576 | 0.2389306 |\n",
       "| wind_speed       | 63 | -0.6775756 | 0.13834576 | 0.2389306 |\n",
       "| station_pressure | 63 |  1.9265206 | 0.13834576 | 0.2389306 |\n",
       "| (Intercept)      | 64 |  6.3579054 | 0.12605550 | 0.2389347 |\n",
       "| dry_bulb_temp_f  | 64 |  0.1675469 | 0.12605550 | 0.2389347 |\n",
       "| precip           | 64 | 95.7541916 | 0.12605550 | 0.2389347 |\n",
       "| wind_speed       | 64 | -0.6785963 | 0.12605550 | 0.2389347 |\n",
       "| station_pressure | 64 |  1.9282052 | 0.12605550 | 0.2389347 |\n",
       "| (Intercept)      | 65 |  6.3206693 | 0.11485708 | 0.2389381 |\n",
       "| dry_bulb_temp_f  | 65 |  0.1675727 | 0.11485708 | 0.2389381 |\n",
       "| precip           | 65 | 95.8740072 | 0.11485708 | 0.2389381 |\n",
       "| wind_speed       | 65 | -0.6795342 | 0.11485708 | 0.2389381 |\n",
       "| station_pressure | 65 |  1.9297513 | 0.11485708 | 0.2389381 |\n",
       "| (Intercept)      | 66 |  6.2867146 | 0.10465349 | 0.2389410 |\n",
       "| dry_bulb_temp_f  | 66 |  0.1675952 | 0.10465349 | 0.2389410 |\n",
       "| precip           | 66 | 95.9833274 | 0.10465349 | 0.2389410 |\n",
       "| wind_speed       | 66 | -0.6803914 | 0.10465349 | 0.2389410 |\n",
       "| station_pressure | 66 |  1.9311636 | 0.10465349 | 0.2389410 |\n",
       "| (Intercept)      | 67 |  6.2557518 | 0.09535637 | 0.2389433 |\n",
       "| dry_bulb_temp_f  | 67 |  0.1676153 | 0.09535637 | 0.2389433 |\n",
       "| precip           | 67 | 96.0830327 | 0.09535637 | 0.2389433 |\n",
       "| wind_speed       | 67 | -0.6811735 | 0.09535637 | 0.2389433 |\n",
       "| station_pressure | 67 |  1.9324524 | 0.09535637 | 0.2389433 |\n",
       "\n"
      ],
      "text/plain": [
       "    term             step estimate     lambda     dev.ratio \n",
       "1   (Intercept)       1   65.152838428 44.26050   0.00000000\n",
       "2   (Intercept)       2   63.022174860 40.32852   0.01145923\n",
       "3   station_pressure  2    0.072599461 40.32852   0.01145923\n",
       "4   (Intercept)       3   60.853675332 36.74585   0.02269050\n",
       "5   station_pressure  3    0.146488131 36.74585   0.02269050\n",
       "6   (Intercept)       4   58.655926182 33.48145   0.03362916\n",
       "7   station_pressure  4    0.221373442 33.48145   0.03362916\n",
       "8   (Intercept)       5   56.283921461 30.50705   0.04613765\n",
       "9   dry_bulb_temp_f   5    0.005144671 30.50705   0.04613765\n",
       "10  station_pressure  5    0.292716269 30.50705   0.04613765\n",
       "11  (Intercept)       6   53.730588492 27.79689   0.06031064\n",
       "12  dry_bulb_temp_f   6    0.016641887 27.79689   0.06031064\n",
       "13  station_pressure  6    0.358531873 27.79689   0.06031064\n",
       "14  (Intercept)       7   51.210371644 25.32749   0.07354461\n",
       "15  dry_bulb_temp_f   7    0.027883332 25.32749   0.07354461\n",
       "16  station_pressure  7    0.423690394 25.32749   0.07354461\n",
       "17  (Intercept)       8   48.732802367 23.07746   0.08582733\n",
       "18  dry_bulb_temp_f   8    0.038831304 23.07746   0.08582733\n",
       "19  station_pressure  8    0.487936537 23.07746   0.08582733\n",
       "20  (Intercept)       9   46.306916466 21.02733   0.09715794\n",
       "21  dry_bulb_temp_f   9    0.049446413 21.02733   0.09715794\n",
       "22  station_pressure  9    0.551035000 21.02733   0.09715794\n",
       "23  (Intercept)      10   43.940945546 19.15932   0.10754824\n",
       "24  dry_bulb_temp_f  10    0.059694491 19.15932   0.10754824\n",
       "25  station_pressure 10    0.612768264 19.15932   0.10754824\n",
       "26  (Intercept)      11   41.642225958 17.45725   0.11702123\n",
       "27  dry_bulb_temp_f  11    0.069546921 17.45725   0.11702123\n",
       "28  station_pressure 11    0.672939085 17.45725   0.11702123\n",
       "29  (Intercept)      12   39.417134405 15.90640   0.12560956\n",
       "30  dry_bulb_temp_f  12    0.078980791 15.90640   0.12560956\n",
       "⋮   ⋮                ⋮    ⋮            ⋮          ⋮         \n",
       "276 (Intercept)      62    6.4436324   0.15183430 0.2389256 \n",
       "277 dry_bulb_temp_f  62    0.1674578   0.15183430 0.2389256 \n",
       "278 precip           62   95.4804095   0.15183430 0.2389256 \n",
       "279 wind_speed       62   -0.6764880   0.15183430 0.2389256 \n",
       "280 station_pressure 62    1.9247192   0.15183430 0.2389256 \n",
       "281 (Intercept)      63    6.3987529   0.13834576 0.2389306 \n",
       "282 dry_bulb_temp_f  63    0.1675141   0.13834576 0.2389306 \n",
       "283 precip           63   95.6230511   0.13834576 0.2389306 \n",
       "284 wind_speed       63   -0.6775756   0.13834576 0.2389306 \n",
       "285 station_pressure 63    1.9265206   0.13834576 0.2389306 \n",
       "286 (Intercept)      64    6.3579054   0.12605550 0.2389347 \n",
       "287 dry_bulb_temp_f  64    0.1675469   0.12605550 0.2389347 \n",
       "288 precip           64   95.7541916   0.12605550 0.2389347 \n",
       "289 wind_speed       64   -0.6785963   0.12605550 0.2389347 \n",
       "290 station_pressure 64    1.9282052   0.12605550 0.2389347 \n",
       "291 (Intercept)      65    6.3206693   0.11485708 0.2389381 \n",
       "292 dry_bulb_temp_f  65    0.1675727   0.11485708 0.2389381 \n",
       "293 precip           65   95.8740072   0.11485708 0.2389381 \n",
       "294 wind_speed       65   -0.6795342   0.11485708 0.2389381 \n",
       "295 station_pressure 65    1.9297513   0.11485708 0.2389381 \n",
       "296 (Intercept)      66    6.2867146   0.10465349 0.2389410 \n",
       "297 dry_bulb_temp_f  66    0.1675952   0.10465349 0.2389410 \n",
       "298 precip           66   95.9833274   0.10465349 0.2389410 \n",
       "299 wind_speed       66   -0.6803914   0.10465349 0.2389410 \n",
       "300 station_pressure 66    1.9311636   0.10465349 0.2389410 \n",
       "301 (Intercept)      67    6.2557518   0.09535637 0.2389433 \n",
       "302 dry_bulb_temp_f  67    0.1676153   0.09535637 0.2389433 \n",
       "303 precip           67   96.0830327   0.09535637 0.2389433 \n",
       "304 wind_speed       67   -0.6811735   0.09535637 0.2389433 \n",
       "305 station_pressure 67    1.9324524   0.09535637 0.2389433 "
      ]
     },
     "metadata": {},
     "output_type": "display_data"
    },
    {
     "data": {
      "text/html": [
       "474.04495976606"
      ],
      "text/latex": [
       "474.04495976606"
      ],
      "text/markdown": [
       "474.04495976606"
      ],
      "text/plain": [
       "[1] 474.045"
      ]
     },
     "metadata": {},
     "output_type": "display_data"
    },
    {
     "data": {
      "text/html": [
       "21.7725735678183"
      ],
      "text/latex": [
       "21.7725735678183"
      ],
      "text/markdown": [
       "21.7725735678183"
      ],
      "text/plain": [
       "[1] 21.77257"
      ]
     },
     "metadata": {},
     "output_type": "display_data"
    },
    {
     "data": {
      "text/html": [
       "0.0197550555145311"
      ],
      "text/latex": [
       "0.0197550555145311"
      ],
      "text/markdown": [
       "0.0197550555145311"
      ],
      "text/plain": [
       "[1] 0.01975506"
      ]
     },
     "metadata": {},
     "output_type": "display_data"
    },
    {
     "name": "stderr",
     "output_type": "stream",
     "text": [
      "`geom_smooth()` using formula 'y ~ x'\n"
     ]
    },
    {
     "data": {},
     "metadata": {},
     "output_type": "display_data"
    },
    {
     "data": {
      "image/png": "[encoded data removed]",
      "text/plain": [
       "plot without title"
      ]
     },
     "metadata": {},
     "output_type": "display_data",
     "source": "R display func"
    }
   ],
   "source": [
    "linear_model7 <- lm(relative_humidity ~ precip, data = test_data)\n",
    "summary(linear_model)\n",
    "\n",
    "weather_recipe3 <-\n",
    "  recipe(relative_humidity ~ ., data = test_data)\n",
    "\n",
    "el_spec <- linear_reg(penalty = 0.5, mixture = 0.2) %>%\n",
    "  set_engine(\"glmnet\")\n",
    "\n",
    "el_wf <- workflow() %>%\n",
    "  add_recipe(weather_recipe3)\n",
    "\n",
    "el_fit <- el_wf %>%\n",
    "  add_model(el_spec) %>%\n",
    "  fit(data = test_data)\n",
    "\n",
    "el_fit %>%\n",
    "  pull_workflow_fit() %>%\n",
    "  tidy()\n",
    "\n",
    "mse <- mean(linear_model7$residuals^2)\n",
    "mse\n",
    "\n",
    "rmse <- sqrt(mse)\n",
    "rmse\n",
    "\n",
    "summary(linear_model7)$r.squared\n",
    "\n",
    "ggplot(linear_model7, aes(x = relative_humidity, y = precip)) +\n",
    "  geom_point() + \n",
    "  stat_smooth(method = \"lm\", col = \"red\")\n"
   ]
  },
  {
   "cell_type": "code",
   "execution_count": 76,
   "metadata": {},
   "outputs": [
    {
     "data": {
      "text/plain": [
       "\n",
       "Call:\n",
       "lm(formula = wind_speed ~ precip, data = test_data)\n",
       "\n",
       "Residuals:\n",
       "    Min      1Q  Median      3Q     Max \n",
       "-11.510  -3.659  -0.659   4.341  34.341 \n",
       "\n",
       "Coefficients:\n",
       "            Estimate Std. Error t value Pr(>|t|)    \n",
       "(Intercept)  10.6593     0.1863  57.214   <2e-16 ***\n",
       "precip       16.2513     5.7789   2.812    0.005 ** \n",
       "---\n",
       "Signif. codes:  0 ‘***’ 0.001 ‘**’ 0.01 ‘*’ 0.05 ‘.’ 0.1 ‘ ’ 1\n",
       "\n",
       "Residual standard error: 6.244 on 1143 degrees of freedom\n",
       "Multiple R-squared:  0.006872,\tAdjusted R-squared:  0.006003 \n",
       "F-statistic: 7.909 on 1 and 1143 DF,  p-value: 0.005004\n"
      ]
     },
     "metadata": {},
     "output_type": "display_data"
    },
    {
     "data": {
      "text/html": [
       "<table>\n",
       "<caption>A tibble: 305 × 5</caption>\n",
       "<thead>\n",
       "\t<tr><th scope=col>term</th><th scope=col>step</th><th scope=col>estimate</th><th scope=col>lambda</th><th scope=col>dev.ratio</th></tr>\n",
       "\t<tr><th scope=col>&lt;chr&gt;</th><th scope=col>&lt;dbl&gt;</th><th scope=col>&lt;dbl&gt;</th><th scope=col>&lt;dbl&gt;</th><th scope=col>&lt;dbl&gt;</th></tr>\n",
       "</thead>\n",
       "<tbody>\n",
       "\t<tr><td>(Intercept)     </td><td> 1</td><td>65.152838428</td><td>44.26050</td><td>0.00000000</td></tr>\n",
       "\t<tr><td>(Intercept)     </td><td> 2</td><td>63.022174860</td><td>40.32852</td><td>0.01145923</td></tr>\n",
       "\t<tr><td>station_pressure</td><td> 2</td><td> 0.072599461</td><td>40.32852</td><td>0.01145923</td></tr>\n",
       "\t<tr><td>(Intercept)     </td><td> 3</td><td>60.853675332</td><td>36.74585</td><td>0.02269050</td></tr>\n",
       "\t<tr><td>station_pressure</td><td> 3</td><td> 0.146488131</td><td>36.74585</td><td>0.02269050</td></tr>\n",
       "\t<tr><td>(Intercept)     </td><td> 4</td><td>58.655926182</td><td>33.48145</td><td>0.03362916</td></tr>\n",
       "\t<tr><td>station_pressure</td><td> 4</td><td> 0.221373442</td><td>33.48145</td><td>0.03362916</td></tr>\n",
       "\t<tr><td>(Intercept)     </td><td> 5</td><td>56.283921461</td><td>30.50705</td><td>0.04613765</td></tr>\n",
       "\t<tr><td>dry_bulb_temp_f </td><td> 5</td><td> 0.005144671</td><td>30.50705</td><td>0.04613765</td></tr>\n",
       "\t<tr><td>station_pressure</td><td> 5</td><td> 0.292716269</td><td>30.50705</td><td>0.04613765</td></tr>\n",
       "\t<tr><td>(Intercept)     </td><td> 6</td><td>53.730588492</td><td>27.79689</td><td>0.06031064</td></tr>\n",
       "\t<tr><td>dry_bulb_temp_f </td><td> 6</td><td> 0.016641887</td><td>27.79689</td><td>0.06031064</td></tr>\n",
       "\t<tr><td>station_pressure</td><td> 6</td><td> 0.358531873</td><td>27.79689</td><td>0.06031064</td></tr>\n",
       "\t<tr><td>(Intercept)     </td><td> 7</td><td>51.210371644</td><td>25.32749</td><td>0.07354461</td></tr>\n",
       "\t<tr><td>dry_bulb_temp_f </td><td> 7</td><td> 0.027883332</td><td>25.32749</td><td>0.07354461</td></tr>\n",
       "\t<tr><td>station_pressure</td><td> 7</td><td> 0.423690394</td><td>25.32749</td><td>0.07354461</td></tr>\n",
       "\t<tr><td>(Intercept)     </td><td> 8</td><td>48.732802367</td><td>23.07746</td><td>0.08582733</td></tr>\n",
       "\t<tr><td>dry_bulb_temp_f </td><td> 8</td><td> 0.038831304</td><td>23.07746</td><td>0.08582733</td></tr>\n",
       "\t<tr><td>station_pressure</td><td> 8</td><td> 0.487936537</td><td>23.07746</td><td>0.08582733</td></tr>\n",
       "\t<tr><td>(Intercept)     </td><td> 9</td><td>46.306916466</td><td>21.02733</td><td>0.09715794</td></tr>\n",
       "\t<tr><td>dry_bulb_temp_f </td><td> 9</td><td> 0.049446413</td><td>21.02733</td><td>0.09715794</td></tr>\n",
       "\t<tr><td>station_pressure</td><td> 9</td><td> 0.551035000</td><td>21.02733</td><td>0.09715794</td></tr>\n",
       "\t<tr><td>(Intercept)     </td><td>10</td><td>43.940945546</td><td>19.15932</td><td>0.10754824</td></tr>\n",
       "\t<tr><td>dry_bulb_temp_f </td><td>10</td><td> 0.059694491</td><td>19.15932</td><td>0.10754824</td></tr>\n",
       "\t<tr><td>station_pressure</td><td>10</td><td> 0.612768264</td><td>19.15932</td><td>0.10754824</td></tr>\n",
       "\t<tr><td>(Intercept)     </td><td>11</td><td>41.642225958</td><td>17.45725</td><td>0.11702123</td></tr>\n",
       "\t<tr><td>dry_bulb_temp_f </td><td>11</td><td> 0.069546921</td><td>17.45725</td><td>0.11702123</td></tr>\n",
       "\t<tr><td>station_pressure</td><td>11</td><td> 0.672939085</td><td>17.45725</td><td>0.11702123</td></tr>\n",
       "\t<tr><td>(Intercept)     </td><td>12</td><td>39.417134405</td><td>15.90640</td><td>0.12560956</td></tr>\n",
       "\t<tr><td>dry_bulb_temp_f </td><td>12</td><td> 0.078980791</td><td>15.90640</td><td>0.12560956</td></tr>\n",
       "\t<tr><td>⋮</td><td>⋮</td><td>⋮</td><td>⋮</td><td>⋮</td></tr>\n",
       "\t<tr><td>(Intercept)     </td><td>62</td><td> 6.4436324</td><td>0.15183430</td><td>0.2389256</td></tr>\n",
       "\t<tr><td>dry_bulb_temp_f </td><td>62</td><td> 0.1674578</td><td>0.15183430</td><td>0.2389256</td></tr>\n",
       "\t<tr><td>precip          </td><td>62</td><td>95.4804095</td><td>0.15183430</td><td>0.2389256</td></tr>\n",
       "\t<tr><td>wind_speed      </td><td>62</td><td>-0.6764880</td><td>0.15183430</td><td>0.2389256</td></tr>\n",
       "\t<tr><td>station_pressure</td><td>62</td><td> 1.9247192</td><td>0.15183430</td><td>0.2389256</td></tr>\n",
       "\t<tr><td>(Intercept)     </td><td>63</td><td> 6.3987529</td><td>0.13834576</td><td>0.2389306</td></tr>\n",
       "\t<tr><td>dry_bulb_temp_f </td><td>63</td><td> 0.1675141</td><td>0.13834576</td><td>0.2389306</td></tr>\n",
       "\t<tr><td>precip          </td><td>63</td><td>95.6230511</td><td>0.13834576</td><td>0.2389306</td></tr>\n",
       "\t<tr><td>wind_speed      </td><td>63</td><td>-0.6775756</td><td>0.13834576</td><td>0.2389306</td></tr>\n",
       "\t<tr><td>station_pressure</td><td>63</td><td> 1.9265206</td><td>0.13834576</td><td>0.2389306</td></tr>\n",
       "\t<tr><td>(Intercept)     </td><td>64</td><td> 6.3579054</td><td>0.12605550</td><td>0.2389347</td></tr>\n",
       "\t<tr><td>dry_bulb_temp_f </td><td>64</td><td> 0.1675469</td><td>0.12605550</td><td>0.2389347</td></tr>\n",
       "\t<tr><td>precip          </td><td>64</td><td>95.7541916</td><td>0.12605550</td><td>0.2389347</td></tr>\n",
       "\t<tr><td>wind_speed      </td><td>64</td><td>-0.6785963</td><td>0.12605550</td><td>0.2389347</td></tr>\n",
       "\t<tr><td>station_pressure</td><td>64</td><td> 1.9282052</td><td>0.12605550</td><td>0.2389347</td></tr>\n",
       "\t<tr><td>(Intercept)     </td><td>65</td><td> 6.3206693</td><td>0.11485708</td><td>0.2389381</td></tr>\n",
       "\t<tr><td>dry_bulb_temp_f </td><td>65</td><td> 0.1675727</td><td>0.11485708</td><td>0.2389381</td></tr>\n",
       "\t<tr><td>precip          </td><td>65</td><td>95.8740072</td><td>0.11485708</td><td>0.2389381</td></tr>\n",
       "\t<tr><td>wind_speed      </td><td>65</td><td>-0.6795342</td><td>0.11485708</td><td>0.2389381</td></tr>\n",
       "\t<tr><td>station_pressure</td><td>65</td><td> 1.9297513</td><td>0.11485708</td><td>0.2389381</td></tr>\n",
       "\t<tr><td>(Intercept)     </td><td>66</td><td> 6.2867146</td><td>0.10465349</td><td>0.2389410</td></tr>\n",
       "\t<tr><td>dry_bulb_temp_f </td><td>66</td><td> 0.1675952</td><td>0.10465349</td><td>0.2389410</td></tr>\n",
       "\t<tr><td>precip          </td><td>66</td><td>95.9833274</td><td>0.10465349</td><td>0.2389410</td></tr>\n",
       "\t<tr><td>wind_speed      </td><td>66</td><td>-0.6803914</td><td>0.10465349</td><td>0.2389410</td></tr>\n",
       "\t<tr><td>station_pressure</td><td>66</td><td> 1.9311636</td><td>0.10465349</td><td>0.2389410</td></tr>\n",
       "\t<tr><td>(Intercept)     </td><td>67</td><td> 6.2557518</td><td>0.09535637</td><td>0.2389433</td></tr>\n",
       "\t<tr><td>dry_bulb_temp_f </td><td>67</td><td> 0.1676153</td><td>0.09535637</td><td>0.2389433</td></tr>\n",
       "\t<tr><td>precip          </td><td>67</td><td>96.0830327</td><td>0.09535637</td><td>0.2389433</td></tr>\n",
       "\t<tr><td>wind_speed      </td><td>67</td><td>-0.6811735</td><td>0.09535637</td><td>0.2389433</td></tr>\n",
       "\t<tr><td>station_pressure</td><td>67</td><td> 1.9324524</td><td>0.09535637</td><td>0.2389433</td></tr>\n",
       "</tbody>\n",
       "</table>\n"
      ],
      "text/latex": [
       "A tibble: 305 × 5\n",
       "\\begin{tabular}{lllll}\n",
       " term & step & estimate & lambda & dev.ratio\\\\\n",
       " <chr> & <dbl> & <dbl> & <dbl> & <dbl>\\\\\n",
       "\\hline\n",
       "\t (Intercept)      &  1 & 65.152838428 & 44.26050 & 0.00000000\\\\\n",
       "\t (Intercept)      &  2 & 63.022174860 & 40.32852 & 0.01145923\\\\\n",
       "\t station\\_pressure &  2 &  0.072599461 & 40.32852 & 0.01145923\\\\\n",
       "\t (Intercept)      &  3 & 60.853675332 & 36.74585 & 0.02269050\\\\\n",
       "\t station\\_pressure &  3 &  0.146488131 & 36.74585 & 0.02269050\\\\\n",
       "\t (Intercept)      &  4 & 58.655926182 & 33.48145 & 0.03362916\\\\\n",
       "\t station\\_pressure &  4 &  0.221373442 & 33.48145 & 0.03362916\\\\\n",
       "\t (Intercept)      &  5 & 56.283921461 & 30.50705 & 0.04613765\\\\\n",
       "\t dry\\_bulb\\_temp\\_f  &  5 &  0.005144671 & 30.50705 & 0.04613765\\\\\n",
       "\t station\\_pressure &  5 &  0.292716269 & 30.50705 & 0.04613765\\\\\n",
       "\t (Intercept)      &  6 & 53.730588492 & 27.79689 & 0.06031064\\\\\n",
       "\t dry\\_bulb\\_temp\\_f  &  6 &  0.016641887 & 27.79689 & 0.06031064\\\\\n",
       "\t station\\_pressure &  6 &  0.358531873 & 27.79689 & 0.06031064\\\\\n",
       "\t (Intercept)      &  7 & 51.210371644 & 25.32749 & 0.07354461\\\\\n",
       "\t dry\\_bulb\\_temp\\_f  &  7 &  0.027883332 & 25.32749 & 0.07354461\\\\\n",
       "\t station\\_pressure &  7 &  0.423690394 & 25.32749 & 0.07354461\\\\\n",
       "\t (Intercept)      &  8 & 48.732802367 & 23.07746 & 0.08582733\\\\\n",
       "\t dry\\_bulb\\_temp\\_f  &  8 &  0.038831304 & 23.07746 & 0.08582733\\\\\n",
       "\t station\\_pressure &  8 &  0.487936537 & 23.07746 & 0.08582733\\\\\n",
       "\t (Intercept)      &  9 & 46.306916466 & 21.02733 & 0.09715794\\\\\n",
       "\t dry\\_bulb\\_temp\\_f  &  9 &  0.049446413 & 21.02733 & 0.09715794\\\\\n",
       "\t station\\_pressure &  9 &  0.551035000 & 21.02733 & 0.09715794\\\\\n",
       "\t (Intercept)      & 10 & 43.940945546 & 19.15932 & 0.10754824\\\\\n",
       "\t dry\\_bulb\\_temp\\_f  & 10 &  0.059694491 & 19.15932 & 0.10754824\\\\\n",
       "\t station\\_pressure & 10 &  0.612768264 & 19.15932 & 0.10754824\\\\\n",
       "\t (Intercept)      & 11 & 41.642225958 & 17.45725 & 0.11702123\\\\\n",
       "\t dry\\_bulb\\_temp\\_f  & 11 &  0.069546921 & 17.45725 & 0.11702123\\\\\n",
       "\t station\\_pressure & 11 &  0.672939085 & 17.45725 & 0.11702123\\\\\n",
       "\t (Intercept)      & 12 & 39.417134405 & 15.90640 & 0.12560956\\\\\n",
       "\t dry\\_bulb\\_temp\\_f  & 12 &  0.078980791 & 15.90640 & 0.12560956\\\\\n",
       "\t ⋮ & ⋮ & ⋮ & ⋮ & ⋮\\\\\n",
       "\t (Intercept)      & 62 &  6.4436324 & 0.15183430 & 0.2389256\\\\\n",
       "\t dry\\_bulb\\_temp\\_f  & 62 &  0.1674578 & 0.15183430 & 0.2389256\\\\\n",
       "\t precip           & 62 & 95.4804095 & 0.15183430 & 0.2389256\\\\\n",
       "\t wind\\_speed       & 62 & -0.6764880 & 0.15183430 & 0.2389256\\\\\n",
       "\t station\\_pressure & 62 &  1.9247192 & 0.15183430 & 0.2389256\\\\\n",
       "\t (Intercept)      & 63 &  6.3987529 & 0.13834576 & 0.2389306\\\\\n",
       "\t dry\\_bulb\\_temp\\_f  & 63 &  0.1675141 & 0.13834576 & 0.2389306\\\\\n",
       "\t precip           & 63 & 95.6230511 & 0.13834576 & 0.2389306\\\\\n",
       "\t wind\\_speed       & 63 & -0.6775756 & 0.13834576 & 0.2389306\\\\\n",
       "\t station\\_pressure & 63 &  1.9265206 & 0.13834576 & 0.2389306\\\\\n",
       "\t (Intercept)      & 64 &  6.3579054 & 0.12605550 & 0.2389347\\\\\n",
       "\t dry\\_bulb\\_temp\\_f  & 64 &  0.1675469 & 0.12605550 & 0.2389347\\\\\n",
       "\t precip           & 64 & 95.7541916 & 0.12605550 & 0.2389347\\\\\n",
       "\t wind\\_speed       & 64 & -0.6785963 & 0.12605550 & 0.2389347\\\\\n",
       "\t station\\_pressure & 64 &  1.9282052 & 0.12605550 & 0.2389347\\\\\n",
       "\t (Intercept)      & 65 &  6.3206693 & 0.11485708 & 0.2389381\\\\\n",
       "\t dry\\_bulb\\_temp\\_f  & 65 &  0.1675727 & 0.11485708 & 0.2389381\\\\\n",
       "\t precip           & 65 & 95.8740072 & 0.11485708 & 0.2389381\\\\\n",
       "\t wind\\_speed       & 65 & -0.6795342 & 0.11485708 & 0.2389381\\\\\n",
       "\t station\\_pressure & 65 &  1.9297513 & 0.11485708 & 0.2389381\\\\\n",
       "\t (Intercept)      & 66 &  6.2867146 & 0.10465349 & 0.2389410\\\\\n",
       "\t dry\\_bulb\\_temp\\_f  & 66 &  0.1675952 & 0.10465349 & 0.2389410\\\\\n",
       "\t precip           & 66 & 95.9833274 & 0.10465349 & 0.2389410\\\\\n",
       "\t wind\\_speed       & 66 & -0.6803914 & 0.10465349 & 0.2389410\\\\\n",
       "\t station\\_pressure & 66 &  1.9311636 & 0.10465349 & 0.2389410\\\\\n",
       "\t (Intercept)      & 67 &  6.2557518 & 0.09535637 & 0.2389433\\\\\n",
       "\t dry\\_bulb\\_temp\\_f  & 67 &  0.1676153 & 0.09535637 & 0.2389433\\\\\n",
       "\t precip           & 67 & 96.0830327 & 0.09535637 & 0.2389433\\\\\n",
       "\t wind\\_speed       & 67 & -0.6811735 & 0.09535637 & 0.2389433\\\\\n",
       "\t station\\_pressure & 67 &  1.9324524 & 0.09535637 & 0.2389433\\\\\n",
       "\\end{tabular}\n"
      ],
      "text/markdown": [
       "\n",
       "A tibble: 305 × 5\n",
       "\n",
       "| term &lt;chr&gt; | step &lt;dbl&gt; | estimate &lt;dbl&gt; | lambda &lt;dbl&gt; | dev.ratio &lt;dbl&gt; |\n",
       "|---|---|---|---|---|\n",
       "| (Intercept)      |  1 | 65.152838428 | 44.26050 | 0.00000000 |\n",
       "| (Intercept)      |  2 | 63.022174860 | 40.32852 | 0.01145923 |\n",
       "| station_pressure |  2 |  0.072599461 | 40.32852 | 0.01145923 |\n",
       "| (Intercept)      |  3 | 60.853675332 | 36.74585 | 0.02269050 |\n",
       "| station_pressure |  3 |  0.146488131 | 36.74585 | 0.02269050 |\n",
       "| (Intercept)      |  4 | 58.655926182 | 33.48145 | 0.03362916 |\n",
       "| station_pressure |  4 |  0.221373442 | 33.48145 | 0.03362916 |\n",
       "| (Intercept)      |  5 | 56.283921461 | 30.50705 | 0.04613765 |\n",
       "| dry_bulb_temp_f  |  5 |  0.005144671 | 30.50705 | 0.04613765 |\n",
       "| station_pressure |  5 |  0.292716269 | 30.50705 | 0.04613765 |\n",
       "| (Intercept)      |  6 | 53.730588492 | 27.79689 | 0.06031064 |\n",
       "| dry_bulb_temp_f  |  6 |  0.016641887 | 27.79689 | 0.06031064 |\n",
       "| station_pressure |  6 |  0.358531873 | 27.79689 | 0.06031064 |\n",
       "| (Intercept)      |  7 | 51.210371644 | 25.32749 | 0.07354461 |\n",
       "| dry_bulb_temp_f  |  7 |  0.027883332 | 25.32749 | 0.07354461 |\n",
       "| station_pressure |  7 |  0.423690394 | 25.32749 | 0.07354461 |\n",
       "| (Intercept)      |  8 | 48.732802367 | 23.07746 | 0.08582733 |\n",
       "| dry_bulb_temp_f  |  8 |  0.038831304 | 23.07746 | 0.08582733 |\n",
       "| station_pressure |  8 |  0.487936537 | 23.07746 | 0.08582733 |\n",
       "| (Intercept)      |  9 | 46.306916466 | 21.02733 | 0.09715794 |\n",
       "| dry_bulb_temp_f  |  9 |  0.049446413 | 21.02733 | 0.09715794 |\n",
       "| station_pressure |  9 |  0.551035000 | 21.02733 | 0.09715794 |\n",
       "| (Intercept)      | 10 | 43.940945546 | 19.15932 | 0.10754824 |\n",
       "| dry_bulb_temp_f  | 10 |  0.059694491 | 19.15932 | 0.10754824 |\n",
       "| station_pressure | 10 |  0.612768264 | 19.15932 | 0.10754824 |\n",
       "| (Intercept)      | 11 | 41.642225958 | 17.45725 | 0.11702123 |\n",
       "| dry_bulb_temp_f  | 11 |  0.069546921 | 17.45725 | 0.11702123 |\n",
       "| station_pressure | 11 |  0.672939085 | 17.45725 | 0.11702123 |\n",
       "| (Intercept)      | 12 | 39.417134405 | 15.90640 | 0.12560956 |\n",
       "| dry_bulb_temp_f  | 12 |  0.078980791 | 15.90640 | 0.12560956 |\n",
       "| ⋮ | ⋮ | ⋮ | ⋮ | ⋮ |\n",
       "| (Intercept)      | 62 |  6.4436324 | 0.15183430 | 0.2389256 |\n",
       "| dry_bulb_temp_f  | 62 |  0.1674578 | 0.15183430 | 0.2389256 |\n",
       "| precip           | 62 | 95.4804095 | 0.15183430 | 0.2389256 |\n",
       "| wind_speed       | 62 | -0.6764880 | 0.15183430 | 0.2389256 |\n",
       "| station_pressure | 62 |  1.9247192 | 0.15183430 | 0.2389256 |\n",
       "| (Intercept)      | 63 |  6.3987529 | 0.13834576 | 0.2389306 |\n",
       "| dry_bulb_temp_f  | 63 |  0.1675141 | 0.13834576 | 0.2389306 |\n",
       "| precip           | 63 | 95.6230511 | 0.13834576 | 0.2389306 |\n",
       "| wind_speed       | 63 | -0.6775756 | 0.13834576 | 0.2389306 |\n",
       "| station_pressure | 63 |  1.9265206 | 0.13834576 | 0.2389306 |\n",
       "| (Intercept)      | 64 |  6.3579054 | 0.12605550 | 0.2389347 |\n",
       "| dry_bulb_temp_f  | 64 |  0.1675469 | 0.12605550 | 0.2389347 |\n",
       "| precip           | 64 | 95.7541916 | 0.12605550 | 0.2389347 |\n",
       "| wind_speed       | 64 | -0.6785963 | 0.12605550 | 0.2389347 |\n",
       "| station_pressure | 64 |  1.9282052 | 0.12605550 | 0.2389347 |\n",
       "| (Intercept)      | 65 |  6.3206693 | 0.11485708 | 0.2389381 |\n",
       "| dry_bulb_temp_f  | 65 |  0.1675727 | 0.11485708 | 0.2389381 |\n",
       "| precip           | 65 | 95.8740072 | 0.11485708 | 0.2389381 |\n",
       "| wind_speed       | 65 | -0.6795342 | 0.11485708 | 0.2389381 |\n",
       "| station_pressure | 65 |  1.9297513 | 0.11485708 | 0.2389381 |\n",
       "| (Intercept)      | 66 |  6.2867146 | 0.10465349 | 0.2389410 |\n",
       "| dry_bulb_temp_f  | 66 |  0.1675952 | 0.10465349 | 0.2389410 |\n",
       "| precip           | 66 | 95.9833274 | 0.10465349 | 0.2389410 |\n",
       "| wind_speed       | 66 | -0.6803914 | 0.10465349 | 0.2389410 |\n",
       "| station_pressure | 66 |  1.9311636 | 0.10465349 | 0.2389410 |\n",
       "| (Intercept)      | 67 |  6.2557518 | 0.09535637 | 0.2389433 |\n",
       "| dry_bulb_temp_f  | 67 |  0.1676153 | 0.09535637 | 0.2389433 |\n",
       "| precip           | 67 | 96.0830327 | 0.09535637 | 0.2389433 |\n",
       "| wind_speed       | 67 | -0.6811735 | 0.09535637 | 0.2389433 |\n",
       "| station_pressure | 67 |  1.9324524 | 0.09535637 | 0.2389433 |\n",
       "\n"
      ],
      "text/plain": [
       "    term             step estimate     lambda     dev.ratio \n",
       "1   (Intercept)       1   65.152838428 44.26050   0.00000000\n",
       "2   (Intercept)       2   63.022174860 40.32852   0.01145923\n",
       "3   station_pressure  2    0.072599461 40.32852   0.01145923\n",
       "4   (Intercept)       3   60.853675332 36.74585   0.02269050\n",
       "5   station_pressure  3    0.146488131 36.74585   0.02269050\n",
       "6   (Intercept)       4   58.655926182 33.48145   0.03362916\n",
       "7   station_pressure  4    0.221373442 33.48145   0.03362916\n",
       "8   (Intercept)       5   56.283921461 30.50705   0.04613765\n",
       "9   dry_bulb_temp_f   5    0.005144671 30.50705   0.04613765\n",
       "10  station_pressure  5    0.292716269 30.50705   0.04613765\n",
       "11  (Intercept)       6   53.730588492 27.79689   0.06031064\n",
       "12  dry_bulb_temp_f   6    0.016641887 27.79689   0.06031064\n",
       "13  station_pressure  6    0.358531873 27.79689   0.06031064\n",
       "14  (Intercept)       7   51.210371644 25.32749   0.07354461\n",
       "15  dry_bulb_temp_f   7    0.027883332 25.32749   0.07354461\n",
       "16  station_pressure  7    0.423690394 25.32749   0.07354461\n",
       "17  (Intercept)       8   48.732802367 23.07746   0.08582733\n",
       "18  dry_bulb_temp_f   8    0.038831304 23.07746   0.08582733\n",
       "19  station_pressure  8    0.487936537 23.07746   0.08582733\n",
       "20  (Intercept)       9   46.306916466 21.02733   0.09715794\n",
       "21  dry_bulb_temp_f   9    0.049446413 21.02733   0.09715794\n",
       "22  station_pressure  9    0.551035000 21.02733   0.09715794\n",
       "23  (Intercept)      10   43.940945546 19.15932   0.10754824\n",
       "24  dry_bulb_temp_f  10    0.059694491 19.15932   0.10754824\n",
       "25  station_pressure 10    0.612768264 19.15932   0.10754824\n",
       "26  (Intercept)      11   41.642225958 17.45725   0.11702123\n",
       "27  dry_bulb_temp_f  11    0.069546921 17.45725   0.11702123\n",
       "28  station_pressure 11    0.672939085 17.45725   0.11702123\n",
       "29  (Intercept)      12   39.417134405 15.90640   0.12560956\n",
       "30  dry_bulb_temp_f  12    0.078980791 15.90640   0.12560956\n",
       "⋮   ⋮                ⋮    ⋮            ⋮          ⋮         \n",
       "276 (Intercept)      62    6.4436324   0.15183430 0.2389256 \n",
       "277 dry_bulb_temp_f  62    0.1674578   0.15183430 0.2389256 \n",
       "278 precip           62   95.4804095   0.15183430 0.2389256 \n",
       "279 wind_speed       62   -0.6764880   0.15183430 0.2389256 \n",
       "280 station_pressure 62    1.9247192   0.15183430 0.2389256 \n",
       "281 (Intercept)      63    6.3987529   0.13834576 0.2389306 \n",
       "282 dry_bulb_temp_f  63    0.1675141   0.13834576 0.2389306 \n",
       "283 precip           63   95.6230511   0.13834576 0.2389306 \n",
       "284 wind_speed       63   -0.6775756   0.13834576 0.2389306 \n",
       "285 station_pressure 63    1.9265206   0.13834576 0.2389306 \n",
       "286 (Intercept)      64    6.3579054   0.12605550 0.2389347 \n",
       "287 dry_bulb_temp_f  64    0.1675469   0.12605550 0.2389347 \n",
       "288 precip           64   95.7541916   0.12605550 0.2389347 \n",
       "289 wind_speed       64   -0.6785963   0.12605550 0.2389347 \n",
       "290 station_pressure 64    1.9282052   0.12605550 0.2389347 \n",
       "291 (Intercept)      65    6.3206693   0.11485708 0.2389381 \n",
       "292 dry_bulb_temp_f  65    0.1675727   0.11485708 0.2389381 \n",
       "293 precip           65   95.8740072   0.11485708 0.2389381 \n",
       "294 wind_speed       65   -0.6795342   0.11485708 0.2389381 \n",
       "295 station_pressure 65    1.9297513   0.11485708 0.2389381 \n",
       "296 (Intercept)      66    6.2867146   0.10465349 0.2389410 \n",
       "297 dry_bulb_temp_f  66    0.1675952   0.10465349 0.2389410 \n",
       "298 precip           66   95.9833274   0.10465349 0.2389410 \n",
       "299 wind_speed       66   -0.6803914   0.10465349 0.2389410 \n",
       "300 station_pressure 66    1.9311636   0.10465349 0.2389410 \n",
       "301 (Intercept)      67    6.2557518   0.09535637 0.2389433 \n",
       "302 dry_bulb_temp_f  67    0.1676153   0.09535637 0.2389433 \n",
       "303 precip           67   96.0830327   0.09535637 0.2389433 \n",
       "304 wind_speed       67   -0.6811735   0.09535637 0.2389433 \n",
       "305 station_pressure 67    1.9324524   0.09535637 0.2389433 "
      ]
     },
     "metadata": {},
     "output_type": "display_data"
    },
    {
     "data": {
      "text/html": [
       "38.9138836717212"
      ],
      "text/latex": [
       "38.9138836717212"
      ],
      "text/markdown": [
       "38.9138836717212"
      ],
      "text/plain": [
       "[1] 38.91388"
      ]
     },
     "metadata": {},
     "output_type": "display_data"
    },
    {
     "data": {
      "text/html": [
       "6.2380993637262"
      ],
      "text/latex": [
       "6.2380993637262"
      ],
      "text/markdown": [
       "6.2380993637262"
      ],
      "text/plain": [
       "[1] 6.238099"
      ]
     },
     "metadata": {},
     "output_type": "display_data"
    },
    {
     "data": {
      "text/html": [
       "0.00687154381467353"
      ],
      "text/latex": [
       "0.00687154381467353"
      ],
      "text/markdown": [
       "0.00687154381467353"
      ],
      "text/plain": [
       "[1] 0.006871544"
      ]
     },
     "metadata": {},
     "output_type": "display_data"
    },
    {
     "name": "stderr",
     "output_type": "stream",
     "text": [
      "`geom_smooth()` using formula 'y ~ x'\n"
     ]
    },
    {
     "data": {},
     "metadata": {},
     "output_type": "display_data"
    },
    {
     "data": {
      "image/png": "[encoded data removed]",
      "text/plain": [
       "plot without title"
      ]
     },
     "metadata": {},
     "output_type": "display_data",
     "source": "R display func"
    }
   ],
   "source": [
    "linear_model8 <- lm(wind_speed ~ precip, data = test_data)\n",
    "summary(linear_model2)\n",
    "\n",
    "weather_recipe4 <-\n",
    "  recipe(wind_speed ~ ., data = test_data)\n",
    "\n",
    "el_spec <- linear_reg(penalty = 0.5, mixture = 0.2) %>%\n",
    "  set_engine(\"glmnet\")\n",
    "\n",
    "el_wf <- workflow() %>%\n",
    "  add_recipe(weather_recipe)\n",
    "\n",
    "el_fit <- el_wf %>%\n",
    "  add_model(el_spec) %>%\n",
    "  fit(data = test_data)\n",
    "\n",
    "el_fit %>%\n",
    "  pull_workflow_fit() %>%\n",
    "  tidy()\n",
    "\n",
    "mse <- mean(linear_model8$residuals^2)\n",
    "mse\n",
    "\n",
    "rmse <- sqrt(mse)\n",
    "rmse\n",
    "\n",
    "summary(linear_model8)$r.squared\n",
    "\n",
    "ggplot(linear_model8, aes(x = wind_speed, y = precip)) +\n",
    "  geom_point() + \n",
    "  stat_smooth(method = \"lm\", col = \"red\")"
   ]
  },
  {
   "cell_type": "markdown",
   "metadata": {},
   "source": [
    "## Author(s)\n",
    "\n",
    "<h4> Yiwen Li </h4>\n",
    "\n",
    "## Contributions\n",
    "\n",
    "<h4> Tiffany Zhu </h4>\n",
    "\n",
    "## <h3 align=\"center\"> © IBM Corporation 2021. All rights reserved. <h3/>\n"
   ]
  }
 ],
 "metadata": {
  "kernelspec": {
   "display_name": "R",
   "language": "R",
   "name": "conda-env-r-r"
  },
  "language_info": {
   "codemirror_mode": "r",
   "file_extension": ".r",
   "mimetype": "text/x-r-source",
   "name": "R",
   "pygments_lexer": "r",
   "version": "3.5.1"
  }
 },
 "nbformat": 4,
 "nbformat_minor": 4
}
